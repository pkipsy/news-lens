{
 "cells": [
  {
   "cell_type": "markdown",
   "metadata": {},
   "source": [
    "## Comparing Media Bias Scores"
   ]
  },
  {
   "cell_type": "markdown",
   "metadata": {},
   "source": [
    "Compares [All Sides Media](https://www.allsides.com/media-bias/media-bias-ratings) bias scores to the numerical ratings reported in [Filter Bubbles, Echo Chambers, and Online News Consumption](https://academic.oup.com/poq/article/80/S1/298/2223402#supplementary-data)."
   ]
  },
  {
   "cell_type": "code",
   "execution_count": 87,
   "metadata": {
    "collapsed": false
   },
   "outputs": [
    {
     "name": "stdout",
     "output_type": "stream",
     "text": [
      "Requirement already satisfied: fuzzywuzzy in /usr/local/envs/py3env/lib/python3.5/site-packages\n",
      "\u001b[33mYou are using pip version 9.0.3, however version 10.0.1 is available.\n",
      "You should consider upgrading via the 'pip install --upgrade pip' command.\u001b[0m\n",
      "Collecting python-Levenshtein\n",
      "Requirement already satisfied: setuptools in /usr/local/envs/py3env/lib/python3.5/site-packages (from python-Levenshtein)\n",
      "Installing collected packages: python-Levenshtein\n",
      "Successfully installed python-Levenshtein-0.12.0\n",
      "\u001b[33mYou are using pip version 9.0.3, however version 10.0.1 is available.\n",
      "You should consider upgrading via the 'pip install --upgrade pip' command.\u001b[0m\n"
     ]
    }
   ],
   "source": [
    "# install necessary packages\n",
    "!pip install fuzzywuzzy\n",
    "!pip install python-Levenshtein"
   ]
  },
  {
   "cell_type": "code",
   "execution_count": 144,
   "metadata": {
    "collapsed": true
   },
   "outputs": [],
   "source": [
    "# import modules\n",
    "import pandas as pd\n",
    "from fuzzywuzzy import fuzz"
   ]
  },
  {
   "cell_type": "code",
   "execution_count": 145,
   "metadata": {
    "collapsed": false
   },
   "outputs": [
    {
     "data": {
      "text/html": [
       "<div>\n",
       "<style scoped>\n",
       "    .dataframe tbody tr th:only-of-type {\n",
       "        vertical-align: middle;\n",
       "    }\n",
       "\n",
       "    .dataframe tbody tr th {\n",
       "        vertical-align: top;\n",
       "    }\n",
       "\n",
       "    .dataframe thead th {\n",
       "        text-align: right;\n",
       "    }\n",
       "</style>\n",
       "<table border=\"1\" class=\"dataframe\">\n",
       "  <thead>\n",
       "    <tr style=\"text-align: right;\">\n",
       "      <th></th>\n",
       "      <th>orgs</th>\n",
       "      <th>sources</th>\n",
       "      <th>scores</th>\n",
       "    </tr>\n",
       "  </thead>\n",
       "  <tbody>\n",
       "    <tr>\n",
       "      <th>0</th>\n",
       "      <td>Times of India</td>\n",
       "      <td>timesofindia.indiatimes.com</td>\n",
       "      <td>0.04</td>\n",
       "    </tr>\n",
       "    <tr>\n",
       "      <th>1</th>\n",
       "      <td>The Economist</td>\n",
       "      <td>economist.com</td>\n",
       "      <td>0.12</td>\n",
       "    </tr>\n",
       "    <tr>\n",
       "      <th>2</th>\n",
       "      <td>North Jersey.com</td>\n",
       "      <td>northjersey.com</td>\n",
       "      <td>0.14</td>\n",
       "    </tr>\n",
       "    <tr>\n",
       "      <th>3</th>\n",
       "      <td>Orange Country Register</td>\n",
       "      <td>ocregister.com</td>\n",
       "      <td>0.15</td>\n",
       "    </tr>\n",
       "    <tr>\n",
       "      <th>4</th>\n",
       "      <td>San Jose Mercury News</td>\n",
       "      <td>mercurynews.com</td>\n",
       "      <td>0.17</td>\n",
       "    </tr>\n",
       "  </tbody>\n",
       "</table>\n",
       "</div>"
      ],
      "text/plain": [
       "                      orgs                      sources  scores\n",
       "0           Times of India  timesofindia.indiatimes.com    0.04\n",
       "1            The Economist                economist.com    0.12\n",
       "2         North Jersey.com              northjersey.com    0.14\n",
       "3  Orange Country Register               ocregister.com    0.15\n",
       "4    San Jose Mercury News              mercurynews.com    0.17"
      ]
     },
     "execution_count": 145,
     "metadata": {},
     "output_type": "execute_result"
    }
   ],
   "source": [
    "# open \"filter bubble\" bias scores from csv\n",
    "df1 = pd.read_csv('filter-bubbles-bias.csv', sep='\\t', encoding='utf-8')\n",
    "df1 = df1.loc[:, ['orgs', 'sources', 'scores']]\n",
    "df1.head()"
   ]
  },
  {
   "cell_type": "code",
   "execution_count": 146,
   "metadata": {
    "collapsed": false
   },
   "outputs": [
    {
     "data": {
      "text/html": [
       "<div>\n",
       "<style scoped>\n",
       "    .dataframe tbody tr th:only-of-type {\n",
       "        vertical-align: middle;\n",
       "    }\n",
       "\n",
       "    .dataframe tbody tr th {\n",
       "        vertical-align: top;\n",
       "    }\n",
       "\n",
       "    .dataframe thead th {\n",
       "        text-align: right;\n",
       "    }\n",
       "</style>\n",
       "<table border=\"1\" class=\"dataframe\">\n",
       "  <thead>\n",
       "    <tr style=\"text-align: right;\">\n",
       "      <th></th>\n",
       "      <th>orgs</th>\n",
       "      <th>bias</th>\n",
       "    </tr>\n",
       "  </thead>\n",
       "  <tbody>\n",
       "    <tr>\n",
       "      <th>0</th>\n",
       "      <td>AARP</td>\n",
       "      <td>3</td>\n",
       "    </tr>\n",
       "    <tr>\n",
       "      <th>1</th>\n",
       "      <td>ABC News</td>\n",
       "      <td>2</td>\n",
       "    </tr>\n",
       "    <tr>\n",
       "      <th>2</th>\n",
       "      <td>Accuracy in Media</td>\n",
       "      <td>5</td>\n",
       "    </tr>\n",
       "    <tr>\n",
       "      <th>3</th>\n",
       "      <td>ACLU</td>\n",
       "      <td>2</td>\n",
       "    </tr>\n",
       "    <tr>\n",
       "      <th>4</th>\n",
       "      <td>Al Cardenas</td>\n",
       "      <td>5</td>\n",
       "    </tr>\n",
       "  </tbody>\n",
       "</table>\n",
       "</div>"
      ],
      "text/plain": [
       "                orgs bias\n",
       "0               AARP    3\n",
       "1           ABC News    2\n",
       "2  Accuracy in Media    5\n",
       "3               ACLU    2\n",
       "4        Al Cardenas    5"
      ]
     },
     "execution_count": 146,
     "metadata": {},
     "output_type": "execute_result"
    }
   ],
   "source": [
    "# open \"all sides\" bias scores from csv\n",
    "df2 = pd.read_csv('allsides-media-bias-ratings.csv', encoding='utf-8')\n",
    "\n",
    "# rename News Source to match with df1\n",
    "df2 = df2.rename(index=str, columns={\"News Source\": \"orgs\", \"Media Bias Rating\": \"bias\"})\n",
    "\n",
    "# convert bias label to numbers\n",
    "df2['bias'] = df2['bias'].replace({'Left': 1, 'Lean Left': 2, 'Center': 3, 'Lean Right':4, 'Right':5})\n",
    "df2.head()"
   ]
  },
  {
   "cell_type": "code",
   "execution_count": 147,
   "metadata": {
    "collapsed": false
   },
   "outputs": [
    {
     "data": {
      "text/html": [
       "<div>\n",
       "<style scoped>\n",
       "    .dataframe tbody tr th:only-of-type {\n",
       "        vertical-align: middle;\n",
       "    }\n",
       "\n",
       "    .dataframe tbody tr th {\n",
       "        vertical-align: top;\n",
       "    }\n",
       "\n",
       "    .dataframe thead th {\n",
       "        text-align: right;\n",
       "    }\n",
       "</style>\n",
       "<table border=\"1\" class=\"dataframe\">\n",
       "  <thead>\n",
       "    <tr style=\"text-align: right;\">\n",
       "      <th></th>\n",
       "      <th>orgs</th>\n",
       "      <th>bias</th>\n",
       "      <th>sources</th>\n",
       "      <th>scores</th>\n",
       "    </tr>\n",
       "  </thead>\n",
       "  <tbody>\n",
       "    <tr>\n",
       "      <th>0</th>\n",
       "      <td>AARP</td>\n",
       "      <td>3</td>\n",
       "      <td>NaN</td>\n",
       "      <td>NaN</td>\n",
       "    </tr>\n",
       "    <tr>\n",
       "      <th>1</th>\n",
       "      <td>ABC News</td>\n",
       "      <td>2</td>\n",
       "      <td>abcnews.go.com</td>\n",
       "      <td>0.48</td>\n",
       "    </tr>\n",
       "    <tr>\n",
       "      <th>2</th>\n",
       "      <td>Accuracy in Media</td>\n",
       "      <td>5</td>\n",
       "      <td>NaN</td>\n",
       "      <td>NaN</td>\n",
       "    </tr>\n",
       "    <tr>\n",
       "      <th>3</th>\n",
       "      <td>ACLU</td>\n",
       "      <td>2</td>\n",
       "      <td>NaN</td>\n",
       "      <td>NaN</td>\n",
       "    </tr>\n",
       "    <tr>\n",
       "      <th>4</th>\n",
       "      <td>Al Cardenas</td>\n",
       "      <td>5</td>\n",
       "      <td>NaN</td>\n",
       "      <td>NaN</td>\n",
       "    </tr>\n",
       "  </tbody>\n",
       "</table>\n",
       "</div>"
      ],
      "text/plain": [
       "                orgs bias         sources  scores\n",
       "0               AARP    3             NaN     NaN\n",
       "1           ABC News    2  abcnews.go.com    0.48\n",
       "2  Accuracy in Media    5             NaN     NaN\n",
       "3               ACLU    2             NaN     NaN\n",
       "4        Al Cardenas    5             NaN     NaN"
      ]
     },
     "execution_count": 147,
     "metadata": {},
     "output_type": "execute_result"
    }
   ],
   "source": [
    "# combine dataframes\n",
    "def combine_df(df1, df2):\n",
    "    # merge dfs\n",
    "    combine = pd.merge(df1, df2, how='outer', on=\"orgs\")\n",
    "    \n",
    "    return combine\n",
    "  \n",
    "combine = combine_df(df2, df1)\n",
    "combine.head()"
   ]
  },
  {
   "cell_type": "markdown",
   "metadata": {},
   "source": [
    "### Merge Non-Identical Media Listings with Fuzzy Matching"
   ]
  },
  {
   "cell_type": "code",
   "execution_count": 82,
   "metadata": {
    "collapsed": false
   },
   "outputs": [
    {
     "data": {
      "text/html": [
       "<div>\n",
       "<style scoped>\n",
       "    .dataframe tbody tr th:only-of-type {\n",
       "        vertical-align: middle;\n",
       "    }\n",
       "\n",
       "    .dataframe tbody tr th {\n",
       "        vertical-align: top;\n",
       "    }\n",
       "\n",
       "    .dataframe thead th {\n",
       "        text-align: right;\n",
       "    }\n",
       "</style>\n",
       "<table border=\"1\" class=\"dataframe\">\n",
       "  <thead>\n",
       "    <tr style=\"text-align: right;\">\n",
       "      <th></th>\n",
       "      <th>orgs</th>\n",
       "      <th>bias</th>\n",
       "      <th>sources</th>\n",
       "      <th>scores</th>\n",
       "    </tr>\n",
       "  </thead>\n",
       "  <tbody>\n",
       "    <tr>\n",
       "      <th>0</th>\n",
       "      <td>Times of India</td>\n",
       "      <td>NaN</td>\n",
       "      <td>timesofindia.indiatimes.com</td>\n",
       "      <td>0.04</td>\n",
       "    </tr>\n",
       "    <tr>\n",
       "      <th>1</th>\n",
       "      <td>North Jersey.com</td>\n",
       "      <td>NaN</td>\n",
       "      <td>northjersey.com</td>\n",
       "      <td>0.14</td>\n",
       "    </tr>\n",
       "    <tr>\n",
       "      <th>2</th>\n",
       "      <td>Orange Country Register</td>\n",
       "      <td>NaN</td>\n",
       "      <td>ocregister.com</td>\n",
       "      <td>0.15</td>\n",
       "    </tr>\n",
       "    <tr>\n",
       "      <th>3</th>\n",
       "      <td>NewJersey.com</td>\n",
       "      <td>NaN</td>\n",
       "      <td>nj.com</td>\n",
       "      <td>0.17</td>\n",
       "    </tr>\n",
       "    <tr>\n",
       "      <th>4</th>\n",
       "      <td>Baltimore Sun</td>\n",
       "      <td>NaN</td>\n",
       "      <td>baltimoresun.com</td>\n",
       "      <td>0.19</td>\n",
       "    </tr>\n",
       "  </tbody>\n",
       "</table>\n",
       "</div>"
      ],
      "text/plain": [
       "                      orgs bias                      sources  scores\n",
       "0           Times of India  NaN  timesofindia.indiatimes.com    0.04\n",
       "1         North Jersey.com  NaN              northjersey.com    0.14\n",
       "2  Orange Country Register  NaN               ocregister.com    0.15\n",
       "3            NewJersey.com  NaN                       nj.com    0.17\n",
       "4            Baltimore Sun  NaN             baltimoresun.com    0.19"
      ]
     },
     "execution_count": 82,
     "metadata": {},
     "output_type": "execute_result"
    }
   ],
   "source": [
    "# select orgs with missing scores\n",
    "missing_scores = combine[combine.bias.isnull()]\n",
    "\n",
    "# display results\n",
    "missing_scores.reset_index(inplace=True,drop='index')\n",
    "missing_scores.head()"
   ]
  },
  {
   "cell_type": "code",
   "execution_count": 90,
   "metadata": {
    "collapsed": false
   },
   "outputs": [],
   "source": [
    "# define function for string matching\n",
    "def match_name(name, list_names, min_score=0):\n",
    "    # -1 score for no matches\n",
    "    max_score = -1\n",
    "    # return empty name for no match\n",
    "    max_name = \"\"\n",
    "    # iternate over all names \n",
    "    for name2 in list_names:\n",
    "        # compute fuzzy match score\n",
    "        score = fuzz.ratio(name, name2)\n",
    "        # check if above threshold + better score\n",
    "        if (score > min_score) & (score > max_score):\n",
    "            max_name = name2\n",
    "            max_score = score\n",
    "    return (max_name, max_score)"
   ]
  },
  {
   "cell_type": "code",
   "execution_count": 89,
   "metadata": {
    "collapsed": false
   },
   "outputs": [
    {
     "data": {
      "text/html": [
       "<div>\n",
       "<style scoped>\n",
       "    .dataframe tbody tr th:only-of-type {\n",
       "        vertical-align: middle;\n",
       "    }\n",
       "\n",
       "    .dataframe tbody tr th {\n",
       "        vertical-align: top;\n",
       "    }\n",
       "\n",
       "    .dataframe thead th {\n",
       "        text-align: right;\n",
       "    }\n",
       "</style>\n",
       "<table border=\"1\" class=\"dataframe\">\n",
       "  <thead>\n",
       "    <tr style=\"text-align: right;\">\n",
       "      <th></th>\n",
       "      <th>match_name</th>\n",
       "      <th>org_name</th>\n",
       "      <th>score</th>\n",
       "    </tr>\n",
       "  </thead>\n",
       "  <tbody>\n",
       "    <tr>\n",
       "      <th>0</th>\n",
       "      <td>Orange County Register</td>\n",
       "      <td>Orange Country Register</td>\n",
       "      <td>98</td>\n",
       "    </tr>\n",
       "    <tr>\n",
       "      <th>1</th>\n",
       "      <td>The Jerusalem Post</td>\n",
       "      <td>Jerusalem Post</td>\n",
       "      <td>88</td>\n",
       "    </tr>\n",
       "    <tr>\n",
       "      <th>2</th>\n",
       "      <td>CU Independent</td>\n",
       "      <td>The Independent</td>\n",
       "      <td>83</td>\n",
       "    </tr>\n",
       "    <tr>\n",
       "      <th>3</th>\n",
       "      <td>Wall Street Journal- News</td>\n",
       "      <td>Wall Street Journal News.com (AU)</td>\n",
       "      <td>83</td>\n",
       "    </tr>\n",
       "    <tr>\n",
       "      <th>4</th>\n",
       "      <td>U.S. News &amp; World Report</td>\n",
       "      <td>US News and World Report</td>\n",
       "      <td>88</td>\n",
       "    </tr>\n",
       "    <tr>\n",
       "      <th>5</th>\n",
       "      <td>AlterNet</td>\n",
       "      <td>Alternet</td>\n",
       "      <td>88</td>\n",
       "    </tr>\n",
       "    <tr>\n",
       "      <th>6</th>\n",
       "      <td>Raw Story</td>\n",
       "      <td>The Raw Story</td>\n",
       "      <td>82</td>\n",
       "    </tr>\n",
       "    <tr>\n",
       "      <th>7</th>\n",
       "      <td>Los Angeles Times</td>\n",
       "      <td>Los Angleles Times</td>\n",
       "      <td>97</td>\n",
       "    </tr>\n",
       "    <tr>\n",
       "      <th>8</th>\n",
       "      <td>RealClearPolitics</td>\n",
       "      <td>Real Clear Politics</td>\n",
       "      <td>94</td>\n",
       "    </tr>\n",
       "    <tr>\n",
       "      <th>9</th>\n",
       "      <td>Yahoo News</td>\n",
       "      <td>Yahoo! News</td>\n",
       "      <td>95</td>\n",
       "    </tr>\n",
       "    <tr>\n",
       "      <th>10</th>\n",
       "      <td>ABC News</td>\n",
       "      <td>NBC News</td>\n",
       "      <td>88</td>\n",
       "    </tr>\n",
       "    <tr>\n",
       "      <th>11</th>\n",
       "      <td>National Review</td>\n",
       "      <td>The National Review</td>\n",
       "      <td>88</td>\n",
       "    </tr>\n",
       "    <tr>\n",
       "      <th>12</th>\n",
       "      <td>FactCheck.org</td>\n",
       "      <td>factcheck.org</td>\n",
       "      <td>85</td>\n",
       "    </tr>\n",
       "    <tr>\n",
       "      <th>13</th>\n",
       "      <td>Yes! Magazine</td>\n",
       "      <td>Reason Magazine</td>\n",
       "      <td>79</td>\n",
       "    </tr>\n",
       "    <tr>\n",
       "      <th>14</th>\n",
       "      <td>Breitbart News</td>\n",
       "      <td>Breitbart</td>\n",
       "      <td>78</td>\n",
       "    </tr>\n",
       "  </tbody>\n",
       "</table>\n",
       "</div>"
      ],
      "text/plain": [
       "                   match_name                           org_name  score\n",
       "0      Orange County Register            Orange Country Register     98\n",
       "1          The Jerusalem Post                     Jerusalem Post     88\n",
       "2              CU Independent                    The Independent     83\n",
       "3   Wall Street Journal- News  Wall Street Journal News.com (AU)     83\n",
       "4    U.S. News & World Report           US News and World Report     88\n",
       "5                    AlterNet                           Alternet     88\n",
       "6                   Raw Story                      The Raw Story     82\n",
       "7           Los Angeles Times                 Los Angleles Times     97\n",
       "8           RealClearPolitics                Real Clear Politics     94\n",
       "9                  Yahoo News                        Yahoo! News     95\n",
       "10                   ABC News                           NBC News     88\n",
       "11            National Review                The National Review     88\n",
       "12              FactCheck.org                      factcheck.org     85\n",
       "13              Yes! Magazine                    Reason Magazine     79\n",
       "14             Breitbart News                          Breitbart     78"
      ]
     },
     "execution_count": 89,
     "metadata": {},
     "output_type": "execute_result"
    }
   ],
   "source": [
    "# iterate over orgs without scores\n",
    "dict_list = []\n",
    "for name in missing_scores.orgs:\n",
    "    # find best match above threshold\n",
    "    match = match_name(name, df2.orgs, 75)\n",
    "    \n",
    "    # store data to dict\n",
    "    dict_ = {}\n",
    "    if match[1] > 0:\n",
    "      dict_.update({\"org_name\" : name})\n",
    "      dict_.update({\"match_name\" : match[0]})\n",
    "      dict_.update({\"score\" : match[1]})\n",
    "      dict_list.append(dict_)\n",
    "    \n",
    "merge_table = pd.DataFrame(dict_list)\n",
    "# Display results\n",
    "merge_table"
   ]
  },
  {
   "cell_type": "code",
   "execution_count": 123,
   "metadata": {
    "collapsed": false
   },
   "outputs": [
    {
     "data": {
      "text/plain": [
       "{'Alternet': 'AlterNet',\n",
       " 'Breitbart': 'Breitbart News',\n",
       " 'Jerusalem Post': 'The Jerusalem Post',\n",
       " 'Los Angleles Times': 'Los Angeles Times',\n",
       " 'NBC News': 'ABC News',\n",
       " 'Orange Country Register': 'Orange County Register',\n",
       " 'Real Clear Politics': 'RealClearPolitics',\n",
       " 'Reason Magazine': 'Yes! Magazine',\n",
       " 'The Independent': 'CU Independent',\n",
       " 'The National Review': 'National Review',\n",
       " 'The Raw Story': 'Raw Story',\n",
       " 'US News and World Report': 'U.S. News & World Report',\n",
       " 'Wall Street Journal News.com (AU)': 'Wall Street Journal- News',\n",
       " 'Yahoo! News': 'Yahoo News',\n",
       " 'factcheck.org': 'FactCheck.org'}"
      ]
     },
     "execution_count": 123,
     "metadata": {},
     "output_type": "execute_result"
    }
   ],
   "source": [
    "# translate merge table into a dictionary\n",
    "match_dict = dict(zip(merge_table.org_name, merge_table.match_name))\n",
    "match_dict"
   ]
  },
  {
   "cell_type": "code",
   "execution_count": 157,
   "metadata": {
    "collapsed": false
   },
   "outputs": [],
   "source": [
    "# update df1 with match values\n",
    "def update_df(df):\n",
    "  for key in match_dict:\n",
    "    df['orgs'] = df['orgs'].replace(key, match_dict[key])\n",
    "  return df\n",
    "\n",
    "df1 = update_df(df1)"
   ]
  },
  {
   "cell_type": "code",
   "execution_count": 158,
   "metadata": {
    "collapsed": true
   },
   "outputs": [],
   "source": [
    "# try combining the two dfs again\n",
    "combine = pd.merge(df1, df2, how='inner', on=\"orgs\")"
   ]
  },
  {
   "cell_type": "code",
   "execution_count": 159,
   "metadata": {
    "collapsed": false
   },
   "outputs": [
    {
     "data": {
      "text/plain": [
       "43"
      ]
     },
     "execution_count": 159,
     "metadata": {},
     "output_type": "execute_result"
    }
   ],
   "source": [
    "# check that the merge has produced more matches\n",
    "len(combine)"
   ]
  },
  {
   "cell_type": "code",
   "execution_count": 160,
   "metadata": {
    "collapsed": false
   },
   "outputs": [
    {
     "data": {
      "text/html": [
       "<div>\n",
       "<style scoped>\n",
       "    .dataframe tbody tr th:only-of-type {\n",
       "        vertical-align: middle;\n",
       "    }\n",
       "\n",
       "    .dataframe tbody tr th {\n",
       "        vertical-align: top;\n",
       "    }\n",
       "\n",
       "    .dataframe thead th {\n",
       "        text-align: right;\n",
       "    }\n",
       "</style>\n",
       "<table border=\"1\" class=\"dataframe\">\n",
       "  <thead>\n",
       "    <tr style=\"text-align: right;\">\n",
       "      <th></th>\n",
       "      <th>orgs</th>\n",
       "      <th>sources</th>\n",
       "      <th>scores</th>\n",
       "      <th>bias</th>\n",
       "    </tr>\n",
       "  </thead>\n",
       "  <tbody>\n",
       "    <tr>\n",
       "      <th>0</th>\n",
       "      <td>The Economist</td>\n",
       "      <td>economist.com</td>\n",
       "      <td>0.12</td>\n",
       "      <td>2</td>\n",
       "    </tr>\n",
       "    <tr>\n",
       "      <th>1</th>\n",
       "      <td>Orange County Register</td>\n",
       "      <td>ocregister.com</td>\n",
       "      <td>0.15</td>\n",
       "      <td>4</td>\n",
       "    </tr>\n",
       "    <tr>\n",
       "      <th>2</th>\n",
       "      <td>San Jose Mercury News</td>\n",
       "      <td>mercurynews.com</td>\n",
       "      <td>0.17</td>\n",
       "      <td>2</td>\n",
       "    </tr>\n",
       "    <tr>\n",
       "      <th>3</th>\n",
       "      <td>San Francisco Chronicle</td>\n",
       "      <td>sfgate.com</td>\n",
       "      <td>0.19</td>\n",
       "      <td>1</td>\n",
       "    </tr>\n",
       "    <tr>\n",
       "      <th>4</th>\n",
       "      <td>The Jerusalem Post</td>\n",
       "      <td>jpost.com</td>\n",
       "      <td>0.25</td>\n",
       "      <td>3</td>\n",
       "    </tr>\n",
       "  </tbody>\n",
       "</table>\n",
       "</div>"
      ],
      "text/plain": [
       "                      orgs          sources  scores bias\n",
       "0            The Economist    economist.com    0.12    2\n",
       "1   Orange County Register   ocregister.com    0.15    4\n",
       "2    San Jose Mercury News  mercurynews.com    0.17    2\n",
       "3  San Francisco Chronicle       sfgate.com    0.19    1\n",
       "4       The Jerusalem Post        jpost.com    0.25    3"
      ]
     },
     "execution_count": 160,
     "metadata": {},
     "output_type": "execute_result"
    }
   ],
   "source": [
    "combine.head()"
   ]
  },
  {
   "cell_type": "markdown",
   "metadata": {},
   "source": [
    "### Examine Relationship"
   ]
  },
  {
   "cell_type": "code",
   "execution_count": 135,
   "metadata": {
    "collapsed": false
   },
   "outputs": [
    {
     "data": {
      "text/plain": [
       "<matplotlib.axes._subplots.AxesSubplot at 0x7f104e14b4e0>"
      ]
     },
     "execution_count": 135,
     "metadata": {},
     "output_type": "execute_result"
    },
    {
     "name": "stderr",
     "output_type": "stream",
     "text": [
      "/usr/local/envs/py3env/lib/python3.5/site-packages/matplotlib/font_manager.py:1320: UserWarning: findfont: Font family ['sans-serif'] not found. Falling back to DejaVu Sans\n",
      "  (prop.get_family(), self.defaultFamily[fontext]))\n"
     ]
    },
    {
     "data": {
      "image/png": "[encoded data removed]",
      "text/plain": [
       "<matplotlib.figure.Figure at 0x7f105ca93128>"
      ]
     },
     "metadata": {},
     "output_type": "display_data"
    }
   ],
   "source": [
    "# plot relationship\n",
    "import seaborn as sns\n",
    "sns.regplot(x=combine[\"bias\"], y=combine[\"scores\"], fit_reg=False)"
   ]
  },
  {
   "cell_type": "code",
   "execution_count": 161,
   "metadata": {
    "collapsed": false
   },
   "outputs": [
    {
     "data": {
      "text/html": [
       "<div>\n",
       "<style scoped>\n",
       "    .dataframe tbody tr th:only-of-type {\n",
       "        vertical-align: middle;\n",
       "    }\n",
       "\n",
       "    .dataframe tbody tr th {\n",
       "        vertical-align: top;\n",
       "    }\n",
       "\n",
       "    .dataframe thead th {\n",
       "        text-align: right;\n",
       "    }\n",
       "</style>\n",
       "<table border=\"1\" class=\"dataframe\">\n",
       "  <thead>\n",
       "    <tr style=\"text-align: right;\">\n",
       "      <th></th>\n",
       "      <th>orgs</th>\n",
       "      <th>sources</th>\n",
       "      <th>scores</th>\n",
       "      <th>bias</th>\n",
       "    </tr>\n",
       "  </thead>\n",
       "  <tbody>\n",
       "    <tr>\n",
       "      <th>0</th>\n",
       "      <td>The Economist</td>\n",
       "      <td>economist.com</td>\n",
       "      <td>0.12</td>\n",
       "      <td>2</td>\n",
       "    </tr>\n",
       "    <tr>\n",
       "      <th>1</th>\n",
       "      <td>Orange County Register</td>\n",
       "      <td>ocregister.com</td>\n",
       "      <td>0.15</td>\n",
       "      <td>4</td>\n",
       "    </tr>\n",
       "    <tr>\n",
       "      <th>2</th>\n",
       "      <td>San Jose Mercury News</td>\n",
       "      <td>mercurynews.com</td>\n",
       "      <td>0.17</td>\n",
       "      <td>2</td>\n",
       "    </tr>\n",
       "    <tr>\n",
       "      <th>3</th>\n",
       "      <td>San Francisco Chronicle</td>\n",
       "      <td>sfgate.com</td>\n",
       "      <td>0.19</td>\n",
       "      <td>1</td>\n",
       "    </tr>\n",
       "    <tr>\n",
       "      <th>4</th>\n",
       "      <td>The Jerusalem Post</td>\n",
       "      <td>jpost.com</td>\n",
       "      <td>0.25</td>\n",
       "      <td>3</td>\n",
       "    </tr>\n",
       "  </tbody>\n",
       "</table>\n",
       "</div>"
      ],
      "text/plain": [
       "                      orgs          sources  scores bias\n",
       "0            The Economist    economist.com    0.12    2\n",
       "1   Orange County Register   ocregister.com    0.15    4\n",
       "2    San Jose Mercury News  mercurynews.com    0.17    2\n",
       "3  San Francisco Chronicle       sfgate.com    0.19    1\n",
       "4       The Jerusalem Post        jpost.com    0.25    3"
      ]
     },
     "execution_count": 161,
     "metadata": {},
     "output_type": "execute_result"
    }
   ],
   "source": [
    "combine.head()"
   ]
  },
  {
   "cell_type": "code",
   "execution_count": 172,
   "metadata": {
    "collapsed": false
   },
   "outputs": [],
   "source": [
    "#sns.lmplot(x=\"bias\", y=\"scores\", data=combine, fit_reg=False, size=30, aspect=2)\n",
    "\n",
    "#plt.title('Example Plot')\n",
    "# Set x-axis label\n",
    "#plt.xlabel('All Sides Bias')\n",
    "# Set y-axis label\n",
    "#plt.ylabel('Filter Bubble Score')\n",
    "\n",
    "#def label_point(x, y, val, ax):\n",
    " #   a = pd.concat({'x': x, 'y': y, 'val': val}, axis=1)\n",
    "  #  for i, point in a.iterrows():\n",
    "   #     ax.text(point['x']+0.3, point['y'], str(point['val']))\n",
    "\n",
    "#label_point(combine.scores, combine.bias, combine.orgs, plt.gca())  "
   ]
  },
  {
   "cell_type": "code",
   "execution_count": 136,
   "metadata": {
    "collapsed": false
   },
   "outputs": [
    {
     "data": {
      "text/html": [
       "<div>\n",
       "<style scoped>\n",
       "    .dataframe tbody tr th:only-of-type {\n",
       "        vertical-align: middle;\n",
       "    }\n",
       "\n",
       "    .dataframe tbody tr th {\n",
       "        vertical-align: top;\n",
       "    }\n",
       "\n",
       "    .dataframe thead th {\n",
       "        text-align: right;\n",
       "    }\n",
       "</style>\n",
       "<table border=\"1\" class=\"dataframe\">\n",
       "  <thead>\n",
       "    <tr style=\"text-align: right;\">\n",
       "      <th></th>\n",
       "      <th>scores</th>\n",
       "      <th>1</th>\n",
       "      <th>2</th>\n",
       "      <th>3</th>\n",
       "      <th>4</th>\n",
       "    </tr>\n",
       "  </thead>\n",
       "  <tbody>\n",
       "    <tr>\n",
       "      <th>0</th>\n",
       "      <td>0.04</td>\n",
       "      <td>0.0</td>\n",
       "      <td>1.0</td>\n",
       "      <td>0.0</td>\n",
       "      <td>0.0</td>\n",
       "    </tr>\n",
       "    <tr>\n",
       "      <th>1</th>\n",
       "      <td>0.12</td>\n",
       "      <td>0.0</td>\n",
       "      <td>0.0</td>\n",
       "      <td>0.0</td>\n",
       "      <td>1.0</td>\n",
       "    </tr>\n",
       "    <tr>\n",
       "      <th>2</th>\n",
       "      <td>0.14</td>\n",
       "      <td>0.0</td>\n",
       "      <td>1.0</td>\n",
       "      <td>0.0</td>\n",
       "      <td>0.0</td>\n",
       "    </tr>\n",
       "    <tr>\n",
       "      <th>3</th>\n",
       "      <td>0.15</td>\n",
       "      <td>1.0</td>\n",
       "      <td>0.0</td>\n",
       "      <td>0.0</td>\n",
       "      <td>0.0</td>\n",
       "    </tr>\n",
       "    <tr>\n",
       "      <th>4</th>\n",
       "      <td>0.17</td>\n",
       "      <td>0.0</td>\n",
       "      <td>0.0</td>\n",
       "      <td>1.0</td>\n",
       "      <td>0.0</td>\n",
       "    </tr>\n",
       "  </tbody>\n",
       "</table>\n",
       "</div>"
      ],
      "text/plain": [
       "   scores    1    2    3    4\n",
       "0    0.04  0.0  1.0  0.0  0.0\n",
       "1    0.12  0.0  0.0  0.0  1.0\n",
       "2    0.14  0.0  1.0  0.0  0.0\n",
       "3    0.15  1.0  0.0  0.0  0.0\n",
       "4    0.17  0.0  0.0  1.0  0.0"
      ]
     },
     "execution_count": 136,
     "metadata": {},
     "output_type": "execute_result"
    }
   ],
   "source": [
    "# plot correlation\n",
    "import numpy as np\n",
    "\n",
    "df_dummies = pd.get_dummies(combine['bias'])\n",
    "del df_dummies[df_dummies.columns[-1]]\n",
    "df_new = pd.concat([df, df_dummies], axis=1)\n",
    "del df_new['orgs']\n",
    "del df_new['sources']\n",
    "df_new = df_new.iloc[0:28]\n",
    "df_new.head()"
   ]
  },
  {
   "cell_type": "code",
   "execution_count": 137,
   "metadata": {
    "collapsed": false
   },
   "outputs": [
    {
     "name": "stdout",
     "output_type": "stream",
     "text": [
      "[[ 1.          0.0391738  -0.15103649  0.24594014 -0.31309753]\n",
      " [ 0.0391738   1.         -0.40378643 -0.34752402 -0.08973032]\n",
      " [-0.15103649 -0.40378643  1.         -0.64549722 -0.16666667]\n",
      " [ 0.24594014 -0.34752402 -0.64549722  1.         -0.14344383]\n",
      " [-0.31309753 -0.08973032 -0.16666667 -0.14344383  1.        ]]\n"
     ]
    }
   ],
   "source": [
    "x = df_new.values\n",
    "correlation_matrix = np.corrcoef(x.T)\n",
    "print(correlation_matrix)"
   ]
  },
  {
   "cell_type": "code",
   "execution_count": 138,
   "metadata": {
    "collapsed": false
   },
   "outputs": [
    {
     "name": "stderr",
     "output_type": "stream",
     "text": [
      "/usr/local/envs/py3env/lib/python3.5/site-packages/matplotlib/font_manager.py:1320: UserWarning: findfont: Font family ['sans-serif'] not found. Falling back to DejaVu Sans\n",
      "  (prop.get_family(), self.defaultFamily[fontext]))\n"
     ]
    },
    {
     "data": {
      "text/plain": [
       "<matplotlib.axes._subplots.AxesSubplot at 0x7f104e148e48>"
      ]
     },
     "execution_count": 138,
     "metadata": {},
     "output_type": "execute_result"
    },
    {
     "data": {
      "image/png": "[encoded data removed]",
      "text/plain": [
       "<matplotlib.figure.Figure at 0x7f104e1c68d0>"
      ]
     },
     "metadata": {},
     "output_type": "display_data"
    }
   ],
   "source": [
    "from string import ascii_letters\n",
    "import matplotlib.pyplot as plt\n",
    "\n",
    "sns.set(style=\"white\")\n",
    "# Compute the correlation matrix\n",
    "corr = correlation_matrix\n",
    "\n",
    "# Generate a mask for the upper triangle\n",
    "mask = np.zeros_like(corr, dtype=np.bool)\n",
    "mask[np.triu_indices_from(mask)] = True\n",
    "\n",
    "# Set up the matplotlib figure\n",
    "f, ax = plt.subplots(figsize=(11, 9))\n",
    "\n",
    "# Generate a custom diverging colormap\n",
    "cmap = sns.diverging_palette(220, 10, as_cmap=True)\n",
    "\n",
    "# Draw the heatmap with the mask and correct aspect ratio\n",
    "sns.heatmap(corr, mask=mask, cmap=cmap, vmax=.3, center=0,\n",
    "            square=True, linewidths=.5, cbar_kws={\"shrink\": .5})"
   ]
  }
 ],
 "metadata": {
  "kernelspec": {
   "display_name": "Python 3",
   "language": "python",
   "name": "python3"
  },
  "language_info": {
   "codemirror_mode": {
    "name": "ipython",
    "version": 3
   },
   "file_extension": ".py",
   "mimetype": "text/x-python",
   "name": "python",
   "nbconvert_exporter": "python",
   "pygments_lexer": "ipython3",
   "version": "3.5.5"
  }
 },
 "nbformat": 4,
 "nbformat_minor": 2
}
