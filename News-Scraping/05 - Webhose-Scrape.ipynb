{
 "cells": [
  {
   "cell_type": "markdown",
   "metadata": {
    "deletable": true,
    "editable": true
   },
   "source": [
    "# Scrape Latest News from Webhose.io"
   ]
  },
  {
   "cell_type": "markdown",
   "metadata": {
    "deletable": true,
    "editable": true
   },
   "source": [
    "### Get Started with [Webhose](https://github.com/Webhose/webhoseio-python)"
   ]
  },
  {
   "cell_type": "code",
   "execution_count": null,
   "metadata": {
    "collapsed": false,
    "deletable": true,
    "editable": true
   },
   "outputs": [],
   "source": [
    "!pip install webhoseio"
   ]
  },
  {
   "cell_type": "markdown",
   "metadata": {
    "deletable": true,
    "editable": true
   },
   "source": [
    "### Configure Crawls for NYTimes / Fox / Reuters"
   ]
  },
  {
   "cell_type": "markdown",
   "metadata": {
    "deletable": true,
    "editable": true
   },
   "source": [
    "These crawls are configured to extract English language texts published in the US over the last thirty days from select media organizations."
   ]
  },
  {
   "cell_type": "code",
   "execution_count": 2,
   "metadata": {
    "collapsed": false,
    "deletable": true,
    "editable": true
   },
   "outputs": [],
   "source": [
    "import webhoseio\n",
    "webhoseio.config(token=SECRET_TOKEN)"
   ]
  },
  {
   "cell_type": "markdown",
   "metadata": {
    "deletable": true,
    "editable": true
   },
   "source": [
    "### Conservative Sites"
   ]
  },
  {
   "cell_type": "code",
   "execution_count": 3,
   "metadata": {
    "collapsed": false,
    "deletable": true,
    "editable": true
   },
   "outputs": [],
   "source": [
    "# FoxNews Crawl\n",
    "fox_query_params = {\n",
    "\"q\": \"language:english thread.country:US site_type:news site_category:media is_first:true site:foxnews.com\",\n",
    "\"ts\": \"1528084091530\",\n",
    "\"sort\": \"crawled\"\n",
    "    }\n",
    "    \n",
    "fox_output = webhoseio.query(\"filterWebContent\", fox_query_params)"
   ]
  },
  {
   "cell_type": "code",
   "execution_count": 4,
   "metadata": {
    "collapsed": false,
    "deletable": true,
    "editable": true
   },
   "outputs": [
    {
     "name": "stdout",
     "output_type": "stream",
     "text": [
      "Total Results:  4304\n"
     ]
    }
   ],
   "source": [
    "print('Total Results: ', str(fox_output['totalResults']))\n",
    "#print(fox_output['posts'][0]['text']) # Print the text of the first post\n",
    "#print(fox_output['posts'][0]['published']) # Print the text of the first post publication date"
   ]
  },
  {
   "cell_type": "code",
   "execution_count": 5,
   "metadata": {
    "collapsed": true,
    "deletable": true,
    "editable": true
   },
   "outputs": [],
   "source": [
    "# Breitbart Crawl\n",
    "breitbart_query_params = {\n",
    "\"q\": \"language:english thread.country:US site_type:news site_category:media is_first:true site:breitbart.com\",\n",
    "\"ts\": \"1528084091530\",\n",
    "\"sort\": \"crawled\"\n",
    "    }\n",
    "    \n",
    "breitbart_output = webhoseio.query(\"filterWebContent\", breitbart_query_params)"
   ]
  },
  {
   "cell_type": "code",
   "execution_count": 6,
   "metadata": {
    "collapsed": false,
    "deletable": true,
    "editable": true
   },
   "outputs": [
    {
     "name": "stdout",
     "output_type": "stream",
     "text": [
      "Total Results:  2036\n"
     ]
    }
   ],
   "source": [
    "print('Total Results: ', str(breitbart_output['totalResults']))"
   ]
  },
  {
   "cell_type": "code",
   "execution_count": 7,
   "metadata": {
    "collapsed": true,
    "deletable": true,
    "editable": true
   },
   "outputs": [],
   "source": [
    "# Washington Times Crawl\n",
    "washtimes_query_params = {\n",
    "\"q\": \"language:english thread.country:US site_type:news site_category:media is_first:true site:washingtontimes.com\",\n",
    "\"ts\": \"1528084091530\",\n",
    "\"sort\": \"crawled\"\n",
    "    }\n",
    "    \n",
    "washtimes_output = webhoseio.query(\"filterWebContent\", washtimes_query_params)"
   ]
  },
  {
   "cell_type": "code",
   "execution_count": 9,
   "metadata": {
    "collapsed": false,
    "deletable": true,
    "editable": true
   },
   "outputs": [
    {
     "name": "stdout",
     "output_type": "stream",
     "text": [
      "Total Results:  7524\n"
     ]
    }
   ],
   "source": [
    "print('Total Results: ', str(washtimes_output['totalResults']))"
   ]
  },
  {
   "cell_type": "markdown",
   "metadata": {
    "deletable": true,
    "editable": true
   },
   "source": [
    "### Liberal Sites"
   ]
  },
  {
   "cell_type": "code",
   "execution_count": 91,
   "metadata": {
    "collapsed": false,
    "deletable": true,
    "editable": true
   },
   "outputs": [],
   "source": [
    "# NY Times Post Crawl\n",
    "nytimes_query_params = {\n",
    "\"q\": \"language:english thread.country:US site_type:news site_category:media is_first:true site:nytimes.com\",\n",
    "\"ts\": \"1528084091530\",\n",
    "\"sort\": \"crawled\"\n",
    "    }\n",
    "    \n",
    "nytimes_output = webhoseio.query(\"filterWebContent\", nytimes_query_params)"
   ]
  },
  {
   "cell_type": "code",
   "execution_count": null,
   "metadata": {
    "collapsed": false,
    "deletable": true,
    "editable": true
   },
   "outputs": [],
   "source": [
    "print('Total Results: ', str(nytimes_output['totalResults']))"
   ]
  },
  {
   "cell_type": "code",
   "execution_count": 14,
   "metadata": {
    "collapsed": true,
    "deletable": true,
    "editable": true
   },
   "outputs": [],
   "source": [
    "# Huffington Post Crawl\n",
    "huffpo_query_params = {\n",
    "\"q\": \"language:english thread.country:US site_type:news site_category:media is_first:true site:huffingtonpost.com\",\n",
    "\"ts\": \"1528084091530\",\n",
    "\"sort\": \"crawled\"\n",
    "    }\n",
    "    \n",
    "huffpo_output = webhoseio.query(\"filterWebContent\", huffpo_query_params)"
   ]
  },
  {
   "cell_type": "code",
   "execution_count": 16,
   "metadata": {
    "collapsed": false,
    "deletable": true,
    "editable": true
   },
   "outputs": [
    {
     "name": "stdout",
     "output_type": "stream",
     "text": [
      "Total Results:  2535\n"
     ]
    }
   ],
   "source": [
    "print('Total Results: ', str(huffpo_output['totalResults']))"
   ]
  },
  {
   "cell_type": "code",
   "execution_count": 60,
   "metadata": {
    "collapsed": true,
    "deletable": true,
    "editable": true
   },
   "outputs": [],
   "source": [
    "# CNN Crawl\n",
    "cnn_query_params = {\n",
    "\"q\": \"language:english thread.country:US site_type:news site_category:media is_first:true site:cnn.com\",\n",
    "\"ts\": \"1528084091530\",\n",
    "\"sort\": \"crawled\"\n",
    "    }\n",
    "    \n",
    "cnn_output = webhoseio.query(\"filterWebContent\", cnn_query_params)"
   ]
  },
  {
   "cell_type": "code",
   "execution_count": 61,
   "metadata": {
    "collapsed": false,
    "deletable": true,
    "editable": true
   },
   "outputs": [
    {
     "name": "stdout",
     "output_type": "stream",
     "text": [
      "Total Results:  7629\n"
     ]
    }
   ],
   "source": [
    "print('Total Results: ', str(cnn_output['totalResults']))"
   ]
  },
  {
   "cell_type": "markdown",
   "metadata": {
    "deletable": true,
    "editable": true
   },
   "source": [
    "### Centrist Sites"
   ]
  },
  {
   "cell_type": "code",
   "execution_count": 45,
   "metadata": {
    "collapsed": true,
    "deletable": true,
    "editable": true
   },
   "outputs": [],
   "source": [
    "# Reuters Crawl\n",
    "reuters_query_params = {\n",
    "\"q\": \"language:english thread.country:US site_type:news site_category:media is_first:true site:reuters.com\",\n",
    "\"ts\": \"1528084091530\",\n",
    "\"sort\": \"crawled\"\n",
    "    }\n",
    "    \n",
    "reuters_output = webhoseio.query(\"filterWebContent\", reuters_query_params)"
   ]
  },
  {
   "cell_type": "code",
   "execution_count": 46,
   "metadata": {
    "collapsed": false,
    "deletable": true,
    "editable": true
   },
   "outputs": [
    {
     "name": "stdout",
     "output_type": "stream",
     "text": [
      "Total Results:  26156\n"
     ]
    }
   ],
   "source": [
    "print('Total Results: ', str(reuters_output['totalResults']))"
   ]
  },
  {
   "cell_type": "code",
   "execution_count": 27,
   "metadata": {
    "collapsed": false,
    "deletable": true,
    "editable": true
   },
   "outputs": [],
   "source": [
    "# NPR Crawl\n",
    "npr_query_params = {\n",
    "\"q\": \"language:english thread.country:US site_type:news site_category:media is_first:true site:npr.org\",\n",
    "\"ts\": \"1528084091530\",\n",
    "\"sort\": \"crawled\"\n",
    "    }\n",
    "    \n",
    "npr_output = webhoseio.query(\"filterWebContent\", npr_query_params)"
   ]
  },
  {
   "cell_type": "code",
   "execution_count": 28,
   "metadata": {
    "collapsed": false,
    "deletable": true,
    "editable": true
   },
   "outputs": [
    {
     "name": "stdout",
     "output_type": "stream",
     "text": [
      "Total Results:  2908\n"
     ]
    }
   ],
   "source": [
    "print('Total Results: ', str(npr_output['totalResults']))"
   ]
  },
  {
   "cell_type": "code",
   "execution_count": 29,
   "metadata": {
    "collapsed": true,
    "deletable": true,
    "editable": true
   },
   "outputs": [],
   "source": [
    "# USA Today Crawl\n",
    "usa_query_params = {\n",
    "\"q\": \"language:english thread.country:US site_type:news site_category:media is_first:true site:usatoday.com\",\n",
    "\"ts\": \"1528084091530\",\n",
    "\"sort\": \"crawled\"\n",
    "    }\n",
    "    \n",
    "usa_output = webhoseio.query(\"filterWebContent\", usa_query_params)"
   ]
  },
  {
   "cell_type": "code",
   "execution_count": 30,
   "metadata": {
    "collapsed": false,
    "deletable": true,
    "editable": true
   },
   "outputs": [
    {
     "name": "stdout",
     "output_type": "stream",
     "text": [
      "Total Results:  9672\n"
     ]
    }
   ],
   "source": [
    "print('Total Results: ', str(usa_output['totalResults']))"
   ]
  },
  {
   "cell_type": "markdown",
   "metadata": {
    "deletable": true,
    "editable": true
   },
   "source": [
    "### Save Crawls"
   ]
  },
  {
   "cell_type": "code",
   "execution_count": 36,
   "metadata": {
    "collapsed": false,
    "deletable": true,
    "editable": true
   },
   "outputs": [],
   "source": [
    "import pandas as pd\n",
    "import datetime\n",
    "\n",
    "def save_crawl(media, media_bias, query_params):\n",
    "  data = {'bias': [], 'source':[], 'headline':[], 'text':[], 'date':[]}\n",
    "  output = webhoseio.query(\"filterWebContent\", query_params)\n",
    "\n",
    "  # set scrape range\n",
    "  cap = min(40, int(output['totalResults']/100))\n",
    "  \n",
    "  for i in range(0,cap):\n",
    "    output = webhoseio.get_next()\n",
    "    \n",
    "    # info to extract from posts\n",
    "    for i in range(0, len(output['posts'])):\n",
    "      data['bias'].append(media_bias)\n",
    "      data['source'].append(output['posts'][i]['thread']['site'])\n",
    "      data['headline'].append(output['posts'][i]['title'])\n",
    "      data['text'].append(output['posts'][i]['text'])\n",
    "      data['date'].append(output['posts'][i]['published'])\n",
    "      \n",
    "  # write crawled info to pandas df\n",
    "  df = pd.DataFrame(data, columns = ['bias', 'source', 'headline', 'text', 'date'])\n",
    "  \n",
    "  # add date information to file name\n",
    "  date = datetime.datetime.now()\n",
    "  today = date.strftime(\"%Y-%m-%d\")\n",
    "  \n",
    "  #save to csv file\n",
    "  df.to_csv(media+'_crawl_'+'today', sep='\\t', encoding='utf-8')\n",
    "  \n",
    "  #return df for inspection\n",
    "  return df"
   ]
  },
  {
   "cell_type": "code",
   "execution_count": 42,
   "metadata": {
    "collapsed": true,
    "deletable": true,
    "editable": true
   },
   "outputs": [],
   "source": [
    "fox = save_crawl('foxnews', 'Right', fox_query_params)"
   ]
  },
  {
   "cell_type": "code",
   "execution_count": 43,
   "metadata": {
    "collapsed": true,
    "deletable": true,
    "editable": true
   },
   "outputs": [],
   "source": [
    "breitbart = save_crawl('breitbart', 'Right', breitbart_query_params)"
   ]
  },
  {
   "cell_type": "code",
   "execution_count": 41,
   "metadata": {
    "collapsed": true,
    "deletable": true,
    "editable": true
   },
   "outputs": [],
   "source": [
    "washtimes = save_crawl('washtimes', 'Right', washtimes_query_params)"
   ]
  },
  {
   "cell_type": "code",
   "execution_count": 47,
   "metadata": {
    "collapsed": false,
    "deletable": true,
    "editable": true
   },
   "outputs": [],
   "source": [
    "reuters = save_crawl('reuters', 'Center', reuters_query_params)"
   ]
  },
  {
   "cell_type": "code",
   "execution_count": 37,
   "metadata": {
    "collapsed": true,
    "deletable": true,
    "editable": true
   },
   "outputs": [],
   "source": [
    "npr = save_crawl('npr', 'Center', npr_query_params)"
   ]
  },
  {
   "cell_type": "code",
   "execution_count": 40,
   "metadata": {
    "collapsed": true,
    "deletable": true,
    "editable": true
   },
   "outputs": [],
   "source": [
    "usa = save_crawl('usa', 'Center', usa_query_params)"
   ]
  },
  {
   "cell_type": "code",
   "execution_count": 63,
   "metadata": {
    "collapsed": false,
    "deletable": true,
    "editable": true
   },
   "outputs": [],
   "source": [
    "nytimes = save_crawl('nytimes', 'Left', nytimes_query_params)"
   ]
  },
  {
   "cell_type": "code",
   "execution_count": 56,
   "metadata": {
    "collapsed": true,
    "deletable": true,
    "editable": true
   },
   "outputs": [],
   "source": [
    "huffpo = save_crawl('huffpo', 'Left', huffpo_query_params)"
   ]
  },
  {
   "cell_type": "code",
   "execution_count": 62,
   "metadata": {
    "collapsed": false,
    "deletable": true,
    "editable": true
   },
   "outputs": [],
   "source": [
    "cnn = save_crawl('cnn', 'Left', cnn_query_params)"
   ]
  },
  {
   "cell_type": "markdown",
   "metadata": {
    "deletable": true,
    "editable": true
   },
   "source": [
    "### Prepare Dataframe"
   ]
  },
  {
   "cell_type": "code",
   "execution_count": 86,
   "metadata": {
    "collapsed": false,
    "deletable": true,
    "editable": true
   },
   "outputs": [],
   "source": [
    "combine = pd.concat([fox, breitbart, washtimes, reuters, npr, usa, nytimes, huffpo, cnn])\n",
    "combine = combine.reset_index(drop=True)"
   ]
  },
  {
   "cell_type": "code",
   "execution_count": 87,
   "metadata": {
    "collapsed": true,
    "deletable": true,
    "editable": true
   },
   "outputs": [],
   "source": [
    "# rename sources\n",
    "combine['source'] = combine['source'].replace({'nytimes.com': 'New York Times', 'cnn.com': 'CNN', 'huffingtonpost.com':'Huffington Post', \n",
    "                                              'reuters.com': 'Reuters', 'npr.org':'NPR', 'usatoday.com':'USA Today',\n",
    "                                               'foxnews.com': 'Fox News', 'breitbart.com':'Breitbart', 'washingtontimes.com':'Washington Times'})"
   ]
  },
  {
   "cell_type": "code",
   "execution_count": 88,
   "metadata": {
    "collapsed": true,
    "deletable": true,
    "editable": true
   },
   "outputs": [],
   "source": [
    "combine['date'] = combine['date'].str[:10]"
   ]
  },
  {
   "cell_type": "code",
   "execution_count": 90,
   "metadata": {
    "collapsed": false,
    "deletable": true,
    "editable": true
   },
   "outputs": [
    {
     "data": {
      "text/html": [
       "<div>\n",
       "<style scoped>\n",
       "    .dataframe tbody tr th:only-of-type {\n",
       "        vertical-align: middle;\n",
       "    }\n",
       "\n",
       "    .dataframe tbody tr th {\n",
       "        vertical-align: top;\n",
       "    }\n",
       "\n",
       "    .dataframe thead th {\n",
       "        text-align: right;\n",
       "    }\n",
       "</style>\n",
       "<table border=\"1\" class=\"dataframe\">\n",
       "  <thead>\n",
       "    <tr style=\"text-align: right;\">\n",
       "      <th></th>\n",
       "      <th>bias</th>\n",
       "      <th>source</th>\n",
       "      <th>headline</th>\n",
       "      <th>text</th>\n",
       "      <th>date</th>\n",
       "    </tr>\n",
       "  </thead>\n",
       "  <tbody>\n",
       "    <tr>\n",
       "      <th>27179</th>\n",
       "      <td>Left</td>\n",
       "      <td>CNN</td>\n",
       "      <td>Couple holds mid-air wedding aboard plane</td>\n",
       "      <td>MUST WATCH Couple holds mid-air wedding aboard...</td>\n",
       "      <td>2018-06-19</td>\n",
       "    </tr>\n",
       "    <tr>\n",
       "      <th>27180</th>\n",
       "      <td>Left</td>\n",
       "      <td>CNN</td>\n",
       "      <td>New Nordstrom markdowns to shop</td>\n",
       "      <td>We've found some of the best Nordstrom markdow...</td>\n",
       "      <td>2018-06-18</td>\n",
       "    </tr>\n",
       "    <tr>\n",
       "      <th>27181</th>\n",
       "      <td>Left</td>\n",
       "      <td>CNN</td>\n",
       "      <td>World Cup fortune-telling animals: Achilles th...</td>\n",
       "      <td>(CNN) Everything is falling into place.\\nLast ...</td>\n",
       "      <td>2018-06-19</td>\n",
       "    </tr>\n",
       "    <tr>\n",
       "      <th>27182</th>\n",
       "      <td>Left</td>\n",
       "      <td>CNN</td>\n",
       "      <td>Bob Goodlatte on family separations at the bor...</td>\n",
       "      <td>Washington (CNN) The Republican chairman of th...</td>\n",
       "      <td>2018-06-19</td>\n",
       "    </tr>\n",
       "    <tr>\n",
       "      <th>27183</th>\n",
       "      <td>Left</td>\n",
       "      <td>CNN</td>\n",
       "      <td>Trump ramps up rhetoric: Dems want 'illegal im...</td>\n",
       "      <td>Washington (CNN) President Donald Trump amplif...</td>\n",
       "      <td>2018-06-19</td>\n",
       "    </tr>\n",
       "  </tbody>\n",
       "</table>\n",
       "</div>"
      ],
      "text/plain": [
       "       bias source                                           headline  \\\n",
       "27179  Left    CNN          Couple holds mid-air wedding aboard plane   \n",
       "27180  Left    CNN                    New Nordstrom markdowns to shop   \n",
       "27181  Left    CNN  World Cup fortune-telling animals: Achilles th...   \n",
       "27182  Left    CNN  Bob Goodlatte on family separations at the bor...   \n",
       "27183  Left    CNN  Trump ramps up rhetoric: Dems want 'illegal im...   \n",
       "\n",
       "                                                    text        date  \n",
       "27179  MUST WATCH Couple holds mid-air wedding aboard...  2018-06-19  \n",
       "27180  We've found some of the best Nordstrom markdow...  2018-06-18  \n",
       "27181  (CNN) Everything is falling into place.\\nLast ...  2018-06-19  \n",
       "27182  Washington (CNN) The Republican chairman of th...  2018-06-19  \n",
       "27183  Washington (CNN) President Donald Trump amplif...  2018-06-19  "
      ]
     },
     "execution_count": 90,
     "metadata": {},
     "output_type": "execute_result"
    }
   ],
   "source": [
    "combine.tail()"
   ]
  },
  {
   "cell_type": "markdown",
   "metadata": {
    "deletable": true,
    "editable": true
   },
   "source": [
    "### Save Crawl to CSV"
   ]
  },
  {
   "cell_type": "code",
   "execution_count": 93,
   "metadata": {
    "collapsed": true,
    "deletable": true,
    "editable": true
   },
   "outputs": [],
   "source": [
    "# add date information to file name\n",
    "date = datetime.datetime.now()\n",
    "today = date.strftime(\"%Y-%m-%d\")\n",
    "  \n",
    "#save to csv file\n",
    "combine.to_csv('webhose_crawl_'+today+'.csv', sep='\\t', encoding='utf-8')"
   ]
  }
 ],
 "metadata": {
  "kernelspec": {
   "display_name": "Python 3",
   "language": "python",
   "name": "python3"
  },
  "language_info": {
   "codemirror_mode": {
    "name": "ipython",
    "version": 3
   },
   "file_extension": ".py",
   "mimetype": "text/x-python",
   "name": "python",
   "nbconvert_exporter": "python",
   "pygments_lexer": "ipython3",
   "version": "3.5.5"
  }
 },
 "nbformat": 4,
 "nbformat_minor": 2
}
