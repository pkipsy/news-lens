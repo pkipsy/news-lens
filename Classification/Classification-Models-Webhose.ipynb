{
 "cells": [
  {
   "cell_type": "markdown",
   "metadata": {
    "deletable": true,
    "editable": true
   },
   "source": [
    "# Predicting the political bias of news articles with linear models"
   ]
  },
  {
   "cell_type": "markdown",
   "metadata": {
    "deletable": true,
    "editable": true
   },
   "source": [
    "This notebook tests classifiers over a [Webhose.io](https://webhose.io/) crawl of 30k+ news articles. The crawl covers 10 major media sources over a one month period, in June 2018. The articles range widely in their content (entertainment, politics, sports, etc)."
   ]
  },
  {
   "cell_type": "markdown",
   "metadata": {
    "deletable": true,
    "editable": true
   },
   "source": [
    "## Load Preprocessed Webhose Data"
   ]
  },
  {
   "cell_type": "code",
   "execution_count": 90,
   "metadata": {
    "collapsed": false,
    "deletable": true,
    "editable": true
   },
   "outputs": [
    {
     "data": {
      "text/html": [
       "<div>\n",
       "<style scoped>\n",
       "    .dataframe tbody tr th:only-of-type {\n",
       "        vertical-align: middle;\n",
       "    }\n",
       "\n",
       "    .dataframe tbody tr th {\n",
       "        vertical-align: top;\n",
       "    }\n",
       "\n",
       "    .dataframe thead th {\n",
       "        text-align: right;\n",
       "    }\n",
       "</style>\n",
       "<table border=\"1\" class=\"dataframe\">\n",
       "  <thead>\n",
       "    <tr style=\"text-align: right;\">\n",
       "      <th></th>\n",
       "      <th>bias</th>\n",
       "      <th>source</th>\n",
       "      <th>headline</th>\n",
       "      <th>text</th>\n",
       "      <th>date</th>\n",
       "      <th>sentences</th>\n",
       "      <th>reading</th>\n",
       "      <th>length</th>\n",
       "    </tr>\n",
       "  </thead>\n",
       "  <tbody>\n",
       "    <tr>\n",
       "      <th>0</th>\n",
       "      <td>3</td>\n",
       "      <td>Washington Times</td>\n",
       "      <td>group sues county permit oil refinery near park</td>\n",
       "      <td>print thursday june bismarck ap dakota resourc...</td>\n",
       "      <td>2018-06-15</td>\n",
       "      <td>10</td>\n",
       "      <td>13.2</td>\n",
       "      <td>145</td>\n",
       "    </tr>\n",
       "    <tr>\n",
       "      <th>1</th>\n",
       "      <td>3</td>\n",
       "      <td>Breitbart</td>\n",
       "      <td>man claims asked leave restaurant wearing larg...</td>\n",
       "      <td>man claims asked leave restaurant wearing larg...</td>\n",
       "      <td>2018-06-10</td>\n",
       "      <td>17</td>\n",
       "      <td>10.8</td>\n",
       "      <td>360</td>\n",
       "    </tr>\n",
       "    <tr>\n",
       "      <th>2</th>\n",
       "      <td>1</td>\n",
       "      <td>New York Times</td>\n",
       "      <td>able handle hbo</td>\n",
       "      <td>media analysts tech industry prognosticators l...</td>\n",
       "      <td>2018-06-14</td>\n",
       "      <td>73</td>\n",
       "      <td>10.2</td>\n",
       "      <td>1231</td>\n",
       "    </tr>\n",
       "    <tr>\n",
       "      <th>3</th>\n",
       "      <td>1</td>\n",
       "      <td>New York Times</td>\n",
       "      <td>summer skiing getaways southern hemisphere</td>\n",
       "      <td>summer popular time beach vacations sun water ...</td>\n",
       "      <td>2018-06-05</td>\n",
       "      <td>27</td>\n",
       "      <td>11.1</td>\n",
       "      <td>513</td>\n",
       "    </tr>\n",
       "    <tr>\n",
       "      <th>4</th>\n",
       "      <td>1</td>\n",
       "      <td>New York Times</td>\n",
       "      <td>fact check corey stewart republicans fringe right</td>\n",
       "      <td>fact check corey stewart republicans fringe ri...</td>\n",
       "      <td>2018-06-14</td>\n",
       "      <td>80</td>\n",
       "      <td>11.5</td>\n",
       "      <td>1173</td>\n",
       "    </tr>\n",
       "  </tbody>\n",
       "</table>\n",
       "</div>"
      ],
      "text/plain": [
       "   bias            source                                           headline  \\\n",
       "0     3  Washington Times    group sues county permit oil refinery near park   \n",
       "1     3         Breitbart  man claims asked leave restaurant wearing larg...   \n",
       "2     1    New York Times                                    able handle hbo   \n",
       "3     1    New York Times         summer skiing getaways southern hemisphere   \n",
       "4     1    New York Times  fact check corey stewart republicans fringe right   \n",
       "\n",
       "                                                text        date  sentences  \\\n",
       "0  print thursday june bismarck ap dakota resourc...  2018-06-15         10   \n",
       "1  man claims asked leave restaurant wearing larg...  2018-06-10         17   \n",
       "2  media analysts tech industry prognosticators l...  2018-06-14         73   \n",
       "3  summer popular time beach vacations sun water ...  2018-06-05         27   \n",
       "4  fact check corey stewart republicans fringe ri...  2018-06-14         80   \n",
       "\n",
       "   reading  length  \n",
       "0     13.2     145  \n",
       "1     10.8     360  \n",
       "2     10.2    1231  \n",
       "3     11.1     513  \n",
       "4     11.5    1173  "
      ]
     },
     "execution_count": 90,
     "metadata": {},
     "output_type": "execute_result"
    }
   ],
   "source": [
    "#import pandas\n",
    "import pandas as pd \n",
    "\n",
    "# define csv read\n",
    "def read_data2(filename):\n",
    "    # read in csv\n",
    "    df = pd.read_csv(filename, sep='\\t', encoding='utf-8')\n",
    "    \n",
    "    #drop first column (index)\n",
    "    df = df.drop(df.columns[0], axis=1)\n",
    "    \n",
    "    return df\n",
    "\n",
    "# load cleaned file with sentiment data\n",
    "new = read_data2('webhose-corpus-df-clean.csv')\n",
    "new.head()"
   ]
  },
  {
   "cell_type": "code",
   "execution_count": null,
   "metadata": {
    "collapsed": false,
    "deletable": true,
    "editable": true
   },
   "outputs": [],
   "source": [
    "## load All Sides test corpus\n",
    "test_corpus = read_data2('news-corpus-df-clean.csv')"
   ]
  },
  {
   "cell_type": "markdown",
   "metadata": {
    "deletable": true,
    "editable": true
   },
   "source": [
    "### Remove Short Texts"
   ]
  },
  {
   "cell_type": "code",
   "execution_count": 92,
   "metadata": {
    "collapsed": true,
    "deletable": true,
    "editable": true
   },
   "outputs": [],
   "source": [
    "import seaborn as sns"
   ]
  },
  {
   "cell_type": "code",
   "execution_count": 93,
   "metadata": {
    "collapsed": false,
    "deletable": true,
    "editable": true
   },
   "outputs": [
    {
     "data": {
      "text/plain": [
       "(0, 3000)"
      ]
     },
     "execution_count": 93,
     "metadata": {},
     "output_type": "execute_result"
    },
    {
     "name": "stderr",
     "output_type": "stream",
     "text": [
      "/usr/local/envs/py3env/lib/python3.5/site-packages/matplotlib/font_manager.py:1320: UserWarning: findfont: Font family ['sans-serif'] not found. Falling back to DejaVu Sans\n",
      "  (prop.get_family(), self.defaultFamily[fontext]))\n"
     ]
    },
    {
     "data": {
      "image/png": "[encoded data removed]",
      "text/plain": [
       "<matplotlib.figure.Figure at 0x7ff1ad82add8>"
      ]
     },
     "metadata": {},
     "output_type": "display_data"
    }
   ],
   "source": [
    "# get density plot of text length\n",
    "lengthplot = sns.kdeplot(new.length, shade=True);\n",
    "axes = lengthplot.axes \n",
    "axes.set_xlim(0,3000)"
   ]
  },
  {
   "cell_type": "code",
   "execution_count": 94,
   "metadata": {
    "collapsed": false,
    "deletable": true,
    "editable": true
   },
   "outputs": [
    {
     "name": "stdout",
     "output_type": "stream",
     "text": [
      "DescribeResult(nobs=31184, minmax=(1, 16347), mean=611.6549833247819, variance=378989.9508374945, skewness=6.3243737752776585, kurtosis=98.82363857350938)\n"
     ]
    }
   ],
   "source": [
    "# examine distribution of text lengths\n",
    "from scipy import stats\n",
    "print(stats.describe(new.length))"
   ]
  },
  {
   "cell_type": "code",
   "execution_count": 95,
   "metadata": {
    "collapsed": false,
    "deletable": true,
    "editable": true
   },
   "outputs": [
    {
     "name": "stdout",
     "output_type": "stream",
     "text": [
      "Under 100 words:  2179\n",
      "Over 2500 words:  680\n"
     ]
    }
   ],
   "source": [
    "# how many texts in the dataset under/over a certain length?\n",
    "print('Under 100 words: ', len(new[new.length < 100]))\n",
    "print('Over 2500 words: ', len(new[new.length > 2000]))"
   ]
  },
  {
   "cell_type": "code",
   "execution_count": 96,
   "metadata": {
    "collapsed": true,
    "deletable": true,
    "editable": true
   },
   "outputs": [],
   "source": [
    "# clip dataset of overly short / lengthy texts\n",
    "new = new[new.length > 100]\n",
    "new = new[new.length < 2000]"
   ]
  },
  {
   "cell_type": "markdown",
   "metadata": {
    "deletable": true,
    "editable": true
   },
   "source": [
    "### Assess Readability Across Bias Groups"
   ]
  },
  {
   "cell_type": "code",
   "execution_count": 97,
   "metadata": {
    "collapsed": false,
    "deletable": true,
    "editable": true
   },
   "outputs": [
    {
     "data": {
      "text/plain": [
       "(0, 30)"
      ]
     },
     "execution_count": 97,
     "metadata": {},
     "output_type": "execute_result"
    },
    {
     "name": "stderr",
     "output_type": "stream",
     "text": [
      "/usr/local/envs/py3env/lib/python3.5/site-packages/matplotlib/font_manager.py:1320: UserWarning: findfont: Font family ['sans-serif'] not found. Falling back to DejaVu Sans\n",
      "  (prop.get_family(), self.defaultFamily[fontext]))\n"
     ]
    },
    {
     "data": {
      "image/png": "[encoded data removed]",
      "text/plain": [
       "<matplotlib.figure.Figure at 0x7ff1c5bd3358>"
      ]
     },
     "metadata": {},
     "output_type": "display_data"
    }
   ],
   "source": [
    "import seaborn as sns\n",
    "readplot = sns.kdeplot(new.reading, shade=True);\n",
    "axes = readplot.axes \n",
    "axes.set_xlim(0,30)"
   ]
  },
  {
   "cell_type": "code",
   "execution_count": 98,
   "metadata": {
    "collapsed": false,
    "deletable": true,
    "editable": true
   },
   "outputs": [
    {
     "data": {
      "text/html": [
       "<div>\n",
       "<style scoped>\n",
       "    .dataframe tbody tr th:only-of-type {\n",
       "        vertical-align: middle;\n",
       "    }\n",
       "\n",
       "    .dataframe tbody tr th {\n",
       "        vertical-align: top;\n",
       "    }\n",
       "\n",
       "    .dataframe thead th {\n",
       "        text-align: right;\n",
       "    }\n",
       "</style>\n",
       "<table border=\"1\" class=\"dataframe\">\n",
       "  <thead>\n",
       "    <tr style=\"text-align: right;\">\n",
       "      <th></th>\n",
       "      <th>count</th>\n",
       "      <th>mean</th>\n",
       "      <th>std</th>\n",
       "      <th>min</th>\n",
       "      <th>25%</th>\n",
       "      <th>50%</th>\n",
       "      <th>75%</th>\n",
       "      <th>max</th>\n",
       "    </tr>\n",
       "    <tr>\n",
       "      <th>bias</th>\n",
       "      <th></th>\n",
       "      <th></th>\n",
       "      <th></th>\n",
       "      <th></th>\n",
       "      <th></th>\n",
       "      <th></th>\n",
       "      <th></th>\n",
       "      <th></th>\n",
       "    </tr>\n",
       "  </thead>\n",
       "  <tbody>\n",
       "    <tr>\n",
       "      <th>1</th>\n",
       "      <td>9406.0</td>\n",
       "      <td>12.666532</td>\n",
       "      <td>3.468662</td>\n",
       "      <td>0.4</td>\n",
       "      <td>10.7</td>\n",
       "      <td>12.5</td>\n",
       "      <td>14.3</td>\n",
       "      <td>132.6</td>\n",
       "    </tr>\n",
       "    <tr>\n",
       "      <th>2</th>\n",
       "      <td>9389.0</td>\n",
       "      <td>12.960006</td>\n",
       "      <td>5.548951</td>\n",
       "      <td>2.2</td>\n",
       "      <td>10.5</td>\n",
       "      <td>12.7</td>\n",
       "      <td>14.9</td>\n",
       "      <td>288.4</td>\n",
       "    </tr>\n",
       "    <tr>\n",
       "      <th>3</th>\n",
       "      <td>9502.0</td>\n",
       "      <td>13.007788</td>\n",
       "      <td>2.762224</td>\n",
       "      <td>1.5</td>\n",
       "      <td>11.2</td>\n",
       "      <td>12.8</td>\n",
       "      <td>14.5</td>\n",
       "      <td>49.2</td>\n",
       "    </tr>\n",
       "  </tbody>\n",
       "</table>\n",
       "</div>"
      ],
      "text/plain": [
       "       count       mean       std  min   25%   50%   75%    max\n",
       "bias                                                           \n",
       "1     9406.0  12.666532  3.468662  0.4  10.7  12.5  14.3  132.6\n",
       "2     9389.0  12.960006  5.548951  2.2  10.5  12.7  14.9  288.4\n",
       "3     9502.0  13.007788  2.762224  1.5  11.2  12.8  14.5   49.2"
      ]
     },
     "execution_count": 98,
     "metadata": {},
     "output_type": "execute_result"
    }
   ],
   "source": [
    "#new.groupby('bias')['reading'].mean()\n",
    "new['reading'].groupby(new['bias']).describe()"
   ]
  },
  {
   "cell_type": "code",
   "execution_count": 99,
   "metadata": {
    "collapsed": false,
    "deletable": true,
    "editable": true
   },
   "outputs": [],
   "source": [
    "#new['reading'].groupby(new['bias']).plot.kde();"
   ]
  },
  {
   "cell_type": "markdown",
   "metadata": {
    "deletable": true,
    "editable": true
   },
   "source": [
    "### Equalize Bias Groups"
   ]
  },
  {
   "cell_type": "markdown",
   "metadata": {
    "deletable": true,
    "editable": true
   },
   "source": [
    "**Note**: Decided not to implement."
   ]
  },
  {
   "cell_type": "code",
   "execution_count": 100,
   "metadata": {
    "collapsed": false,
    "deletable": true,
    "editable": true
   },
   "outputs": [
    {
     "name": "stdout",
     "output_type": "stream",
     "text": [
      "Left:  9406\n",
      "Center:  9389\n",
      "Right:  9502\n"
     ]
    }
   ],
   "source": [
    "# check num of center labeled stories\n",
    "print('Left: ', new.loc[new['bias'] == 1].shape[0])\n",
    "print('Center: ', new.loc[new['bias'] == 2].shape[0])\n",
    "print('Right: ', new.loc[new['bias'] == 3].shape[0])"
   ]
  },
  {
   "cell_type": "markdown",
   "metadata": {
    "deletable": true,
    "editable": true
   },
   "source": [
    "### Define Features"
   ]
  },
  {
   "cell_type": "code",
   "execution_count": 101,
   "metadata": {
    "collapsed": false,
    "deletable": true,
    "editable": true
   },
   "outputs": [],
   "source": [
    "import numpy as np\n",
    "from sklearn.preprocessing import MinMaxScaler, FunctionTransformer\n",
    "from sklearn.feature_extraction.text import CountVectorizer, TfidfVectorizer, TfidfTransformer\n",
    "from sklearn.pipeline import Pipeline, FeatureUnion, make_pipeline, make_union\n",
    "from sklearn.metrics import classification_report\n",
    "from sklearn.multiclass import OneVsRestClassifier"
   ]
  },
  {
   "cell_type": "code",
   "execution_count": 102,
   "metadata": {
    "collapsed": true,
    "deletable": true,
    "editable": true
   },
   "outputs": [],
   "source": [
    "# get text function\n",
    "def get_text(X):\n",
    "  return X['text'].values\n",
    "\n",
    "# get source function\n",
    "def get_source(X):\n",
    "  return X['source'].values\n",
    "\n",
    "# get bias function\n",
    "def get_bias(y):\n",
    "  return y['bias'].values"
   ]
  },
  {
   "cell_type": "markdown",
   "metadata": {
    "deletable": true,
    "editable": true
   },
   "source": [
    "### Create a Pipeline Incorporating Multiple Features"
   ]
  },
  {
   "cell_type": "code",
   "execution_count": 103,
   "metadata": {
    "collapsed": false,
    "deletable": true,
    "editable": true
   },
   "outputs": [],
   "source": [
    "from sklearn.svm import LinearSVC\n",
    "\n",
    "classifier = Pipeline([\n",
    "    ('features', FeatureUnion([\n",
    "        ('text', Pipeline([\n",
    "            ('get_text', FunctionTransformer(get_text, validate=False)),\n",
    "            ('tfidf', TfidfVectorizer(ngram_range=(1,3), stop_words='english', max_df=0.4, min_df = 0.05, sublinear_tf=True, norm='l2' )), \n",
    "        ])),\n",
    "        ('source', Pipeline([\n",
    "            ('get_text', FunctionTransformer(get_source, validate=False)),\n",
    "            ('tfidf2', TfidfVectorizer(ngram_range=(1,5), sublinear_tf=True, norm='l2' )), \n",
    "        ])),\n",
    "      ],\n",
    "        # weight components in FeatureUnion\n",
    "        transformer_weights={\n",
    "            'text': 1,\n",
    "            'source': 1.5,\n",
    "        },\n",
    "    )),\n",
    "  \n",
    "    ('clf', OneVsRestClassifier(LinearSVC()))])"
   ]
  },
  {
   "cell_type": "code",
   "execution_count": 60,
   "metadata": {
    "collapsed": false,
    "deletable": true,
    "editable": true
   },
   "outputs": [],
   "source": [
    "# create training and test sets\n",
    "from sklearn.model_selection import train_test_split\n",
    "\n",
    "# subset data frame into features and outcomes\n",
    "features = new.loc[:, ['text', 'source']]\n",
    "outcomes = new.loc[:, ['bias']]\n",
    "\n",
    "X_train, X_test, y_train, y_test = train_test_split(features, outcomes, test_size=0.2)\n",
    "y_train, y_test = get_bias(y_train), get_bias(y_test)"
   ]
  },
  {
   "cell_type": "code",
   "execution_count": 61,
   "metadata": {
    "collapsed": false,
    "deletable": true,
    "editable": true
   },
   "outputs": [],
   "source": [
    "# fit model and test predictions\n",
    "classifier.fit(X_train, y_train)\n",
    "predicted = classifier.predict(X_test)"
   ]
  },
  {
   "cell_type": "code",
   "execution_count": 63,
   "metadata": {
    "collapsed": false,
    "deletable": true,
    "editable": true
   },
   "outputs": [
    {
     "name": "stdout",
     "output_type": "stream",
     "text": [
      "1.0\n"
     ]
    }
   ],
   "source": [
    "accuracy = np.mean(predicted == y_test)\n",
    "print(accuracy)"
   ]
  },
  {
   "cell_type": "markdown",
   "metadata": {
    "deletable": true,
    "editable": true
   },
   "source": [
    "### Add More Features"
   ]
  },
  {
   "cell_type": "code",
   "execution_count": 104,
   "metadata": {
    "collapsed": true,
    "deletable": true,
    "editable": true
   },
   "outputs": [],
   "source": [
    "# get headline function\n",
    "def get_headline(X):\n",
    "  return X['headline'].values\n",
    "\n",
    "# get date function\n",
    "def get_date(X):\n",
    "  date = X.date.values\n",
    "  return np.array([int(x[:4]) for x in date]).reshape(-1, 1)\n",
    "\n",
    "# get num of sentences\n",
    "def get_sentences(X):\n",
    "  num_sent = X['sentences']\n",
    "  return np.array(num_sent).reshape(-1, 1)\n",
    "\n",
    "# get text length\n",
    "def get_text_len(X):\n",
    "  text_len = X['length'].values\n",
    "  return np.array(text_len).reshape(-1, 1)\n",
    "\n",
    "# get readability\n",
    "def get_read(X):\n",
    "  read = X['reading'].values\n",
    "  return np.array(read).reshape(-1, 1)"
   ]
  },
  {
   "cell_type": "markdown",
   "metadata": {
    "deletable": true,
    "editable": true
   },
   "source": [
    "### Pipeline 2: Classification without Source"
   ]
  },
  {
   "cell_type": "code",
   "execution_count": 79,
   "metadata": {
    "collapsed": false,
    "deletable": true,
    "editable": true
   },
   "outputs": [],
   "source": [
    "from sklearn.svm import LinearSVC\n",
    "\n",
    "classifier2 = Pipeline([\n",
    "    ('features', FeatureUnion([\n",
    "        ('text', Pipeline([\n",
    "            ('get_text', FunctionTransformer(get_text, validate=False)),\n",
    "            ('tfidf', TfidfVectorizer(ngram_range=(1,3), stop_words='english', max_df=0.4, min_df = 0.05, sublinear_tf=True, norm='l2' )), \n",
    "        ])),\n",
    "      \n",
    "        ('sentences', Pipeline([\n",
    "            ('get_sentences', FunctionTransformer(get_sentences, validate=False)),\n",
    "        ])),\n",
    "      \n",
    "        ('read', Pipeline([\n",
    "            ('get_read', FunctionTransformer(get_read, validate=False)),\n",
    "        ])),\n",
    "      \n",
    "      ],\n",
    "        # weight components in FeatureUnion\n",
    "        transformer_weights={\n",
    "            'text': 1.5,\n",
    "            'sentences':0.5,\n",
    "            'read':0.5,\n",
    "        },\n",
    "    )),\n",
    "  \n",
    "    ('clf', OneVsRestClassifier(LinearSVC()))])"
   ]
  },
  {
   "cell_type": "code",
   "execution_count": 80,
   "metadata": {
    "collapsed": true,
    "deletable": true,
    "editable": true
   },
   "outputs": [],
   "source": [
    "# create training and test sets\n",
    "from sklearn.model_selection import train_test_split\n",
    "\n",
    "# subset data frame into features and outcomes\n",
    "# features = new.loc[:, ['text', 'headline', 'source', 'date', 'sentiment', 'magnitude', 'length', 'sentences']]\n",
    "features = new.loc[:, ['text', 'sentences', 'reading']]\n",
    "outcomes = new.loc[:, ['bias']]\n",
    "\n",
    "X_train, X_test, y_train, y_test = train_test_split(features, outcomes, test_size=0.2)\n",
    "y_train, y_test = get_bias(y_train), get_bias(y_test)"
   ]
  },
  {
   "cell_type": "code",
   "execution_count": 81,
   "metadata": {
    "collapsed": false,
    "deletable": true,
    "editable": true
   },
   "outputs": [],
   "source": [
    "# fit model and test predictions\n",
    "classifier2.fit(X_train, y_train)\n",
    "predicted = classifier2.predict(X_test)"
   ]
  },
  {
   "cell_type": "code",
   "execution_count": 82,
   "metadata": {
    "collapsed": false,
    "deletable": true,
    "editable": true
   },
   "outputs": [
    {
     "name": "stdout",
     "output_type": "stream",
     "text": [
      "0.8510600706713781\n"
     ]
    }
   ],
   "source": [
    "# accuracy\n",
    "accuracy = np.mean(predicted == y_test)\n",
    "print(accuracy)"
   ]
  },
  {
   "cell_type": "markdown",
   "metadata": {
    "deletable": true,
    "editable": true
   },
   "source": [
    "### Generalize to All Sides Data?"
   ]
  },
  {
   "cell_type": "code",
   "execution_count": 106,
   "metadata": {
    "collapsed": false,
    "deletable": true,
    "editable": true
   },
   "outputs": [],
   "source": [
    "# subset data frame into features and outcomes\n",
    "# features = new.loc[:, ['text', 'headline', 'source', 'date', 'sentiment', 'magnitude', 'length', 'sentences']]\n",
    "X_train = new.loc[:, ['text', 'sentences', 'reading']]\n",
    "y_train = new.loc[:, ['bias']]\n",
    "\n",
    "X_test = test_corpus.loc[:, ['text', 'sentences', 'reading']]\n",
    "y_test = test_corpus.loc[:, ['bias']]\n",
    "\n",
    "y_train, y_test = get_bias(y_train), get_bias(y_test)"
   ]
  },
  {
   "cell_type": "code",
   "execution_count": 107,
   "metadata": {
    "collapsed": true,
    "deletable": true,
    "editable": true
   },
   "outputs": [],
   "source": [
    "# fit model and test predictions\n",
    "classifier2.fit(X_train, y_train)\n",
    "predicted = classifier2.predict(X_test)"
   ]
  },
  {
   "cell_type": "code",
   "execution_count": 108,
   "metadata": {
    "collapsed": false,
    "deletable": true,
    "editable": true
   },
   "outputs": [
    {
     "name": "stdout",
     "output_type": "stream",
     "text": [
      "0.47850821744627053\n"
     ]
    }
   ],
   "source": [
    "# accuracy\n",
    "accuracy = np.mean(predicted == y_test)\n",
    "print(accuracy)"
   ]
  },
  {
   "cell_type": "markdown",
   "metadata": {},
   "source": [
    "### Pipeline 2: Summary Results"
   ]
  },
  {
   "cell_type": "code",
   "execution_count": 83,
   "metadata": {
    "collapsed": false,
    "deletable": true,
    "editable": true
   },
   "outputs": [
    {
     "name": "stdout",
     "output_type": "stream",
     "text": [
      "0.8510600706713781\n"
     ]
    }
   ],
   "source": [
    "# accuracy\n",
    "accuracy = np.mean(predicted == y_test)\n",
    "print(accuracy)"
   ]
  },
  {
   "cell_type": "code",
   "execution_count": 84,
   "metadata": {
    "collapsed": false,
    "deletable": true,
    "editable": true
   },
   "outputs": [
    {
     "name": "stdout",
     "output_type": "stream",
     "text": [
      "             precision    recall  f1-score   support\n",
      "\n",
      "          1       0.77      0.85      0.81      1853\n",
      "          2       0.93      0.86      0.89      1922\n",
      "          3       0.86      0.84      0.85      1885\n",
      "\n",
      "avg / total       0.86      0.85      0.85      5660\n",
      "\n"
     ]
    }
   ],
   "source": [
    "# classification report\n",
    "print(classification_report(y_test, predicted))"
   ]
  },
  {
   "cell_type": "code",
   "execution_count": 85,
   "metadata": {
    "collapsed": false,
    "deletable": true,
    "editable": true
   },
   "outputs": [
    {
     "data": {
      "text/plain": [
       "array([[1577,  102,  174],\n",
       "       [ 184, 1657,   81],\n",
       "       [ 275,   27, 1583]])"
      ]
     },
     "execution_count": 85,
     "metadata": {},
     "output_type": "execute_result"
    }
   ],
   "source": [
    "# confusion matrix\n",
    "from sklearn.metrics import confusion_matrix\n",
    "confusion_matrix(y_test, predicted)"
   ]
  },
  {
   "cell_type": "markdown",
   "metadata": {
    "deletable": true,
    "editable": true
   },
   "source": [
    "### Pipeline 2: Confusion Matrix"
   ]
  },
  {
   "cell_type": "code",
   "execution_count": 86,
   "metadata": {
    "collapsed": false,
    "deletable": true,
    "editable": true
   },
   "outputs": [
    {
     "name": "stdout",
     "output_type": "stream",
     "text": [
      "Normalized confusion matrix\n",
      "[[0.85 0.06 0.09]\n",
      " [0.1  0.86 0.04]\n",
      " [0.15 0.01 0.84]]\n"
     ]
    },
    {
     "name": "stderr",
     "output_type": "stream",
     "text": [
      "/usr/local/envs/py3env/lib/python3.5/site-packages/matplotlib/font_manager.py:1320: UserWarning: findfont: Font family ['sans-serif'] not found. Falling back to DejaVu Sans\n",
      "  (prop.get_family(), self.defaultFamily[fontext]))\n"
     ]
    },
    {
     "data": {
      "image/png": "[encoded data removed]",
      "text/plain": [
       "<matplotlib.figure.Figure at 0x7ff1aefbec50>"
      ]
     },
     "metadata": {},
     "output_type": "display_data"
    }
   ],
   "source": [
    "import matplotlib.pyplot as plt\n",
    "import itertools\n",
    "\n",
    "class_names = ['Left','Center','Right']\n",
    "\n",
    "def plot_confusion_matrix(cm, classes,\n",
    "                          normalize=False,\n",
    "                          title='Confusion matrix',\n",
    "                          cmap=plt.cm.Blues):\n",
    "    \"\"\"\n",
    "    This function prints and plots the confusion matrix.\n",
    "    Normalization can be applied by setting `normalize=True`.\n",
    "    \"\"\"\n",
    "    if normalize:\n",
    "        cm = cm.astype('float') / cm.sum(axis=1)[:, np.newaxis]\n",
    "        print(\"Normalized confusion matrix\")\n",
    "    else:\n",
    "        print('Confusion matrix, without normalization')\n",
    "\n",
    "    print(cm)\n",
    "\n",
    "    plt.imshow(cm, interpolation='nearest', cmap=cmap)\n",
    "    plt.title(title)\n",
    "    plt.colorbar()\n",
    "    tick_marks = np.arange(len(classes))\n",
    "    plt.xticks(tick_marks, classes, rotation=45)\n",
    "    plt.yticks(tick_marks, classes)\n",
    "\n",
    "    fmt = '.2f' if normalize else 'd'\n",
    "    thresh = cm.max() / 2.\n",
    "    for i, j in itertools.product(range(cm.shape[0]), range(cm.shape[1])):\n",
    "        plt.text(j, i, format(cm[i, j], fmt),\n",
    "                 horizontalalignment=\"center\",\n",
    "                 color=\"white\" if cm[i, j] > thresh else \"black\")\n",
    "\n",
    "    plt.tight_layout()\n",
    "    plt.ylabel('True label')\n",
    "    plt.xlabel('Predicted label')\n",
    "\n",
    "# Compute confusion matrix\n",
    "cnf_matrix = confusion_matrix(y_test, predicted)\n",
    "np.set_printoptions(precision=2)\n",
    "\n",
    "# Plot normalized confusion matrix\n",
    "plt.figure()\n",
    "plot_confusion_matrix(cnf_matrix, classes=class_names, normalize=True,\n",
    "                      title='Normalized confusion matrix')\n",
    "\n",
    "plt.show()"
   ]
  }
 ],
 "metadata": {
  "kernelspec": {
   "display_name": "Python 3",
   "language": "python",
   "name": "python3"
  },
  "language_info": {
   "codemirror_mode": {
    "name": "ipython",
    "version": 3
   },
   "file_extension": ".py",
   "mimetype": "text/x-python",
   "name": "python",
   "nbconvert_exporter": "python",
   "pygments_lexer": "ipython3",
   "version": "3.5.5"
  }
 },
 "nbformat": 4,
 "nbformat_minor": 2
}
