{
 "cells": [
  {
   "cell_type": "markdown",
   "metadata": {
    "deletable": true,
    "editable": true
   },
   "source": [
    "# Predicting the political bias of news articles with linear models"
   ]
  },
  {
   "cell_type": "markdown",
   "metadata": {
    "deletable": true,
    "editable": true
   },
   "source": [
    "## Load Preprocessed Text"
   ]
  },
  {
   "cell_type": "code",
   "execution_count": 90,
   "metadata": {
    "collapsed": false,
    "deletable": true,
    "editable": true
   },
   "outputs": [
    {
     "data": {
      "text/html": [
       "<div>\n",
       "<style scoped>\n",
       "    .dataframe tbody tr th:only-of-type {\n",
       "        vertical-align: middle;\n",
       "    }\n",
       "\n",
       "    .dataframe tbody tr th {\n",
       "        vertical-align: top;\n",
       "    }\n",
       "\n",
       "    .dataframe thead th {\n",
       "        text-align: right;\n",
       "    }\n",
       "</style>\n",
       "<table border=\"1\" class=\"dataframe\">\n",
       "  <thead>\n",
       "    <tr style=\"text-align: right;\">\n",
       "      <th></th>\n",
       "      <th>bias</th>\n",
       "      <th>source</th>\n",
       "      <th>headline</th>\n",
       "      <th>text</th>\n",
       "      <th>date</th>\n",
       "      <th>sentences</th>\n",
       "      <th>reading</th>\n",
       "      <th>length</th>\n",
       "    </tr>\n",
       "  </thead>\n",
       "  <tbody>\n",
       "    <tr>\n",
       "      <th>0</th>\n",
       "      <td>3</td>\n",
       "      <td>Washington Times</td>\n",
       "      <td>group sues county permit oil refinery near park</td>\n",
       "      <td>print thursday june bismarck ap dakota resourc...</td>\n",
       "      <td>2018-06-15</td>\n",
       "      <td>10</td>\n",
       "      <td>13.2</td>\n",
       "      <td>145</td>\n",
       "    </tr>\n",
       "    <tr>\n",
       "      <th>1</th>\n",
       "      <td>3</td>\n",
       "      <td>Breitbart</td>\n",
       "      <td>man claims asked leave restaurant wearing larg...</td>\n",
       "      <td>man claims asked leave restaurant wearing larg...</td>\n",
       "      <td>2018-06-10</td>\n",
       "      <td>17</td>\n",
       "      <td>10.8</td>\n",
       "      <td>360</td>\n",
       "    </tr>\n",
       "    <tr>\n",
       "      <th>2</th>\n",
       "      <td>1</td>\n",
       "      <td>New York Times</td>\n",
       "      <td>able handle hbo</td>\n",
       "      <td>media analysts tech industry prognosticators l...</td>\n",
       "      <td>2018-06-14</td>\n",
       "      <td>73</td>\n",
       "      <td>10.2</td>\n",
       "      <td>1231</td>\n",
       "    </tr>\n",
       "    <tr>\n",
       "      <th>3</th>\n",
       "      <td>1</td>\n",
       "      <td>New York Times</td>\n",
       "      <td>summer skiing getaways southern hemisphere</td>\n",
       "      <td>summer popular time beach vacations sun water ...</td>\n",
       "      <td>2018-06-05</td>\n",
       "      <td>27</td>\n",
       "      <td>11.1</td>\n",
       "      <td>513</td>\n",
       "    </tr>\n",
       "    <tr>\n",
       "      <th>4</th>\n",
       "      <td>1</td>\n",
       "      <td>New York Times</td>\n",
       "      <td>fact check corey stewart republicans fringe right</td>\n",
       "      <td>fact check corey stewart republicans fringe ri...</td>\n",
       "      <td>2018-06-14</td>\n",
       "      <td>80</td>\n",
       "      <td>11.5</td>\n",
       "      <td>1173</td>\n",
       "    </tr>\n",
       "  </tbody>\n",
       "</table>\n",
       "</div>"
      ],
      "text/plain": [
       "   bias            source                                           headline  \\\n",
       "0     3  Washington Times    group sues county permit oil refinery near park   \n",
       "1     3         Breitbart  man claims asked leave restaurant wearing larg...   \n",
       "2     1    New York Times                                    able handle hbo   \n",
       "3     1    New York Times         summer skiing getaways southern hemisphere   \n",
       "4     1    New York Times  fact check corey stewart republicans fringe right   \n",
       "\n",
       "                                                text        date  sentences  \\\n",
       "0  print thursday june bismarck ap dakota resourc...  2018-06-15         10   \n",
       "1  man claims asked leave restaurant wearing larg...  2018-06-10         17   \n",
       "2  media analysts tech industry prognosticators l...  2018-06-14         73   \n",
       "3  summer popular time beach vacations sun water ...  2018-06-05         27   \n",
       "4  fact check corey stewart republicans fringe ri...  2018-06-14         80   \n",
       "\n",
       "   reading  length  \n",
       "0     13.2     145  \n",
       "1     10.8     360  \n",
       "2     10.2    1231  \n",
       "3     11.1     513  \n",
       "4     11.5    1173  "
      ]
     },
     "execution_count": 90,
     "metadata": {},
     "output_type": "execute_result"
    }
   ],
   "source": [
    "#import pandas\n",
    "import pandas as pd \n",
    "\n",
    "# define csv read\n",
    "def read_data2(filename):\n",
    "    # read in csv\n",
    "    df = pd.read_csv(filename, sep='\\t', encoding='utf-8')\n",
    "    \n",
    "    #drop first column (index)\n",
    "    df = df.drop(df.columns[0], axis=1)\n",
    "    \n",
    "    return df\n",
    "\n",
    "# load cleaned file with sentiment data\n",
    "new = read_data2('webhose-corpus-df-clean.csv')\n",
    "new.head()"
   ]
  },
  {
   "cell_type": "code",
   "execution_count": 91,
   "metadata": {
    "collapsed": false
   },
   "outputs": [
    {
     "data": {
      "text/html": [
       "<div>\n",
       "<style scoped>\n",
       "    .dataframe tbody tr th:only-of-type {\n",
       "        vertical-align: middle;\n",
       "    }\n",
       "\n",
       "    .dataframe tbody tr th {\n",
       "        vertical-align: top;\n",
       "    }\n",
       "\n",
       "    .dataframe thead th {\n",
       "        text-align: right;\n",
       "    }\n",
       "</style>\n",
       "<table border=\"1\" class=\"dataframe\">\n",
       "  <thead>\n",
       "    <tr style=\"text-align: right;\">\n",
       "      <th></th>\n",
       "      <th>bias</th>\n",
       "      <th>text</th>\n",
       "      <th>headline</th>\n",
       "      <th>source</th>\n",
       "      <th>date</th>\n",
       "      <th>sentiment</th>\n",
       "      <th>magnitude</th>\n",
       "      <th>sentences</th>\n",
       "      <th>length</th>\n",
       "      <th>reading</th>\n",
       "    </tr>\n",
       "  </thead>\n",
       "  <tbody>\n",
       "    <tr>\n",
       "      <th>0</th>\n",
       "      <td>1</td>\n",
       "      <td>melania trump appears plagiarized speech openi...</td>\n",
       "      <td>melania trump plagiarized michelle obama woman...</td>\n",
       "      <td>Daily Beast</td>\n",
       "      <td>2016-07-19</td>\n",
       "      <td>0.0</td>\n",
       "      <td>13.1</td>\n",
       "      <td>51</td>\n",
       "      <td>901</td>\n",
       "      <td>11.4</td>\n",
       "    </tr>\n",
       "    <tr>\n",
       "      <th>1</th>\n",
       "      <td>1</td>\n",
       "      <td>federal communications commission took aim sig...</td>\n",
       "      <td>fcc plan would give internet providers power c...</td>\n",
       "      <td>Washington Post</td>\n",
       "      <td>2017-11-21</td>\n",
       "      <td>-0.1</td>\n",
       "      <td>11.0</td>\n",
       "      <td>39</td>\n",
       "      <td>957</td>\n",
       "      <td>16.4</td>\n",
       "    </tr>\n",
       "    <tr>\n",
       "      <th>2</th>\n",
       "      <td>1</td>\n",
       "      <td>radical idea live miles south canadian border ...</td>\n",
       "      <td>opinion bernie sanders need medicare</td>\n",
       "      <td>New York Times</td>\n",
       "      <td>2017-09-13</td>\n",
       "      <td>0.0</td>\n",
       "      <td>3.0</td>\n",
       "      <td>18</td>\n",
       "      <td>379</td>\n",
       "      <td>12.6</td>\n",
       "    </tr>\n",
       "    <tr>\n",
       "      <th>3</th>\n",
       "      <td>3</td>\n",
       "      <td>democrats indicated sunday decision attorney g...</td>\n",
       "      <td>attorney general jeff sessions testify senate ...</td>\n",
       "      <td>Washington Times</td>\n",
       "      <td>2017-06-12</td>\n",
       "      <td>-0.1</td>\n",
       "      <td>9.9</td>\n",
       "      <td>86</td>\n",
       "      <td>1096</td>\n",
       "      <td>11.7</td>\n",
       "    </tr>\n",
       "    <tr>\n",
       "      <th>4</th>\n",
       "      <td>1</td>\n",
       "      <td>california highway patrol takes pride able saf...</td>\n",
       "      <td>lapd chief mayor warn taking anti trump protes...</td>\n",
       "      <td>Los Angeles Times</td>\n",
       "      <td>2016-11-10</td>\n",
       "      <td>0.0</td>\n",
       "      <td>0.6</td>\n",
       "      <td>2</td>\n",
       "      <td>62</td>\n",
       "      <td>19.8</td>\n",
       "    </tr>\n",
       "  </tbody>\n",
       "</table>\n",
       "</div>"
      ],
      "text/plain": [
       "   bias                                               text  \\\n",
       "0     1  melania trump appears plagiarized speech openi...   \n",
       "1     1  federal communications commission took aim sig...   \n",
       "2     1  radical idea live miles south canadian border ...   \n",
       "3     3  democrats indicated sunday decision attorney g...   \n",
       "4     1  california highway patrol takes pride able saf...   \n",
       "\n",
       "                                            headline             source  \\\n",
       "0  melania trump plagiarized michelle obama woman...        Daily Beast   \n",
       "1  fcc plan would give internet providers power c...    Washington Post   \n",
       "2               opinion bernie sanders need medicare     New York Times   \n",
       "3  attorney general jeff sessions testify senate ...   Washington Times   \n",
       "4  lapd chief mayor warn taking anti trump protes...  Los Angeles Times   \n",
       "\n",
       "         date  sentiment  magnitude  sentences  length  reading  \n",
       "0  2016-07-19        0.0       13.1         51     901     11.4  \n",
       "1  2017-11-21       -0.1       11.0         39     957     16.4  \n",
       "2  2017-09-13        0.0        3.0         18     379     12.6  \n",
       "3  2017-06-12       -0.1        9.9         86    1096     11.7  \n",
       "4  2016-11-10        0.0        0.6          2      62     19.8  "
      ]
     },
     "execution_count": 91,
     "metadata": {},
     "output_type": "execute_result"
    }
   ],
   "source": [
    "## load test corpus\n",
    "test_corpus = read_data2('news-corpus-df-clean.csv')\n",
    "test_corpus.head()"
   ]
  },
  {
   "cell_type": "markdown",
   "metadata": {
    "deletable": true,
    "editable": true
   },
   "source": [
    "### Remove Short Texts"
   ]
  },
  {
   "cell_type": "code",
   "execution_count": 92,
   "metadata": {
    "collapsed": true
   },
   "outputs": [],
   "source": [
    "import seaborn as sns"
   ]
  },
  {
   "cell_type": "code",
   "execution_count": 93,
   "metadata": {
    "collapsed": false,
    "deletable": true,
    "editable": true
   },
   "outputs": [
    {
     "data": {
      "text/plain": [
       "(0, 3000)"
      ]
     },
     "execution_count": 93,
     "metadata": {},
     "output_type": "execute_result"
    },
    {
     "name": "stderr",
     "output_type": "stream",
     "text": [
      "/usr/local/envs/py3env/lib/python3.5/site-packages/matplotlib/font_manager.py:1320: UserWarning: findfont: Font family ['sans-serif'] not found. Falling back to DejaVu Sans\n",
      "  (prop.get_family(), self.defaultFamily[fontext]))\n"
     ]
    },
    {
     "data": {
      "image/png": "[encoded data removed]",
      "text/plain": [
       "<matplotlib.figure.Figure at 0x7ff1ad82add8>"
      ]
     },
     "metadata": {},
     "output_type": "display_data"
    }
   ],
   "source": [
    "# get density plot of text length\n",
    "lengthplot = sns.kdeplot(new.length, shade=True);\n",
    "axes = lengthplot.axes \n",
    "axes.set_xlim(0,3000)"
   ]
  },
  {
   "cell_type": "code",
   "execution_count": 94,
   "metadata": {
    "collapsed": false,
    "deletable": true,
    "editable": true
   },
   "outputs": [
    {
     "name": "stdout",
     "output_type": "stream",
     "text": [
      "DescribeResult(nobs=31184, minmax=(1, 16347), mean=611.6549833247819, variance=378989.9508374945, skewness=6.3243737752776585, kurtosis=98.82363857350938)\n"
     ]
    }
   ],
   "source": [
    "# examine distribution of text lengths\n",
    "from scipy import stats\n",
    "print(stats.describe(new.length))"
   ]
  },
  {
   "cell_type": "code",
   "execution_count": 95,
   "metadata": {
    "collapsed": false,
    "deletable": true,
    "editable": true
   },
   "outputs": [
    {
     "name": "stdout",
     "output_type": "stream",
     "text": [
      "Under 100 words:  2179\n",
      "Over 2500 words:  680\n"
     ]
    }
   ],
   "source": [
    "# how many texts in the dataset under/over a certain length?\n",
    "print('Under 100 words: ', len(new[new.length < 100]))\n",
    "print('Over 2500 words: ', len(new[new.length > 2000]))"
   ]
  },
  {
   "cell_type": "code",
   "execution_count": 96,
   "metadata": {
    "collapsed": true,
    "deletable": true,
    "editable": true
   },
   "outputs": [],
   "source": [
    "# clip dataset of overly short / lengthy texts\n",
    "new = new[new.length > 100]\n",
    "new = new[new.length < 2000]"
   ]
  },
  {
   "cell_type": "markdown",
   "metadata": {
    "deletable": true,
    "editable": true
   },
   "source": [
    "### Assess Readability Across Bias Groups"
   ]
  },
  {
   "cell_type": "code",
   "execution_count": 97,
   "metadata": {
    "collapsed": false
   },
   "outputs": [
    {
     "data": {
      "text/plain": [
       "(0, 30)"
      ]
     },
     "execution_count": 97,
     "metadata": {},
     "output_type": "execute_result"
    },
    {
     "name": "stderr",
     "output_type": "stream",
     "text": [
      "/usr/local/envs/py3env/lib/python3.5/site-packages/matplotlib/font_manager.py:1320: UserWarning: findfont: Font family ['sans-serif'] not found. Falling back to DejaVu Sans\n",
      "  (prop.get_family(), self.defaultFamily[fontext]))\n"
     ]
    },
    {
     "data": {
      "image/png": "[encoded data removed]",
      "text/plain": [
       "<matplotlib.figure.Figure at 0x7ff1c5bd3358>"
      ]
     },
     "metadata": {},
     "output_type": "display_data"
    }
   ],
   "source": [
    "import seaborn as sns\n",
    "readplot = sns.kdeplot(new.reading, shade=True);\n",
    "axes = readplot.axes \n",
    "axes.set_xlim(0,30)"
   ]
  },
  {
   "cell_type": "code",
   "execution_count": 98,
   "metadata": {
    "collapsed": false,
    "deletable": true,
    "editable": true
   },
   "outputs": [
    {
     "data": {
      "text/html": [
       "<div>\n",
       "<style scoped>\n",
       "    .dataframe tbody tr th:only-of-type {\n",
       "        vertical-align: middle;\n",
       "    }\n",
       "\n",
       "    .dataframe tbody tr th {\n",
       "        vertical-align: top;\n",
       "    }\n",
       "\n",
       "    .dataframe thead th {\n",
       "        text-align: right;\n",
       "    }\n",
       "</style>\n",
       "<table border=\"1\" class=\"dataframe\">\n",
       "  <thead>\n",
       "    <tr style=\"text-align: right;\">\n",
       "      <th></th>\n",
       "      <th>count</th>\n",
       "      <th>mean</th>\n",
       "      <th>std</th>\n",
       "      <th>min</th>\n",
       "      <th>25%</th>\n",
       "      <th>50%</th>\n",
       "      <th>75%</th>\n",
       "      <th>max</th>\n",
       "    </tr>\n",
       "    <tr>\n",
       "      <th>bias</th>\n",
       "      <th></th>\n",
       "      <th></th>\n",
       "      <th></th>\n",
       "      <th></th>\n",
       "      <th></th>\n",
       "      <th></th>\n",
       "      <th></th>\n",
       "      <th></th>\n",
       "    </tr>\n",
       "  </thead>\n",
       "  <tbody>\n",
       "    <tr>\n",
       "      <th>1</th>\n",
       "      <td>9406.0</td>\n",
       "      <td>12.666532</td>\n",
       "      <td>3.468662</td>\n",
       "      <td>0.4</td>\n",
       "      <td>10.7</td>\n",
       "      <td>12.5</td>\n",
       "      <td>14.3</td>\n",
       "      <td>132.6</td>\n",
       "    </tr>\n",
       "    <tr>\n",
       "      <th>2</th>\n",
       "      <td>9389.0</td>\n",
       "      <td>12.960006</td>\n",
       "      <td>5.548951</td>\n",
       "      <td>2.2</td>\n",
       "      <td>10.5</td>\n",
       "      <td>12.7</td>\n",
       "      <td>14.9</td>\n",
       "      <td>288.4</td>\n",
       "    </tr>\n",
       "    <tr>\n",
       "      <th>3</th>\n",
       "      <td>9502.0</td>\n",
       "      <td>13.007788</td>\n",
       "      <td>2.762224</td>\n",
       "      <td>1.5</td>\n",
       "      <td>11.2</td>\n",
       "      <td>12.8</td>\n",
       "      <td>14.5</td>\n",
       "      <td>49.2</td>\n",
       "    </tr>\n",
       "  </tbody>\n",
       "</table>\n",
       "</div>"
      ],
      "text/plain": [
       "       count       mean       std  min   25%   50%   75%    max\n",
       "bias                                                           \n",
       "1     9406.0  12.666532  3.468662  0.4  10.7  12.5  14.3  132.6\n",
       "2     9389.0  12.960006  5.548951  2.2  10.5  12.7  14.9  288.4\n",
       "3     9502.0  13.007788  2.762224  1.5  11.2  12.8  14.5   49.2"
      ]
     },
     "execution_count": 98,
     "metadata": {},
     "output_type": "execute_result"
    }
   ],
   "source": [
    "#new.groupby('bias')['reading'].mean()\n",
    "new['reading'].groupby(new['bias']).describe()"
   ]
  },
  {
   "cell_type": "code",
   "execution_count": 99,
   "metadata": {
    "collapsed": false,
    "deletable": true,
    "editable": true
   },
   "outputs": [],
   "source": [
    "#new['reading'].groupby(new['bias']).plot.kde();"
   ]
  },
  {
   "cell_type": "markdown",
   "metadata": {
    "deletable": true,
    "editable": true
   },
   "source": [
    "### Equalize Bias Groups"
   ]
  },
  {
   "cell_type": "markdown",
   "metadata": {
    "deletable": true,
    "editable": true
   },
   "source": [
    "**Note**: Decided not to implement."
   ]
  },
  {
   "cell_type": "code",
   "execution_count": 100,
   "metadata": {
    "collapsed": false,
    "deletable": true,
    "editable": true
   },
   "outputs": [
    {
     "name": "stdout",
     "output_type": "stream",
     "text": [
      "Left:  9406\n",
      "Center:  9389\n",
      "Right:  9502\n"
     ]
    }
   ],
   "source": [
    "# check num of center labeled stories\n",
    "print('Left: ', new.loc[new['bias'] == 1].shape[0])\n",
    "print('Center: ', new.loc[new['bias'] == 2].shape[0])\n",
    "print('Right: ', new.loc[new['bias'] == 3].shape[0])"
   ]
  },
  {
   "cell_type": "markdown",
   "metadata": {
    "deletable": true,
    "editable": true
   },
   "source": [
    "### Define Features"
   ]
  },
  {
   "cell_type": "code",
   "execution_count": 101,
   "metadata": {
    "collapsed": false,
    "deletable": true,
    "editable": true
   },
   "outputs": [],
   "source": [
    "import numpy as np\n",
    "from sklearn.preprocessing import MinMaxScaler, FunctionTransformer\n",
    "from sklearn.feature_extraction.text import CountVectorizer, TfidfVectorizer, TfidfTransformer\n",
    "from sklearn.pipeline import Pipeline, FeatureUnion, make_pipeline, make_union\n",
    "from sklearn.metrics import classification_report\n",
    "from sklearn.multiclass import OneVsRestClassifier"
   ]
  },
  {
   "cell_type": "code",
   "execution_count": 102,
   "metadata": {
    "collapsed": true,
    "deletable": true,
    "editable": true
   },
   "outputs": [],
   "source": [
    "# get text function\n",
    "def get_text(X):\n",
    "  return X['text'].values\n",
    "\n",
    "# get source function\n",
    "def get_source(X):\n",
    "  return X['source'].values\n",
    "\n",
    "# get bias function\n",
    "def get_bias(y):\n",
    "  return y['bias'].values"
   ]
  },
  {
   "cell_type": "markdown",
   "metadata": {
    "deletable": true,
    "editable": true
   },
   "source": [
    "### Create a Pipeline Incorporating Multiple Features"
   ]
  },
  {
   "cell_type": "code",
   "execution_count": 103,
   "metadata": {
    "collapsed": false,
    "deletable": true,
    "editable": true
   },
   "outputs": [],
   "source": [
    "from sklearn.svm import LinearSVC\n",
    "\n",
    "classifier = Pipeline([\n",
    "    ('features', FeatureUnion([\n",
    "        ('text', Pipeline([\n",
    "            ('get_text', FunctionTransformer(get_text, validate=False)),\n",
    "            ('tfidf', TfidfVectorizer(ngram_range=(1,3), stop_words='english', max_df=0.4, min_df = 0.05, sublinear_tf=True, norm='l2' )), \n",
    "        ])),\n",
    "        ('source', Pipeline([\n",
    "            ('get_text', FunctionTransformer(get_source, validate=False)),\n",
    "            ('tfidf2', TfidfVectorizer(ngram_range=(1,5), sublinear_tf=True, norm='l2' )), \n",
    "        ])),\n",
    "      ],\n",
    "        # weight components in FeatureUnion\n",
    "        transformer_weights={\n",
    "            'text': 1,\n",
    "            'source': 1.5,\n",
    "        },\n",
    "    )),\n",
    "  \n",
    "    ('clf', OneVsRestClassifier(LinearSVC()))])"
   ]
  },
  {
   "cell_type": "code",
   "execution_count": 60,
   "metadata": {
    "collapsed": false,
    "deletable": true,
    "editable": true
   },
   "outputs": [],
   "source": [
    "# create training and test sets\n",
    "from sklearn.model_selection import train_test_split\n",
    "\n",
    "# subset data frame into features and outcomes\n",
    "features = new.loc[:, ['text', 'source']]\n",
    "outcomes = new.loc[:, ['bias']]\n",
    "\n",
    "X_train, X_test, y_train, y_test = train_test_split(features, outcomes, test_size=0.2)\n",
    "y_train, y_test = get_bias(y_train), get_bias(y_test)"
   ]
  },
  {
   "cell_type": "code",
   "execution_count": 61,
   "metadata": {
    "collapsed": false,
    "deletable": true,
    "editable": true
   },
   "outputs": [],
   "source": [
    "# fit model and test predictions\n",
    "classifier.fit(X_train, y_train)\n",
    "predicted = classifier.predict(X_test)"
   ]
  },
  {
   "cell_type": "code",
   "execution_count": 63,
   "metadata": {
    "collapsed": false,
    "deletable": true,
    "editable": true
   },
   "outputs": [
    {
     "name": "stdout",
     "output_type": "stream",
     "text": [
      "1.0\n"
     ]
    }
   ],
   "source": [
    "accuracy = np.mean(predicted == y_test)\n",
    "print(accuracy)"
   ]
  },
  {
   "cell_type": "markdown",
   "metadata": {
    "deletable": true,
    "editable": true
   },
   "source": [
    "### Add More Features"
   ]
  },
  {
   "cell_type": "code",
   "execution_count": 104,
   "metadata": {
    "collapsed": true,
    "deletable": true,
    "editable": true
   },
   "outputs": [],
   "source": [
    "# get headline function\n",
    "def get_headline(X):\n",
    "  return X['headline'].values\n",
    "\n",
    "# get date function\n",
    "def get_date(X):\n",
    "  date = X.date.values\n",
    "  return np.array([int(x[:4]) for x in date]).reshape(-1, 1)\n",
    "\n",
    "# get num of sentences\n",
    "def get_sentences(X):\n",
    "  num_sent = X['sentences']\n",
    "  return np.array(num_sent).reshape(-1, 1)\n",
    "\n",
    "# get text length\n",
    "def get_text_len(X):\n",
    "  text_len = X['length'].values\n",
    "  return np.array(text_len).reshape(-1, 1)\n",
    "\n",
    "# get readability\n",
    "def get_read(X):\n",
    "  read = X['reading'].values\n",
    "  return np.array(read).reshape(-1, 1)"
   ]
  },
  {
   "cell_type": "markdown",
   "metadata": {
    "deletable": true,
    "editable": true
   },
   "source": [
    "### Pipeline 2: Classification without Source"
   ]
  },
  {
   "cell_type": "code",
   "execution_count": 79,
   "metadata": {
    "collapsed": false,
    "deletable": true,
    "editable": true
   },
   "outputs": [],
   "source": [
    "from sklearn.svm import LinearSVC\n",
    "\n",
    "classifier2 = Pipeline([\n",
    "    ('features', FeatureUnion([\n",
    "        ('text', Pipeline([\n",
    "            ('get_text', FunctionTransformer(get_text, validate=False)),\n",
    "            ('tfidf', TfidfVectorizer(ngram_range=(1,3), stop_words='english', max_df=0.4, min_df = 0.05, sublinear_tf=True, norm='l2' )), \n",
    "        ])),\n",
    "      \n",
    "        ('sentences', Pipeline([\n",
    "            ('get_sentences', FunctionTransformer(get_sentences, validate=False)),\n",
    "        ])),\n",
    "      \n",
    "        ('read', Pipeline([\n",
    "            ('get_read', FunctionTransformer(get_read, validate=False)),\n",
    "        ])),\n",
    "      \n",
    "      ],\n",
    "        # weight components in FeatureUnion\n",
    "        transformer_weights={\n",
    "            'text': 1.5,\n",
    "            'sentences':0.5,\n",
    "            'read':0.5,\n",
    "        },\n",
    "    )),\n",
    "  \n",
    "    ('clf', OneVsRestClassifier(LinearSVC()))])"
   ]
  },
  {
   "cell_type": "code",
   "execution_count": 80,
   "metadata": {
    "collapsed": true,
    "deletable": true,
    "editable": true
   },
   "outputs": [],
   "source": [
    "# create training and test sets\n",
    "from sklearn.model_selection import train_test_split\n",
    "\n",
    "# subset data frame into features and outcomes\n",
    "# features = new.loc[:, ['text', 'headline', 'source', 'date', 'sentiment', 'magnitude', 'length', 'sentences']]\n",
    "features = new.loc[:, ['text', 'sentences', 'reading']]\n",
    "outcomes = new.loc[:, ['bias']]\n",
    "\n",
    "X_train, X_test, y_train, y_test = train_test_split(features, outcomes, test_size=0.2)\n",
    "y_train, y_test = get_bias(y_train), get_bias(y_test)"
   ]
  },
  {
   "cell_type": "code",
   "execution_count": 81,
   "metadata": {
    "collapsed": false,
    "deletable": true,
    "editable": true
   },
   "outputs": [],
   "source": [
    "# fit model and test predictions\n",
    "classifier2.fit(X_train, y_train)\n",
    "predicted = classifier2.predict(X_test)"
   ]
  },
  {
   "cell_type": "code",
   "execution_count": 82,
   "metadata": {
    "collapsed": false,
    "deletable": true,
    "editable": true
   },
   "outputs": [
    {
     "name": "stdout",
     "output_type": "stream",
     "text": [
      "0.8510600706713781\n"
     ]
    }
   ],
   "source": [
    "# accuracy\n",
    "accuracy = np.mean(predicted == y_test)\n",
    "print(accuracy)"
   ]
  },
  {
   "cell_type": "markdown",
   "metadata": {},
   "source": [
    "### Generalize to All Sides Data?"
   ]
  },
  {
   "cell_type": "code",
   "execution_count": 106,
   "metadata": {
    "collapsed": false
   },
   "outputs": [],
   "source": [
    "# subset data frame into features and outcomes\n",
    "# features = new.loc[:, ['text', 'headline', 'source', 'date', 'sentiment', 'magnitude', 'length', 'sentences']]\n",
    "X_train = new.loc[:, ['text', 'sentences', 'reading']]\n",
    "y_train = new.loc[:, ['bias']]\n",
    "\n",
    "X_test = test_corpus.loc[:, ['text', 'sentences', 'reading']]\n",
    "y_test = test_corpus.loc[:, ['bias']]\n",
    "\n",
    "y_train, y_test = get_bias(y_train), get_bias(y_test)"
   ]
  },
  {
   "cell_type": "code",
   "execution_count": 107,
   "metadata": {
    "collapsed": true
   },
   "outputs": [],
   "source": [
    "# fit model and test predictions\n",
    "classifier2.fit(X_train, y_train)\n",
    "predicted = classifier2.predict(X_test)"
   ]
  },
  {
   "cell_type": "code",
   "execution_count": 108,
   "metadata": {
    "collapsed": false
   },
   "outputs": [
    {
     "name": "stdout",
     "output_type": "stream",
     "text": [
      "0.47850821744627053\n"
     ]
    }
   ],
   "source": [
    "# accuracy\n",
    "accuracy = np.mean(predicted == y_test)\n",
    "print(accuracy)"
   ]
  },
  {
   "cell_type": "markdown",
   "metadata": {
    "deletable": true,
    "editable": true
   },
   "source": [
    "### Pipeline 2: Stratified k-Folds Cross-Validation"
   ]
  },
  {
   "cell_type": "code",
   "execution_count": 153,
   "metadata": {
    "collapsed": false,
    "deletable": true,
    "editable": true
   },
   "outputs": [
    {
     "name": "stdout",
     "output_type": "stream",
     "text": [
      "Training on fold  1 /10...\n",
      "Training new iteration on  2493  training samples,  278  validation samples, this may be a while...\n",
      "Last training accuracy:  0.8588046530284797 , last validation accuracy:  0.6294964028776978\n",
      "Stratified 10-fold validation accuracy:  0.6294964028776978\n",
      "Training on fold  2 /10...\n",
      "Training new iteration on  2493  training samples,  278  validation samples, this may be a while...\n",
      "Last training accuracy:  0.8680304853590052 , last validation accuracy:  0.6402877697841727\n",
      "Stratified 10-fold validation accuracy:  0.6348920863309353\n",
      "Training on fold  3 /10...\n",
      "Training new iteration on  2493  training samples,  278  validation samples, this may be a while...\n",
      "Last training accuracy:  0.8471720818291215 , last validation accuracy:  0.5971223021582733\n",
      "Stratified 10-fold validation accuracy:  0.6223021582733813\n",
      "Training on fold  4 /10...\n",
      "Training new iteration on  2494  training samples,  277  validation samples, this may be a while...\n",
      "Last training accuracy:  0.876102646351243 , last validation accuracy:  0.6389891696750902\n",
      "Stratified 10-fold validation accuracy:  0.6264739111238085\n",
      "Training on fold  5 /10...\n",
      "Training new iteration on  2494  training samples,  277  validation samples, this may be a while...\n",
      "Last training accuracy:  0.8492381716118684 , last validation accuracy:  0.6173285198555957\n",
      "Stratified 10-fold validation accuracy:  0.6246448328701659\n",
      "Training on fold  6 /10...\n",
      "Training new iteration on  2494  training samples,  277  validation samples, this may be a while...\n",
      "Last training accuracy:  0.8436246992782679 , last validation accuracy:  0.6823104693140795\n",
      "Stratified 10-fold validation accuracy:  0.6342557722774848\n",
      "Training on fold  7 /10...\n",
      "Training new iteration on  2494  training samples,  277  validation samples, this may be a while...\n",
      "Last training accuracy:  0.8536487570168404 , last validation accuracy:  0.6101083032490975\n",
      "Stratified 10-fold validation accuracy:  0.630806133844858\n",
      "Training on fold  8 /10...\n",
      "Training new iteration on  2494  training samples,  277  validation samples, this may be a while...\n",
      "Last training accuracy:  0.7333600641539695 , last validation accuracy:  0.5379061371841155\n",
      "Stratified 10-fold validation accuracy:  0.6191936342622653\n",
      "Training on fold  9 /10...\n",
      "Training new iteration on  2495  training samples,  276  validation samples, this may be a while...\n",
      "Last training accuracy:  0.8344689378757515 , last validation accuracy:  0.5579710144927537\n",
      "Stratified 10-fold validation accuracy:  0.6123911209545417\n",
      "Training on fold  10 /10...\n",
      "Training new iteration on  2495  training samples,  276  validation samples, this may be a while...\n",
      "Last training accuracy:  0.8509018036072145 , last validation accuracy:  0.5978260869565217\n",
      "Stratified 10-fold validation accuracy:  0.6109346175547398\n"
     ]
    }
   ],
   "source": [
    "from sklearn.model_selection import StratifiedKFold\n",
    "\n",
    "# Instantiate the cross validator\n",
    "skf = StratifiedKFold(n_splits=10, shuffle=True)\n",
    "\n",
    "# Loop through the indices the split() method returns\n",
    "cum_val = []\n",
    "\n",
    "for index, (train_indices, val_indices) in enumerate(skf.split(features, outcomes)):\n",
    "    print(\"Training on fold \", str(index+1), \"/10...\")\n",
    "    \n",
    "    # Generate batches from indices\n",
    "    xtrain, xval = features.iloc[train_indices], features.iloc[val_indices]\n",
    "    ytrain, yval = outcomes.iloc[train_indices], outcomes.iloc[val_indices]\n",
    "    \n",
    "    # Debug message\n",
    "    print(\"Training new iteration on \", str(xtrain.shape[0]), \" training samples, \", str(xval.shape[0]), \" validation samples, this may be a while...\")\n",
    "    \n",
    "    classifier2.fit(xtrain, ytrain)\n",
    "    \n",
    "    train_pred = classifier2.predict(xtrain)\n",
    "    train_accuracy = np.mean(train_pred == ytrain['bias'].values)    \n",
    "    \n",
    "    val_pred = classifier2.predict(xval)\n",
    "    val_accuracy = np.mean(val_pred == yval['bias'].values)\n",
    "    \n",
    "    cum_val.append(val_accuracy)\n",
    "    cum_acc = np.mean(cum_val)\n",
    "    \n",
    "    print(\"Last training accuracy: \", str(train_accuracy), \", last validation accuracy: \", str(val_accuracy))\n",
    "    print(\"Stratified 10-fold validation accuracy: \", str(cum_acc))"
   ]
  },
  {
   "cell_type": "markdown",
   "metadata": {
    "deletable": true,
    "editable": true
   },
   "source": [
    "### Pipeline 2: Plot Learning Curve"
   ]
  },
  {
   "cell_type": "code",
   "execution_count": 163,
   "metadata": {
    "collapsed": false,
    "deletable": true,
    "editable": true
   },
   "outputs": [
    {
     "name": "stderr",
     "output_type": "stream",
     "text": [
      "/usr/local/envs/py3env/lib/python3.5/site-packages/matplotlib/font_manager.py:1320: UserWarning: findfont: Font family ['sans-serif'] not found. Falling back to DejaVu Sans\n",
      "  (prop.get_family(), self.defaultFamily[fontext]))\n"
     ]
    },
    {
     "data": {
      "image/png": "[encoded data removed]",
      "text/plain": [
       "<matplotlib.figure.Figure at 0x7f84ed00b780>"
      ]
     },
     "metadata": {},
     "output_type": "display_data"
    }
   ],
   "source": [
    "from sklearn.model_selection import learning_curve\n",
    "\n",
    "# Create CV training and test scores for various training set sizes\n",
    "train_sizes, train_scores, test_scores = learning_curve(classifier2, features, outcomes,\n",
    "                                                        # Number of folds in cross-validation\n",
    "                                                        cv=10,\n",
    "                                                        # Evaluation metric\n",
    "                                                        scoring='accuracy',\n",
    "                                                        # Use all computer cores\n",
    "                                                        n_jobs=-1, \n",
    "                                                        # 50 different sizes of the training set\n",
    "                                                        train_sizes=np.linspace(0.01, 1.0, 50))\n",
    "\n",
    "# Create means and standard deviations of training set scores\n",
    "train_mean = np.mean(train_scores, axis=1)\n",
    "train_std = np.std(train_scores, axis=1)\n",
    "\n",
    "# Create means and standard deviations of test set scores\n",
    "test_mean = np.mean(test_scores, axis=1)\n",
    "test_std = np.std(test_scores, axis=1)\n",
    "\n",
    "# Draw lines\n",
    "plt.plot(train_sizes, train_mean, '--', color=\"#111111\",  label=\"Training score\")\n",
    "plt.plot(train_sizes, test_mean, color=\"#111111\", label=\"Cross-validation score\")\n",
    "\n",
    "# Draw bands\n",
    "plt.fill_between(train_sizes, train_mean - train_std, train_mean + train_std, color=\"#DDDDDD\")\n",
    "plt.fill_between(train_sizes, test_mean - test_std, test_mean + test_std, color=\"#DDDDDD\")\n",
    "\n",
    "# Create plot\n",
    "plt.title(\"Learning Curve\")\n",
    "plt.xlabel(\"Training Set Size\"), plt.ylabel(\"Accuracy Score\"), plt.legend(loc=\"best\")\n",
    "plt.tight_layout()\n",
    "plt.show()"
   ]
  },
  {
   "cell_type": "markdown",
   "metadata": {
    "deletable": true,
    "editable": true
   },
   "source": [
    "### Pipeline 2: Summary Results"
   ]
  },
  {
   "cell_type": "code",
   "execution_count": 83,
   "metadata": {
    "collapsed": false,
    "deletable": true,
    "editable": true
   },
   "outputs": [
    {
     "name": "stdout",
     "output_type": "stream",
     "text": [
      "0.8510600706713781\n"
     ]
    }
   ],
   "source": [
    "# accuracy\n",
    "accuracy = np.mean(predicted == y_test)\n",
    "print(accuracy)"
   ]
  },
  {
   "cell_type": "code",
   "execution_count": 84,
   "metadata": {
    "collapsed": false,
    "deletable": true,
    "editable": true
   },
   "outputs": [
    {
     "name": "stdout",
     "output_type": "stream",
     "text": [
      "             precision    recall  f1-score   support\n",
      "\n",
      "          1       0.77      0.85      0.81      1853\n",
      "          2       0.93      0.86      0.89      1922\n",
      "          3       0.86      0.84      0.85      1885\n",
      "\n",
      "avg / total       0.86      0.85      0.85      5660\n",
      "\n"
     ]
    }
   ],
   "source": [
    "# classification report\n",
    "print(classification_report(y_test, predicted))"
   ]
  },
  {
   "cell_type": "code",
   "execution_count": 85,
   "metadata": {
    "collapsed": false,
    "deletable": true,
    "editable": true
   },
   "outputs": [
    {
     "data": {
      "text/plain": [
       "array([[1577,  102,  174],\n",
       "       [ 184, 1657,   81],\n",
       "       [ 275,   27, 1583]])"
      ]
     },
     "execution_count": 85,
     "metadata": {},
     "output_type": "execute_result"
    }
   ],
   "source": [
    "# confusion matrix\n",
    "from sklearn.metrics import confusion_matrix\n",
    "confusion_matrix(y_test, predicted)"
   ]
  },
  {
   "cell_type": "markdown",
   "metadata": {
    "deletable": true,
    "editable": true
   },
   "source": [
    "### Pipeline 2: Confusion Matrix"
   ]
  },
  {
   "cell_type": "code",
   "execution_count": 86,
   "metadata": {
    "collapsed": false,
    "deletable": true,
    "editable": true
   },
   "outputs": [
    {
     "name": "stdout",
     "output_type": "stream",
     "text": [
      "Normalized confusion matrix\n",
      "[[0.85 0.06 0.09]\n",
      " [0.1  0.86 0.04]\n",
      " [0.15 0.01 0.84]]\n"
     ]
    },
    {
     "name": "stderr",
     "output_type": "stream",
     "text": [
      "/usr/local/envs/py3env/lib/python3.5/site-packages/matplotlib/font_manager.py:1320: UserWarning: findfont: Font family ['sans-serif'] not found. Falling back to DejaVu Sans\n",
      "  (prop.get_family(), self.defaultFamily[fontext]))\n"
     ]
    },
    {
     "data": {
      "image/png": "[encoded data removed]",
      "text/plain": [
       "<matplotlib.figure.Figure at 0x7ff1aefbec50>"
      ]
     },
     "metadata": {},
     "output_type": "display_data"
    }
   ],
   "source": [
    "import matplotlib.pyplot as plt\n",
    "import itertools\n",
    "\n",
    "class_names = ['Left','Center','Right']\n",
    "\n",
    "def plot_confusion_matrix(cm, classes,\n",
    "                          normalize=False,\n",
    "                          title='Confusion matrix',\n",
    "                          cmap=plt.cm.Blues):\n",
    "    \"\"\"\n",
    "    This function prints and plots the confusion matrix.\n",
    "    Normalization can be applied by setting `normalize=True`.\n",
    "    \"\"\"\n",
    "    if normalize:\n",
    "        cm = cm.astype('float') / cm.sum(axis=1)[:, np.newaxis]\n",
    "        print(\"Normalized confusion matrix\")\n",
    "    else:\n",
    "        print('Confusion matrix, without normalization')\n",
    "\n",
    "    print(cm)\n",
    "\n",
    "    plt.imshow(cm, interpolation='nearest', cmap=cmap)\n",
    "    plt.title(title)\n",
    "    plt.colorbar()\n",
    "    tick_marks = np.arange(len(classes))\n",
    "    plt.xticks(tick_marks, classes, rotation=45)\n",
    "    plt.yticks(tick_marks, classes)\n",
    "\n",
    "    fmt = '.2f' if normalize else 'd'\n",
    "    thresh = cm.max() / 2.\n",
    "    for i, j in itertools.product(range(cm.shape[0]), range(cm.shape[1])):\n",
    "        plt.text(j, i, format(cm[i, j], fmt),\n",
    "                 horizontalalignment=\"center\",\n",
    "                 color=\"white\" if cm[i, j] > thresh else \"black\")\n",
    "\n",
    "    plt.tight_layout()\n",
    "    plt.ylabel('True label')\n",
    "    plt.xlabel('Predicted label')\n",
    "\n",
    "# Compute confusion matrix\n",
    "cnf_matrix = confusion_matrix(y_test, predicted)\n",
    "np.set_printoptions(precision=2)\n",
    "\n",
    "# Plot normalized confusion matrix\n",
    "plt.figure()\n",
    "plot_confusion_matrix(cnf_matrix, classes=class_names, normalize=True,\n",
    "                      title='Normalized confusion matrix')\n",
    "\n",
    "plt.show()"
   ]
  },
  {
   "cell_type": "markdown",
   "metadata": {
    "deletable": true,
    "editable": true
   },
   "source": [
    "# Early Data Exploration"
   ]
  },
  {
   "cell_type": "markdown",
   "metadata": {
    "deletable": true,
    "editable": true
   },
   "source": [
    "### Multinomial Bayes"
   ]
  },
  {
   "cell_type": "markdown",
   "metadata": {
    "deletable": true,
    "editable": true
   },
   "source": [
    "**Text Feature**"
   ]
  },
  {
   "cell_type": "code",
   "execution_count": 205,
   "metadata": {
    "collapsed": false,
    "deletable": true,
    "editable": true
   },
   "outputs": [],
   "source": [
    "from sklearn.naive_bayes import MultinomialNB"
   ]
  },
  {
   "cell_type": "code",
   "execution_count": 206,
   "metadata": {
    "collapsed": false,
    "deletable": true,
    "editable": true
   },
   "outputs": [],
   "source": [
    "# Run Multinomial Naive Bayes for Text Feature\n",
    "text_nb = Pipeline([('tfidf', TfidfVectorizer(ngram_range=(1,3), stop_words='english', max_df=0.4, min_df = 0.05, sublinear_tf=True, norm='l2' )), \n",
    "                     ('clf', MultinomialNB()),])"
   ]
  },
  {
   "cell_type": "code",
   "execution_count": 207,
   "metadata": {
    "collapsed": false,
    "deletable": true,
    "editable": true
   },
   "outputs": [
    {
     "data": {
      "text/plain": [
       "Pipeline(memory=None,\n",
       "     steps=[('tfidf', TfidfVectorizer(analyzer='word', binary=False, decode_error='strict',\n",
       "        dtype=<class 'numpy.int64'>, encoding='utf-8', input='content',\n",
       "        lowercase=True, max_df=0.4, max_features=None, min_df=0.05,\n",
       "        ngram_range=(1, 3), norm='l2', preprocessor=None, smooth_idf=True...rue,\n",
       "        vocabulary=None)), ('clf', MultinomialNB(alpha=1.0, class_prior=None, fit_prior=True))])"
      ]
     },
     "execution_count": 207,
     "metadata": {},
     "output_type": "execute_result"
    }
   ],
   "source": [
    "text_nb.fit(X=counts_text, y=targets)  "
   ]
  },
  {
   "cell_type": "code",
   "execution_count": 208,
   "metadata": {
    "collapsed": false,
    "deletable": true,
    "editable": true
   },
   "outputs": [
    {
     "name": "stdout",
     "output_type": "stream",
     "text": [
      "0.5421940928270043\n"
     ]
    }
   ],
   "source": [
    "pred_text = text_nb.predict(test_text)\n",
    "accuracy = np.mean(pred_text == test_targets)\n",
    "print(accuracy)"
   ]
  },
  {
   "cell_type": "code",
   "execution_count": 209,
   "metadata": {
    "collapsed": false,
    "deletable": true,
    "editable": true
   },
   "outputs": [
    {
     "name": "stdout",
     "output_type": "stream",
     "text": [
      "             precision    recall  f1-score   support\n",
      "\n",
      "          1       0.49      0.55      0.52       163\n",
      "          2       0.64      0.57      0.60       143\n",
      "          3       0.52      0.51      0.52       168\n",
      "\n",
      "avg / total       0.55      0.54      0.54       474\n",
      "\n"
     ]
    }
   ],
   "source": [
    "print(classification_report(test_targets, pred_text))"
   ]
  },
  {
   "cell_type": "markdown",
   "metadata": {
    "deletable": true,
    "editable": true
   },
   "source": [
    "**Source Feature**"
   ]
  },
  {
   "cell_type": "code",
   "execution_count": 210,
   "metadata": {
    "collapsed": false,
    "deletable": true,
    "editable": true
   },
   "outputs": [],
   "source": [
    "# Run Multinomial Naive Bayes for Source\n",
    "source_nb = Pipeline([('tfidf', TfidfVectorizer(ngram_range=(1,5), sublinear_tf=True, norm='l2' )), \n",
    "                     ('clf', MultinomialNB()),])"
   ]
  },
  {
   "cell_type": "code",
   "execution_count": 211,
   "metadata": {
    "collapsed": false,
    "deletable": true,
    "editable": true
   },
   "outputs": [
    {
     "data": {
      "text/plain": [
       "Pipeline(memory=None,\n",
       "     steps=[('tfidf', TfidfVectorizer(analyzer='word', binary=False, decode_error='strict',\n",
       "        dtype=<class 'numpy.int64'>, encoding='utf-8', input='content',\n",
       "        lowercase=True, max_df=1.0, max_features=None, min_df=1,\n",
       "        ngram_range=(1, 5), norm='l2', preprocessor=None, smooth_idf=True,\n",
       " ...rue,\n",
       "        vocabulary=None)), ('clf', MultinomialNB(alpha=1.0, class_prior=None, fit_prior=True))])"
      ]
     },
     "execution_count": 211,
     "metadata": {},
     "output_type": "execute_result"
    }
   ],
   "source": [
    "source_nb.fit(counts_source, targets) "
   ]
  },
  {
   "cell_type": "code",
   "execution_count": 212,
   "metadata": {
    "collapsed": false,
    "deletable": true,
    "editable": true
   },
   "outputs": [
    {
     "name": "stdout",
     "output_type": "stream",
     "text": [
      "0.9873417721518988\n"
     ]
    }
   ],
   "source": [
    "pred_source = source_nb.predict(test_source)\n",
    "accuracy = np.mean(pred_source == test_targets)\n",
    "print(accuracy)"
   ]
  },
  {
   "cell_type": "code",
   "execution_count": 213,
   "metadata": {
    "collapsed": false,
    "deletable": true,
    "editable": true
   },
   "outputs": [
    {
     "name": "stdout",
     "output_type": "stream",
     "text": [
      "             precision    recall  f1-score   support\n",
      "\n",
      "          1       0.96      1.00      0.98       163\n",
      "          2       1.00      0.98      0.99       143\n",
      "          3       1.00      0.98      0.99       168\n",
      "\n",
      "avg / total       0.99      0.99      0.99       474\n",
      "\n"
     ]
    }
   ],
   "source": [
    "print(classification_report(test_targets, pred_source))"
   ]
  },
  {
   "cell_type": "markdown",
   "metadata": {
    "deletable": true,
    "editable": true
   },
   "source": [
    "**Sentiment Feature**"
   ]
  },
  {
   "cell_type": "code",
   "execution_count": 214,
   "metadata": {
    "collapsed": false,
    "deletable": true,
    "editable": true
   },
   "outputs": [
    {
     "data": {
      "text/plain": [
       "SGDClassifier(alpha=0.001, average=False, class_weight=None, epsilon=0.1,\n",
       "       eta0=0.0, fit_intercept=True, l1_ratio=0.15,\n",
       "       learning_rate='optimal', loss='hinge', max_iter=5, n_iter=None,\n",
       "       n_jobs=1, penalty='l2', power_t=0.5, random_state=42, shuffle=True,\n",
       "       tol=None, verbose=0, warm_start=False)"
      ]
     },
     "execution_count": 214,
     "metadata": {},
     "output_type": "execute_result"
    }
   ],
   "source": [
    "# Run Multinomial Naive Bayes for Sentiment Score\n",
    "sent_nb = SGDClassifier(loss='hinge', penalty='l2', alpha=1e-3, random_state=42, max_iter=5, tol=None)\n",
    "sent_nb.fit(counts_sent, targets) "
   ]
  },
  {
   "cell_type": "code",
   "execution_count": 203,
   "metadata": {
    "collapsed": false,
    "deletable": true,
    "editable": true
   },
   "outputs": [
    {
     "name": "stdout",
     "output_type": "stream",
     "text": [
      "0.3438818565400844\n"
     ]
    }
   ],
   "source": [
    "pred_sent = sent_nb.predict(test_sent)\n",
    "accuracy = np.mean(pred_sent == test_targets)\n",
    "print(accuracy)"
   ]
  },
  {
   "cell_type": "code",
   "execution_count": 204,
   "metadata": {
    "collapsed": false,
    "deletable": true,
    "editable": true
   },
   "outputs": [
    {
     "name": "stdout",
     "output_type": "stream",
     "text": [
      "             precision    recall  f1-score   support\n",
      "\n",
      "          1       0.34      1.00      0.51       163\n",
      "          2       0.00      0.00      0.00       143\n",
      "          3       0.00      0.00      0.00       168\n",
      "\n",
      "avg / total       0.12      0.34      0.18       474\n",
      "\n"
     ]
    },
    {
     "name": "stderr",
     "output_type": "stream",
     "text": [
      "/usr/local/envs/py3env/lib/python3.5/site-packages/sklearn/metrics/classification.py:1135: UndefinedMetricWarning: Precision and F-score are ill-defined and being set to 0.0 in labels with no predicted samples.\n",
      "  'precision', 'predicted', average, warn_for)\n"
     ]
    }
   ],
   "source": [
    "print(classification_report(test_targets, pred_sent))"
   ]
  },
  {
   "cell_type": "code",
   "execution_count": 195,
   "metadata": {
    "collapsed": false,
    "deletable": true,
    "editable": true
   },
   "outputs": [
    {
     "data": {
      "text/plain": [
       "MultinomialNB(alpha=1.0, class_prior=None, fit_prior=True)"
      ]
     },
     "execution_count": 195,
     "metadata": {},
     "output_type": "execute_result"
    }
   ],
   "source": [
    "# Run Multinomial Naive Bayes for Sentiment Magnitude\n",
    "mag_nb = SGDClassifier(loss='hinge', penalty='l2', alpha=1e-3, random_state=42, max_iter=5, tol=None)\n",
    "mag_nb.fit(counts_mag, targets) "
   ]
  },
  {
   "cell_type": "code",
   "execution_count": 197,
   "metadata": {
    "collapsed": false,
    "deletable": true,
    "editable": true
   },
   "outputs": [
    {
     "name": "stdout",
     "output_type": "stream",
     "text": [
      "0.3438818565400844\n"
     ]
    }
   ],
   "source": [
    "pred_mag = mag_nb.predict(test_mag)\n",
    "accuracy = np.mean(pred_mag == test_targets)\n",
    "print(accuracy)"
   ]
  },
  {
   "cell_type": "code",
   "execution_count": 201,
   "metadata": {
    "collapsed": false,
    "deletable": true,
    "editable": true
   },
   "outputs": [
    {
     "name": "stdout",
     "output_type": "stream",
     "text": [
      "             precision    recall  f1-score   support\n",
      "\n",
      "          1       0.34      1.00      0.51       163\n",
      "          2       0.00      0.00      0.00       143\n",
      "          3       0.00      0.00      0.00       168\n",
      "\n",
      "avg / total       0.12      0.34      0.18       474\n",
      "\n"
     ]
    },
    {
     "name": "stderr",
     "output_type": "stream",
     "text": [
      "/usr/local/envs/py3env/lib/python3.5/site-packages/sklearn/metrics/classification.py:1135: UndefinedMetricWarning: Precision and F-score are ill-defined and being set to 0.0 in labels with no predicted samples.\n",
      "  'precision', 'predicted', average, warn_for)\n"
     ]
    }
   ],
   "source": [
    "print(classification_report(test_targets, pred_mag))"
   ]
  },
  {
   "cell_type": "markdown",
   "metadata": {
    "deletable": true,
    "editable": true
   },
   "source": [
    "#### Support Vector Machine"
   ]
  },
  {
   "cell_type": "code",
   "execution_count": 69,
   "metadata": {
    "collapsed": false,
    "deletable": true,
    "editable": true
   },
   "outputs": [],
   "source": [
    "# Run Linear SVC\n",
    "from sklearn.linear_model import SGDClassifier\n",
    "\n",
    "text_SGD = Pipeline([('tfidf', TfidfVectorizer(ngram_range=(1,3), stop_words='english', sublinear_tf=True, norm='l2' )),\n",
    "                     ('SVC', SGDClassifier(loss='hinge', penalty='l2', alpha=1e-3, random_state=42, max_iter=5, tol=None)),])"
   ]
  },
  {
   "cell_type": "code",
   "execution_count": 70,
   "metadata": {
    "collapsed": false,
    "deletable": true,
    "editable": true
   },
   "outputs": [
    {
     "data": {
      "text/plain": [
       "Pipeline(memory=None,\n",
       "     steps=[('tfidf', TfidfVectorizer(analyzer='word', binary=False, decode_error='strict',\n",
       "        dtype=<class 'numpy.int64'>, encoding='utf-8', input='content',\n",
       "        lowercase=True, max_df=1.0, max_features=None, min_df=1,\n",
       "        ngram_range=(1, 3), norm='l2', preprocessor=None, smooth_idf=True,\n",
       " ...ty='l2', power_t=0.5, random_state=42, shuffle=True,\n",
       "       tol=None, verbose=0, warm_start=False))])"
      ]
     },
     "execution_count": 70,
     "metadata": {},
     "output_type": "execute_result"
    }
   ],
   "source": [
    "text_SGD.fit(counts_text, targets)"
   ]
  },
  {
   "cell_type": "code",
   "execution_count": 71,
   "metadata": {
    "collapsed": false,
    "deletable": true,
    "editable": true
   },
   "outputs": [
    {
     "name": "stdout",
     "output_type": "stream",
     "text": [
      "0.5319148936170213\n"
     ]
    }
   ],
   "source": [
    "pred_text_SGD = text_SGD.predict(test_text)\n",
    "accuracy = np.mean(pred_text_SGD == test_targets)\n",
    "print(accuracy)"
   ]
  },
  {
   "cell_type": "code",
   "execution_count": 72,
   "metadata": {
    "collapsed": false,
    "deletable": true,
    "editable": true
   },
   "outputs": [
    {
     "name": "stdout",
     "output_type": "stream",
     "text": [
      "             precision    recall  f1-score   support\n",
      "\n",
      "          1       0.46      0.56      0.50       156\n",
      "          2       0.62      0.70      0.66       155\n",
      "          3       0.51      0.34      0.41       159\n",
      "\n",
      "avg / total       0.53      0.53      0.52       470\n",
      "\n"
     ]
    }
   ],
   "source": [
    "print(classification_report(test_targets, pred_text_SGD))"
   ]
  }
 ],
 "metadata": {
  "kernelspec": {
   "display_name": "Python 3",
   "language": "python",
   "name": "python3"
  },
  "language_info": {
   "codemirror_mode": {
    "name": "ipython",
    "version": 3
   },
   "file_extension": ".py",
   "mimetype": "text/x-python",
   "name": "python",
   "nbconvert_exporter": "python",
   "pygments_lexer": "ipython3",
   "version": "3.5.5"
  }
 },
 "nbformat": 4,
 "nbformat_minor": 2
}
