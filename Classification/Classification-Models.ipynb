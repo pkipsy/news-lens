{
 "cells": [
  {
   "cell_type": "markdown",
   "metadata": {
    "deletable": true,
    "editable": true
   },
   "source": [
    "# Predicting the political bias of news articles with linear models"
   ]
  },
  {
   "cell_type": "markdown",
   "metadata": {},
   "source": [
    "This notebook tests classifiers over a NewsPlease crawl of 3k+ political news articles from [All Sides](https://www.allsides.com/unbiased-balanced-news)' headline roundups. The crawl covers 100+ media sources over a two year span, starting in June 2016."
   ]
  },
  {
   "cell_type": "markdown",
   "metadata": {
    "deletable": true,
    "editable": true
   },
   "source": [
    "## Load Preprocessed Text"
   ]
  },
  {
   "cell_type": "code",
   "execution_count": 2,
   "metadata": {
    "collapsed": false,
    "deletable": true,
    "editable": true
   },
   "outputs": [
    {
     "data": {
      "text/html": [
       "<div>\n",
       "<style scoped>\n",
       "    .dataframe tbody tr th:only-of-type {\n",
       "        vertical-align: middle;\n",
       "    }\n",
       "\n",
       "    .dataframe tbody tr th {\n",
       "        vertical-align: top;\n",
       "    }\n",
       "\n",
       "    .dataframe thead th {\n",
       "        text-align: right;\n",
       "    }\n",
       "</style>\n",
       "<table border=\"1\" class=\"dataframe\">\n",
       "  <thead>\n",
       "    <tr style=\"text-align: right;\">\n",
       "      <th></th>\n",
       "      <th>bias</th>\n",
       "      <th>text</th>\n",
       "      <th>headline</th>\n",
       "      <th>source</th>\n",
       "      <th>date</th>\n",
       "      <th>sentiment</th>\n",
       "      <th>magnitude</th>\n",
       "      <th>length</th>\n",
       "      <th>sentences</th>\n",
       "      <th>reading</th>\n",
       "    </tr>\n",
       "  </thead>\n",
       "  <tbody>\n",
       "    <tr>\n",
       "      <th>0</th>\n",
       "      <td>1</td>\n",
       "      <td>melania trump appears plagiarized speech openi...</td>\n",
       "      <td>melania trump plagiarized michelle obama woman...</td>\n",
       "      <td>Daily Beast</td>\n",
       "      <td>2016-07-19</td>\n",
       "      <td>0.0</td>\n",
       "      <td>13.1</td>\n",
       "      <td>901</td>\n",
       "      <td>51</td>\n",
       "      <td>11.4</td>\n",
       "    </tr>\n",
       "    <tr>\n",
       "      <th>1</th>\n",
       "      <td>1</td>\n",
       "      <td>federal communications commission took aim sig...</td>\n",
       "      <td>fcc plan would give internet providers power c...</td>\n",
       "      <td>Washington Post</td>\n",
       "      <td>2017-11-21</td>\n",
       "      <td>-0.1</td>\n",
       "      <td>11.0</td>\n",
       "      <td>957</td>\n",
       "      <td>39</td>\n",
       "      <td>16.4</td>\n",
       "    </tr>\n",
       "    <tr>\n",
       "      <th>2</th>\n",
       "      <td>1</td>\n",
       "      <td>radical idea live miles south canadian border ...</td>\n",
       "      <td>opinion bernie sanders need medicare</td>\n",
       "      <td>New York Times</td>\n",
       "      <td>2017-09-13</td>\n",
       "      <td>0.0</td>\n",
       "      <td>3.0</td>\n",
       "      <td>379</td>\n",
       "      <td>18</td>\n",
       "      <td>12.6</td>\n",
       "    </tr>\n",
       "    <tr>\n",
       "      <th>3</th>\n",
       "      <td>3</td>\n",
       "      <td>democrats indicated sunday decision attorney g...</td>\n",
       "      <td>attorney general jeff sessions testify senate ...</td>\n",
       "      <td>Washington Times</td>\n",
       "      <td>2017-06-12</td>\n",
       "      <td>-0.1</td>\n",
       "      <td>9.9</td>\n",
       "      <td>1096</td>\n",
       "      <td>86</td>\n",
       "      <td>11.7</td>\n",
       "    </tr>\n",
       "    <tr>\n",
       "      <th>4</th>\n",
       "      <td>1</td>\n",
       "      <td>california highway patrol takes pride able saf...</td>\n",
       "      <td>lapd chief mayor warn taking anti trump protes...</td>\n",
       "      <td>Los Angeles Times</td>\n",
       "      <td>2016-11-10</td>\n",
       "      <td>0.0</td>\n",
       "      <td>0.6</td>\n",
       "      <td>62</td>\n",
       "      <td>2</td>\n",
       "      <td>19.8</td>\n",
       "    </tr>\n",
       "  </tbody>\n",
       "</table>\n",
       "</div>"
      ],
      "text/plain": [
       "   bias                                               text  \\\n",
       "0     1  melania trump appears plagiarized speech openi...   \n",
       "1     1  federal communications commission took aim sig...   \n",
       "2     1  radical idea live miles south canadian border ...   \n",
       "3     3  democrats indicated sunday decision attorney g...   \n",
       "4     1  california highway patrol takes pride able saf...   \n",
       "\n",
       "                                            headline             source  \\\n",
       "0  melania trump plagiarized michelle obama woman...        Daily Beast   \n",
       "1  fcc plan would give internet providers power c...    Washington Post   \n",
       "2               opinion bernie sanders need medicare     New York Times   \n",
       "3  attorney general jeff sessions testify senate ...   Washington Times   \n",
       "4  lapd chief mayor warn taking anti trump protes...  Los Angeles Times   \n",
       "\n",
       "         date  sentiment  magnitude  length  sentences  reading  \n",
       "0  2016-07-19        0.0       13.1     901         51     11.4  \n",
       "1  2017-11-21       -0.1       11.0     957         39     16.4  \n",
       "2  2017-09-13        0.0        3.0     379         18     12.6  \n",
       "3  2017-06-12       -0.1        9.9    1096         86     11.7  \n",
       "4  2016-11-10        0.0        0.6      62          2     19.8  "
      ]
     },
     "execution_count": 2,
     "metadata": {},
     "output_type": "execute_result"
    }
   ],
   "source": [
    "#import pandas\n",
    "import pandas as pd \n",
    "\n",
    "# define csv read\n",
    "def read_data2(filename):\n",
    "    # read in csv\n",
    "    df = pd.read_csv(filename, sep='\\t', encoding='utf-8')\n",
    "    \n",
    "    #limit df content to bias, text, headline, and source\n",
    "    df = df.loc[:, ['bias', 'text', 'headline', 'source', 'date', 'sentiment', 'magnitude', 'length', 'sentences', 'reading']]\n",
    "    \n",
    "    return df\n",
    "\n",
    "# load cleaned file with sentiment data\n",
    "new = read_data2('news-corpus-df-clean.csv')\n",
    "new.head()"
   ]
  },
  {
   "cell_type": "code",
   "execution_count": 3,
   "metadata": {
    "collapsed": false,
    "deletable": true,
    "editable": true
   },
   "outputs": [
    {
     "data": {
      "text/plain": [
       "112"
      ]
     },
     "execution_count": 3,
     "metadata": {},
     "output_type": "execute_result"
    }
   ],
   "source": [
    "# check how many distinct sources are represented\n",
    "len(set(new['source'].values.tolist()))"
   ]
  },
  {
   "cell_type": "markdown",
   "metadata": {
    "deletable": true,
    "editable": true
   },
   "source": [
    "### Remove Short Texts"
   ]
  },
  {
   "cell_type": "code",
   "execution_count": 4,
   "metadata": {
    "collapsed": false,
    "deletable": true,
    "editable": true
   },
   "outputs": [
    {
     "data": {
      "text/plain": [
       "<matplotlib.axes._subplots.AxesSubplot at 0x7f6ff82442b0>"
      ]
     },
     "execution_count": 4,
     "metadata": {},
     "output_type": "execute_result"
    },
    {
     "name": "stderr",
     "output_type": "stream",
     "text": [
      "/usr/local/envs/py3env/lib/python3.5/site-packages/matplotlib/font_manager.py:1320: UserWarning: findfont: Font family ['sans-serif'] not found. Falling back to DejaVu Sans\n",
      "  (prop.get_family(), self.defaultFamily[fontext]))\n"
     ]
    },
    {
     "data": {
      "image/png": "[encoded data removed]",
      "text/plain": [
       "<matplotlib.figure.Figure at 0x7f7025528860>"
      ]
     },
     "metadata": {},
     "output_type": "display_data"
    }
   ],
   "source": [
    "# get density plot of text length\n",
    "new.length.plot.kde()"
   ]
  },
  {
   "cell_type": "code",
   "execution_count": 5,
   "metadata": {
    "collapsed": false,
    "deletable": true,
    "editable": true
   },
   "outputs": [
    {
     "name": "stdout",
     "output_type": "stream",
     "text": [
      "DescribeResult(nobs=3164, minmax=(41, 3399), mean=734.3305941845765, variance=253248.35542158806, skewness=1.2015716280361053, kurtosis=2.048165599500151)\n"
     ]
    }
   ],
   "source": [
    "# examine distribution of text lengths\n",
    "from scipy import stats\n",
    "print(stats.describe(new.length))"
   ]
  },
  {
   "cell_type": "code",
   "execution_count": 6,
   "metadata": {
    "collapsed": false,
    "deletable": true,
    "editable": true
   },
   "outputs": [
    {
     "name": "stdout",
     "output_type": "stream",
     "text": [
      "Under 200 words:  368\n",
      "Over 2000 words:  23\n"
     ]
    }
   ],
   "source": [
    "# how many texts in the dataset under/over a certain length?\n",
    "print('Under 200 words: ', len(new[new.length < 200]))\n",
    "print('Over 2000 words: ', len(new[new.length > 2500]))"
   ]
  },
  {
   "cell_type": "code",
   "execution_count": 7,
   "metadata": {
    "collapsed": true,
    "deletable": true,
    "editable": true
   },
   "outputs": [],
   "source": [
    "# clip dataset of overly short / lengthy texts\n",
    "new = new[new.length > 200]\n",
    "new = new[new.length < 2500]"
   ]
  },
  {
   "cell_type": "markdown",
   "metadata": {
    "deletable": true,
    "editable": true
   },
   "source": [
    "### Assess Readability Across Bias Groups"
   ]
  },
  {
   "cell_type": "code",
   "execution_count": 8,
   "metadata": {
    "collapsed": false,
    "deletable": true,
    "editable": true
   },
   "outputs": [
    {
     "data": {
      "text/plain": [
       "<matplotlib.axes._subplots.AxesSubplot at 0x7f6ff8163978>"
      ]
     },
     "execution_count": 8,
     "metadata": {},
     "output_type": "execute_result"
    },
    {
     "name": "stderr",
     "output_type": "stream",
     "text": [
      "/usr/local/envs/py3env/lib/python3.5/site-packages/matplotlib/font_manager.py:1320: UserWarning: findfont: Font family ['sans-serif'] not found. Falling back to DejaVu Sans\n",
      "  (prop.get_family(), self.defaultFamily[fontext]))\n"
     ]
    },
    {
     "data": {
      "image/png": "[encoded data removed]",
      "text/plain": [
       "<matplotlib.figure.Figure at 0x7f6ff812f278>"
      ]
     },
     "metadata": {},
     "output_type": "display_data"
    }
   ],
   "source": [
    "# get density plot of text readability\n",
    "new.reading.plot.kde()"
   ]
  },
  {
   "cell_type": "code",
   "execution_count": 9,
   "metadata": {
    "collapsed": false,
    "deletable": true,
    "editable": true
   },
   "outputs": [
    {
     "data": {
      "text/html": [
       "<div>\n",
       "<style scoped>\n",
       "    .dataframe tbody tr th:only-of-type {\n",
       "        vertical-align: middle;\n",
       "    }\n",
       "\n",
       "    .dataframe tbody tr th {\n",
       "        vertical-align: top;\n",
       "    }\n",
       "\n",
       "    .dataframe thead th {\n",
       "        text-align: right;\n",
       "    }\n",
       "</style>\n",
       "<table border=\"1\" class=\"dataframe\">\n",
       "  <thead>\n",
       "    <tr style=\"text-align: right;\">\n",
       "      <th></th>\n",
       "      <th>count</th>\n",
       "      <th>mean</th>\n",
       "      <th>std</th>\n",
       "      <th>min</th>\n",
       "      <th>25%</th>\n",
       "      <th>50%</th>\n",
       "      <th>75%</th>\n",
       "      <th>max</th>\n",
       "    </tr>\n",
       "    <tr>\n",
       "      <th>bias</th>\n",
       "      <th></th>\n",
       "      <th></th>\n",
       "      <th></th>\n",
       "      <th></th>\n",
       "      <th></th>\n",
       "      <th></th>\n",
       "      <th></th>\n",
       "      <th></th>\n",
       "    </tr>\n",
       "  </thead>\n",
       "  <tbody>\n",
       "    <tr>\n",
       "      <th>1</th>\n",
       "      <td>1143.0</td>\n",
       "      <td>13.507174</td>\n",
       "      <td>2.339327</td>\n",
       "      <td>6.7</td>\n",
       "      <td>12.0</td>\n",
       "      <td>13.5</td>\n",
       "      <td>14.95</td>\n",
       "      <td>24.5</td>\n",
       "    </tr>\n",
       "    <tr>\n",
       "      <th>2</th>\n",
       "      <td>668.0</td>\n",
       "      <td>14.139970</td>\n",
       "      <td>2.300317</td>\n",
       "      <td>6.8</td>\n",
       "      <td>12.7</td>\n",
       "      <td>14.0</td>\n",
       "      <td>15.40</td>\n",
       "      <td>27.0</td>\n",
       "    </tr>\n",
       "    <tr>\n",
       "      <th>3</th>\n",
       "      <td>960.0</td>\n",
       "      <td>12.872917</td>\n",
       "      <td>2.229426</td>\n",
       "      <td>5.5</td>\n",
       "      <td>11.3</td>\n",
       "      <td>12.9</td>\n",
       "      <td>14.30</td>\n",
       "      <td>22.2</td>\n",
       "    </tr>\n",
       "  </tbody>\n",
       "</table>\n",
       "</div>"
      ],
      "text/plain": [
       "       count       mean       std  min   25%   50%    75%   max\n",
       "bias                                                           \n",
       "1     1143.0  13.507174  2.339327  6.7  12.0  13.5  14.95  24.5\n",
       "2      668.0  14.139970  2.300317  6.8  12.7  14.0  15.40  27.0\n",
       "3      960.0  12.872917  2.229426  5.5  11.3  12.9  14.30  22.2"
      ]
     },
     "execution_count": 9,
     "metadata": {},
     "output_type": "execute_result"
    }
   ],
   "source": [
    "#new.groupby('bias')['reading'].mean()\n",
    "new['reading'].groupby(new['bias']).describe()"
   ]
  },
  {
   "cell_type": "code",
   "execution_count": 10,
   "metadata": {
    "collapsed": false,
    "deletable": true,
    "editable": true
   },
   "outputs": [
    {
     "name": "stderr",
     "output_type": "stream",
     "text": [
      "/usr/local/envs/py3env/lib/python3.5/site-packages/matplotlib/font_manager.py:1320: UserWarning: findfont: Font family ['sans-serif'] not found. Falling back to DejaVu Sans\n",
      "  (prop.get_family(), self.defaultFamily[fontext]))\n"
     ]
    },
    {
     "data": {
      "image/png": "[encoded data removed]",
      "text/plain": [
       "<matplotlib.figure.Figure at 0x7f6ff809dc88>"
      ]
     },
     "metadata": {},
     "output_type": "display_data"
    }
   ],
   "source": [
    "new['reading'].groupby(new['bias']).plot.kde();"
   ]
  },
  {
   "cell_type": "markdown",
   "metadata": {
    "deletable": true,
    "editable": true
   },
   "source": [
    "### Check Distribution of Texts Over Time"
   ]
  },
  {
   "cell_type": "code",
   "execution_count": 11,
   "metadata": {
    "collapsed": false,
    "deletable": true,
    "editable": true
   },
   "outputs": [
    {
     "name": "stdout",
     "output_type": "stream",
     "text": [
      "637 texts in 2016\n",
      "1386 texts in 2017\n",
      "748 texts in 2018\n"
     ]
    }
   ],
   "source": [
    "# new['date'].value_counts()\n",
    "\n",
    "def year_check(year):\n",
    "  counter = 0\n",
    "  for d in new.date:\n",
    "    if d[:4] == year:\n",
    "      counter +=1\n",
    "  print(str(counter)+' texts in '+year)\n",
    "\n",
    "years = ['2016', '2017', '2018']\n",
    "for y in years:\n",
    "  year_check(y)"
   ]
  },
  {
   "cell_type": "markdown",
   "metadata": {
    "deletable": true,
    "editable": true
   },
   "source": [
    "### Equalize Bias Groups"
   ]
  },
  {
   "cell_type": "markdown",
   "metadata": {
    "deletable": true,
    "editable": true
   },
   "source": [
    "**Note**: Decided not to implement."
   ]
  },
  {
   "cell_type": "code",
   "execution_count": 12,
   "metadata": {
    "collapsed": false,
    "deletable": true,
    "editable": true
   },
   "outputs": [
    {
     "name": "stdout",
     "output_type": "stream",
     "text": [
      "Left:  1143\n",
      "Center:  668\n",
      "Right:  960\n"
     ]
    }
   ],
   "source": [
    "# check num of center labeled stories\n",
    "print('Left: ', new.loc[new['bias'] == 1].shape[0])\n",
    "print('Center: ', new.loc[new['bias'] == 2].shape[0])\n",
    "print('Right: ', new.loc[new['bias'] == 3].shape[0])"
   ]
  },
  {
   "cell_type": "code",
   "execution_count": 13,
   "metadata": {
    "collapsed": false,
    "deletable": true,
    "editable": true
   },
   "outputs": [
    {
     "data": {
      "text/plain": [
       "\"\\n# equalize numbers for each bias class\\ncenter = new.loc[new['bias'] == 2][0:n]\\nright = new.loc[new['bias'] == 3][0:n]\\nleft = new.loc[new['bias'] == 1][0:n]\\n\\n#new = center.append(right, ignore_index=True)\\n#new = new.append(left, ignore_index=True)\\n\\n# check new df size\\nnew.shape\\n\""
      ]
     },
     "execution_count": 13,
     "metadata": {},
     "output_type": "execute_result"
    }
   ],
   "source": [
    "'''\n",
    "# equalize numbers for each bias class\n",
    "center = new.loc[new['bias'] == 2][0:n]\n",
    "right = new.loc[new['bias'] == 3][0:n]\n",
    "left = new.loc[new['bias'] == 1][0:n]\n",
    "\n",
    "#new = center.append(right, ignore_index=True)\n",
    "#new = new.append(left, ignore_index=True)\n",
    "\n",
    "# check new df size\n",
    "new.shape\n",
    "'''"
   ]
  },
  {
   "cell_type": "markdown",
   "metadata": {
    "deletable": true,
    "editable": true
   },
   "source": [
    "### Define Features"
   ]
  },
  {
   "cell_type": "code",
   "execution_count": 14,
   "metadata": {
    "collapsed": false,
    "deletable": true,
    "editable": true
   },
   "outputs": [],
   "source": [
    "import numpy as np\n",
    "from sklearn.preprocessing import MinMaxScaler, FunctionTransformer\n",
    "from sklearn.feature_extraction.text import CountVectorizer, TfidfVectorizer, TfidfTransformer\n",
    "from sklearn.pipeline import Pipeline, FeatureUnion, make_pipeline, make_union\n",
    "from sklearn.metrics import classification_report\n",
    "from sklearn.multiclass import OneVsRestClassifier"
   ]
  },
  {
   "cell_type": "code",
   "execution_count": 15,
   "metadata": {
    "collapsed": true,
    "deletable": true,
    "editable": true
   },
   "outputs": [],
   "source": [
    "# get text function\n",
    "def get_text(X):\n",
    "  return X['text'].values\n",
    "\n",
    "# get source function\n",
    "def get_source(X):\n",
    "  return X['source'].values\n",
    "\n",
    "# get bias function\n",
    "def get_bias(y):\n",
    "  return y['bias'].values"
   ]
  },
  {
   "cell_type": "markdown",
   "metadata": {
    "deletable": true,
    "editable": true
   },
   "source": [
    "### Create a Pipeline Incorporating Multiple Features"
   ]
  },
  {
   "cell_type": "code",
   "execution_count": 16,
   "metadata": {
    "collapsed": false,
    "deletable": true,
    "editable": true
   },
   "outputs": [],
   "source": [
    "from sklearn.svm import LinearSVC\n",
    "\n",
    "classifier = Pipeline([\n",
    "    ('features', FeatureUnion([\n",
    "        ('text', Pipeline([\n",
    "            ('get_text', FunctionTransformer(get_text, validate=False)),\n",
    "            ('tfidf', TfidfVectorizer(ngram_range=(1,3), stop_words='english', max_df=0.4, min_df = 0.05, sublinear_tf=True, norm='l2' )), \n",
    "        ])),\n",
    "        ('source', Pipeline([\n",
    "            ('get_text', FunctionTransformer(get_source, validate=False)),\n",
    "            ('tfidf2', TfidfVectorizer(ngram_range=(1,5), sublinear_tf=True, norm='l2' )), \n",
    "        ])),\n",
    "      ],\n",
    "        # weight components in FeatureUnion\n",
    "        transformer_weights={\n",
    "            'text': 1,\n",
    "            'source': 1.5,\n",
    "        },\n",
    "    )),\n",
    "  \n",
    "    ('clf', OneVsRestClassifier(LinearSVC()))])"
   ]
  },
  {
   "cell_type": "code",
   "execution_count": 17,
   "metadata": {
    "collapsed": false,
    "deletable": true,
    "editable": true
   },
   "outputs": [],
   "source": [
    "# create training and test sets\n",
    "from sklearn.model_selection import train_test_split\n",
    "\n",
    "# subset data frame into features and outcomes\n",
    "features = new.loc[:, ['text', 'source']]\n",
    "outcomes = new.loc[:, ['bias']]\n",
    "\n",
    "X_train, X_test, y_train, y_test = train_test_split(features, outcomes, test_size=0.2)\n",
    "y_train, y_test = get_bias(y_train), get_bias(y_test)"
   ]
  },
  {
   "cell_type": "code",
   "execution_count": 17,
   "metadata": {
    "collapsed": false,
    "deletable": true,
    "editable": true
   },
   "outputs": [],
   "source": [
    "# fit model and test predictions\n",
    "classifier.fit(X_train, y_train)\n",
    "predicted = classifier.predict(X_test)"
   ]
  },
  {
   "cell_type": "code",
   "execution_count": 18,
   "metadata": {
    "collapsed": false,
    "deletable": true,
    "editable": true
   },
   "outputs": [
    {
     "name": "stdout",
     "output_type": "stream",
     "text": [
      "0.9927927927927928\n"
     ]
    }
   ],
   "source": [
    "accuracy = np.mean(predicted == y_test)\n",
    "print(accuracy)"
   ]
  },
  {
   "cell_type": "markdown",
   "metadata": {
    "deletable": true,
    "editable": true
   },
   "source": [
    "### Add More Features"
   ]
  },
  {
   "cell_type": "code",
   "execution_count": 18,
   "metadata": {
    "collapsed": true,
    "deletable": true,
    "editable": true
   },
   "outputs": [],
   "source": [
    "# get headline function\n",
    "def get_headline(X):\n",
    "  return X['headline'].values\n",
    "\n",
    "# get date function\n",
    "def get_date(X):\n",
    "  date = X.date.values\n",
    "  return np.array([int(x[:4]) for x in date]).reshape(-1, 1)\n",
    "\n",
    "# get sentiment score function\n",
    "def get_sent(X):\n",
    "  counts = X['sentiment'].values.reshape(-1, 1)\n",
    "  scaler = MinMaxScaler()\n",
    "  scaler.fit(counts)\n",
    "  sentiment = scaler.transform(counts)\n",
    "  return sentiment\n",
    "\n",
    "# get sentiment magnitude function\n",
    "def get_magnitude(X):\n",
    "  magnitude = X['magnitude'].values\n",
    "  return np.array(magnitude).reshape(-1, 1)\n",
    "\n",
    "# get num of sentences\n",
    "def get_sentences(X):\n",
    "  num_sent = X['sentences']\n",
    "  return np.array(num_sent).reshape(-1, 1)\n",
    "\n",
    "# get text length\n",
    "def get_text_len(X):\n",
    "  text_len = X['length'].values\n",
    "  return np.array(text_len).reshape(-1, 1)\n",
    "\n",
    "# get readability\n",
    "def get_read(X):\n",
    "  read = X['reading'].values\n",
    "  return np.array(read).reshape(-1, 1)"
   ]
  },
  {
   "cell_type": "markdown",
   "metadata": {
    "deletable": true,
    "editable": true
   },
   "source": [
    "### Pipeline 2: Classification without Source"
   ]
  },
  {
   "cell_type": "code",
   "execution_count": 154,
   "metadata": {
    "collapsed": false,
    "deletable": true,
    "editable": true
   },
   "outputs": [],
   "source": [
    "from sklearn.svm import LinearSVC\n",
    "\n",
    "classifier2 = Pipeline([\n",
    "    ('features', FeatureUnion([\n",
    "        ('text', Pipeline([\n",
    "            ('get_text', FunctionTransformer(get_text, validate=False)),\n",
    "            ('tfidf', TfidfVectorizer(ngram_range=(1,3), stop_words='english', max_df=0.4, min_df = 0.05, sublinear_tf=True, norm='l2' )), \n",
    "        ])),\n",
    "      \n",
    "        #('headline', Pipeline([\n",
    "        #    ('get_headline', FunctionTransformer(get_headline, validate=False)),\n",
    "        #    ('tf', CountVectorizer()), \n",
    "        #])),\n",
    "      \n",
    "        #('sentiment', Pipeline([\n",
    "        #    ('get_sent', FunctionTransformer(get_sent, validate=False)),\n",
    "        #])),\n",
    "      \n",
    "        ('magnitude', Pipeline([\n",
    "            ('get_mag', FunctionTransformer(get_magnitude, validate=False)),\n",
    "        ])),\n",
    "      \n",
    "        ('sentences', Pipeline([\n",
    "            ('get_sentences', FunctionTransformer(get_sentences, validate=False)),\n",
    "        ])),\n",
    "      \n",
    "        ('read', Pipeline([\n",
    "            ('get_read', FunctionTransformer(get_read, validate=False)),\n",
    "        ])),\n",
    "      \n",
    "        #('date', Pipeline([\n",
    "        #('get_date', FunctionTransformer(get_date, validate=False)),\n",
    "        #])),\n",
    "      \n",
    "      ],\n",
    "        # weight components in FeatureUnion\n",
    "        transformer_weights={\n",
    "            'text': 0.8,\n",
    "            #'headline': 0.5,\n",
    "            'sentiment': 0.4,\n",
    "            'magnitude':0.4,\n",
    "            'sentences':0.4,\n",
    "            'read':1,\n",
    "            #'date':0.6\n",
    "        },\n",
    "    )),\n",
    "  \n",
    "    ('clf', OneVsRestClassifier(LinearSVC()))])"
   ]
  },
  {
   "cell_type": "code",
   "execution_count": 155,
   "metadata": {
    "collapsed": true,
    "deletable": true,
    "editable": true
   },
   "outputs": [],
   "source": [
    "# create training and test sets\n",
    "from sklearn.model_selection import train_test_split\n",
    "\n",
    "# subset data frame into features and outcomes\n",
    "# features = new.loc[:, ['text', 'headline', 'source', 'date', 'sentiment', 'magnitude', 'length', 'sentences']]\n",
    "features = new.loc[:, ['text', 'magnitude', 'sentiment', 'sentences', 'reading']]\n",
    "outcomes = new.loc[:, ['bias']]\n",
    "\n",
    "X_train, X_test, y_train, y_test = train_test_split(features, outcomes, test_size=0.2)\n",
    "y_train, y_test = get_bias(y_train), get_bias(y_test)"
   ]
  },
  {
   "cell_type": "code",
   "execution_count": 156,
   "metadata": {
    "collapsed": false,
    "deletable": true,
    "editable": true
   },
   "outputs": [],
   "source": [
    "# fit model and test predictions\n",
    "classifier2.fit(X_train, y_train)\n",
    "predicted = classifier2.predict(X_test)"
   ]
  },
  {
   "cell_type": "code",
   "execution_count": 173,
   "metadata": {
    "collapsed": false,
    "deletable": true,
    "editable": true
   },
   "outputs": [
    {
     "name": "stdout",
     "output_type": "stream",
     "text": [
      "0.6468468468468469\n"
     ]
    }
   ],
   "source": [
    "# accuracy\n",
    "accuracy = np.mean(predicted == y_test)\n",
    "print(accuracy)"
   ]
  },
  {
   "cell_type": "markdown",
   "metadata": {
    "deletable": true,
    "editable": true
   },
   "source": [
    "### Generalize to Webhose Data?"
   ]
  },
  {
   "cell_type": "code",
   "execution_count": 174,
   "metadata": {
    "collapsed": false,
    "deletable": true,
    "editable": true
   },
   "outputs": [
    {
     "name": "stderr",
     "output_type": "stream",
     "text": [
      "/usr/local/envs/py3env/lib/python3.5/site-packages/ipykernel/__main__.py:10: FutureWarning: \n",
      "Passing list-likes to .loc or [] with any missing label will raise\n",
      "KeyError in the future, you can use .reindex() as an alternative.\n",
      "\n",
      "See the documentation here:\n",
      "http://pandas.pydata.org/pandas-docs/stable/indexing.html#deprecate-loc-reindex-listlike\n",
      "/usr/local/envs/py3env/lib/python3.5/site-packages/pandas/core/indexing.py:1367: FutureWarning: \n",
      "Passing list-likes to .loc or [] with any missing label will raise\n",
      "KeyError in the future, you can use .reindex() as an alternative.\n",
      "\n",
      "See the documentation here:\n",
      "http://pandas.pydata.org/pandas-docs/stable/indexing.html#deprecate-loc-reindex-listlike\n",
      "  \n"
     ]
    },
    {
     "data": {
      "text/html": [
       "<div>\n",
       "<style scoped>\n",
       "    .dataframe tbody tr th:only-of-type {\n",
       "        vertical-align: middle;\n",
       "    }\n",
       "\n",
       "    .dataframe tbody tr th {\n",
       "        vertical-align: top;\n",
       "    }\n",
       "\n",
       "    .dataframe thead th {\n",
       "        text-align: right;\n",
       "    }\n",
       "</style>\n",
       "<table border=\"1\" class=\"dataframe\">\n",
       "  <thead>\n",
       "    <tr style=\"text-align: right;\">\n",
       "      <th></th>\n",
       "      <th>bias</th>\n",
       "      <th>text</th>\n",
       "      <th>headline</th>\n",
       "      <th>source</th>\n",
       "      <th>date</th>\n",
       "      <th>sentiment</th>\n",
       "      <th>magnitude</th>\n",
       "      <th>length</th>\n",
       "      <th>sentences</th>\n",
       "      <th>reading</th>\n",
       "    </tr>\n",
       "  </thead>\n",
       "  <tbody>\n",
       "    <tr>\n",
       "      <th>0</th>\n",
       "      <td>3</td>\n",
       "      <td>print thursday june bismarck ap dakota resourc...</td>\n",
       "      <td>group sues county permit oil refinery near park</td>\n",
       "      <td>Washington Times</td>\n",
       "      <td>2018-06-15</td>\n",
       "      <td>NaN</td>\n",
       "      <td>NaN</td>\n",
       "      <td>145</td>\n",
       "      <td>10</td>\n",
       "      <td>13.2</td>\n",
       "    </tr>\n",
       "    <tr>\n",
       "      <th>1</th>\n",
       "      <td>3</td>\n",
       "      <td>man claims asked leave restaurant wearing larg...</td>\n",
       "      <td>man claims asked leave restaurant wearing larg...</td>\n",
       "      <td>Breitbart</td>\n",
       "      <td>2018-06-10</td>\n",
       "      <td>NaN</td>\n",
       "      <td>NaN</td>\n",
       "      <td>360</td>\n",
       "      <td>17</td>\n",
       "      <td>10.8</td>\n",
       "    </tr>\n",
       "    <tr>\n",
       "      <th>2</th>\n",
       "      <td>1</td>\n",
       "      <td>media analysts tech industry prognosticators l...</td>\n",
       "      <td>able handle hbo</td>\n",
       "      <td>New York Times</td>\n",
       "      <td>2018-06-14</td>\n",
       "      <td>NaN</td>\n",
       "      <td>NaN</td>\n",
       "      <td>1231</td>\n",
       "      <td>73</td>\n",
       "      <td>10.2</td>\n",
       "    </tr>\n",
       "    <tr>\n",
       "      <th>3</th>\n",
       "      <td>1</td>\n",
       "      <td>summer popular time beach vacations sun water ...</td>\n",
       "      <td>summer skiing getaways southern hemisphere</td>\n",
       "      <td>New York Times</td>\n",
       "      <td>2018-06-05</td>\n",
       "      <td>NaN</td>\n",
       "      <td>NaN</td>\n",
       "      <td>513</td>\n",
       "      <td>27</td>\n",
       "      <td>11.1</td>\n",
       "    </tr>\n",
       "    <tr>\n",
       "      <th>4</th>\n",
       "      <td>1</td>\n",
       "      <td>fact check corey stewart republicans fringe ri...</td>\n",
       "      <td>fact check corey stewart republicans fringe right</td>\n",
       "      <td>New York Times</td>\n",
       "      <td>2018-06-14</td>\n",
       "      <td>NaN</td>\n",
       "      <td>NaN</td>\n",
       "      <td>1173</td>\n",
       "      <td>80</td>\n",
       "      <td>11.5</td>\n",
       "    </tr>\n",
       "  </tbody>\n",
       "</table>\n",
       "</div>"
      ],
      "text/plain": [
       "   bias                                               text  \\\n",
       "0     3  print thursday june bismarck ap dakota resourc...   \n",
       "1     3  man claims asked leave restaurant wearing larg...   \n",
       "2     1  media analysts tech industry prognosticators l...   \n",
       "3     1  summer popular time beach vacations sun water ...   \n",
       "4     1  fact check corey stewart republicans fringe ri...   \n",
       "\n",
       "                                            headline            source  \\\n",
       "0    group sues county permit oil refinery near park  Washington Times   \n",
       "1  man claims asked leave restaurant wearing larg...         Breitbart   \n",
       "2                                    able handle hbo    New York Times   \n",
       "3         summer skiing getaways southern hemisphere    New York Times   \n",
       "4  fact check corey stewart republicans fringe right    New York Times   \n",
       "\n",
       "         date  sentiment  magnitude  length  sentences  reading  \n",
       "0  2018-06-15        NaN        NaN     145         10     13.2  \n",
       "1  2018-06-10        NaN        NaN     360         17     10.8  \n",
       "2  2018-06-14        NaN        NaN    1231         73     10.2  \n",
       "3  2018-06-05        NaN        NaN     513         27     11.1  \n",
       "4  2018-06-14        NaN        NaN    1173         80     11.5  "
      ]
     },
     "execution_count": 174,
     "metadata": {},
     "output_type": "execute_result"
    }
   ],
   "source": [
    "## load test corpus\n",
    "test_corpus = read_data2('webhose-corpus-df-clean.csv')\n",
    "test_corpus.head()"
   ]
  },
  {
   "cell_type": "code",
   "execution_count": 177,
   "metadata": {
    "collapsed": true,
    "deletable": true,
    "editable": true
   },
   "outputs": [],
   "source": [
    "classifier3 = Pipeline([\n",
    "    ('features', FeatureUnion([\n",
    "        ('text', Pipeline([\n",
    "            ('get_text', FunctionTransformer(get_text, validate=False)),\n",
    "            ('tfidf', TfidfVectorizer(ngram_range=(1,3), stop_words='english', max_df=0.4, min_df = 0.05, sublinear_tf=True, norm='l2' )), \n",
    "        ])),\n",
    "      \n",
    "        ('sentences', Pipeline([\n",
    "            ('get_sentences', FunctionTransformer(get_sentences, validate=False)),\n",
    "        ])),\n",
    "      \n",
    "        ('read', Pipeline([\n",
    "            ('get_read', FunctionTransformer(get_read, validate=False)),\n",
    "        ])),\n",
    "      \n",
    "      ],\n",
    "        # weight components in FeatureUnion\n",
    "        transformer_weights={\n",
    "            'text': 0.8,\n",
    "            'sentences':0.4,\n",
    "            'read':1,\n",
    "        },\n",
    "    )),\n",
    "  \n",
    "    ('clf', OneVsRestClassifier(LinearSVC()))])"
   ]
  },
  {
   "cell_type": "code",
   "execution_count": 178,
   "metadata": {
    "collapsed": true,
    "deletable": true,
    "editable": true
   },
   "outputs": [],
   "source": [
    "# subset data frame into features and outcomes\n",
    "# features = new.loc[:, ['text', 'headline', 'source', 'date', 'sentiment', 'magnitude', 'length', 'sentences']]\n",
    "X_train = new.loc[:, ['text', 'sentences', 'reading']]\n",
    "y_train = new.loc[:, ['bias']]\n",
    "\n",
    "X_test = test_corpus.loc[:, ['text', 'sentences', 'reading']]\n",
    "y_test = test_corpus.loc[:, ['bias']]\n",
    "\n",
    "y_train, y_test = get_bias(y_train), get_bias(y_test)"
   ]
  },
  {
   "cell_type": "code",
   "execution_count": 180,
   "metadata": {
    "collapsed": false,
    "deletable": true,
    "editable": true
   },
   "outputs": [],
   "source": [
    "# fit model and test predictions\n",
    "classifier3.fit(X_train, y_train)\n",
    "predicted = classifier3.predict(X_test)"
   ]
  },
  {
   "cell_type": "code",
   "execution_count": 181,
   "metadata": {
    "collapsed": false,
    "deletable": true,
    "editable": true
   },
   "outputs": [
    {
     "name": "stdout",
     "output_type": "stream",
     "text": [
      "0.44429835813237556\n"
     ]
    }
   ],
   "source": [
    "# accuracy\n",
    "accuracy = np.mean(predicted == y_test)\n",
    "print(accuracy)"
   ]
  },
  {
   "cell_type": "markdown",
   "metadata": {
    "deletable": true,
    "editable": true
   },
   "source": [
    "### Pipeline 2: Stratified k-Folds Cross-Validation"
   ]
  },
  {
   "cell_type": "code",
   "execution_count": 153,
   "metadata": {
    "collapsed": false,
    "deletable": true,
    "editable": true
   },
   "outputs": [
    {
     "name": "stdout",
     "output_type": "stream",
     "text": [
      "Training on fold  1 /10...\n",
      "Training new iteration on  2493  training samples,  278  validation samples, this may be a while...\n",
      "Last training accuracy:  0.8588046530284797 , last validation accuracy:  0.6294964028776978\n",
      "Stratified 10-fold validation accuracy:  0.6294964028776978\n",
      "Training on fold  2 /10...\n",
      "Training new iteration on  2493  training samples,  278  validation samples, this may be a while...\n",
      "Last training accuracy:  0.8680304853590052 , last validation accuracy:  0.6402877697841727\n",
      "Stratified 10-fold validation accuracy:  0.6348920863309353\n",
      "Training on fold  3 /10...\n",
      "Training new iteration on  2493  training samples,  278  validation samples, this may be a while...\n",
      "Last training accuracy:  0.8471720818291215 , last validation accuracy:  0.5971223021582733\n",
      "Stratified 10-fold validation accuracy:  0.6223021582733813\n",
      "Training on fold  4 /10...\n",
      "Training new iteration on  2494  training samples,  277  validation samples, this may be a while...\n",
      "Last training accuracy:  0.876102646351243 , last validation accuracy:  0.6389891696750902\n",
      "Stratified 10-fold validation accuracy:  0.6264739111238085\n",
      "Training on fold  5 /10...\n",
      "Training new iteration on  2494  training samples,  277  validation samples, this may be a while...\n",
      "Last training accuracy:  0.8492381716118684 , last validation accuracy:  0.6173285198555957\n",
      "Stratified 10-fold validation accuracy:  0.6246448328701659\n",
      "Training on fold  6 /10...\n",
      "Training new iteration on  2494  training samples,  277  validation samples, this may be a while...\n",
      "Last training accuracy:  0.8436246992782679 , last validation accuracy:  0.6823104693140795\n",
      "Stratified 10-fold validation accuracy:  0.6342557722774848\n",
      "Training on fold  7 /10...\n",
      "Training new iteration on  2494  training samples,  277  validation samples, this may be a while...\n",
      "Last training accuracy:  0.8536487570168404 , last validation accuracy:  0.6101083032490975\n",
      "Stratified 10-fold validation accuracy:  0.630806133844858\n",
      "Training on fold  8 /10...\n",
      "Training new iteration on  2494  training samples,  277  validation samples, this may be a while...\n",
      "Last training accuracy:  0.7333600641539695 , last validation accuracy:  0.5379061371841155\n",
      "Stratified 10-fold validation accuracy:  0.6191936342622653\n",
      "Training on fold  9 /10...\n",
      "Training new iteration on  2495  training samples,  276  validation samples, this may be a while...\n",
      "Last training accuracy:  0.8344689378757515 , last validation accuracy:  0.5579710144927537\n",
      "Stratified 10-fold validation accuracy:  0.6123911209545417\n",
      "Training on fold  10 /10...\n",
      "Training new iteration on  2495  training samples,  276  validation samples, this may be a while...\n",
      "Last training accuracy:  0.8509018036072145 , last validation accuracy:  0.5978260869565217\n",
      "Stratified 10-fold validation accuracy:  0.6109346175547398\n"
     ]
    }
   ],
   "source": [
    "from sklearn.model_selection import StratifiedKFold\n",
    "\n",
    "# Instantiate the cross validator\n",
    "skf = StratifiedKFold(n_splits=10, shuffle=True)\n",
    "\n",
    "# Loop through the indices the split() method returns\n",
    "cum_val = []\n",
    "\n",
    "for index, (train_indices, val_indices) in enumerate(skf.split(features, outcomes)):\n",
    "    print(\"Training on fold \", str(index+1), \"/10...\")\n",
    "    \n",
    "    # Generate batches from indices\n",
    "    xtrain, xval = features.iloc[train_indices], features.iloc[val_indices]\n",
    "    ytrain, yval = outcomes.iloc[train_indices], outcomes.iloc[val_indices]\n",
    "    \n",
    "    # Debug message\n",
    "    print(\"Training new iteration on \", str(xtrain.shape[0]), \" training samples, \", str(xval.shape[0]), \" validation samples, this may be a while...\")\n",
    "    \n",
    "    classifier2.fit(xtrain, ytrain)\n",
    "    \n",
    "    train_pred = classifier2.predict(xtrain)\n",
    "    train_accuracy = np.mean(train_pred == ytrain['bias'].values)    \n",
    "    \n",
    "    val_pred = classifier2.predict(xval)\n",
    "    val_accuracy = np.mean(val_pred == yval['bias'].values)\n",
    "    \n",
    "    cum_val.append(val_accuracy)\n",
    "    cum_acc = np.mean(cum_val)\n",
    "    \n",
    "    print(\"Last training accuracy: \", str(train_accuracy), \", last validation accuracy: \", str(val_accuracy))\n",
    "    print(\"Stratified 10-fold validation accuracy: \", str(cum_acc))"
   ]
  },
  {
   "cell_type": "markdown",
   "metadata": {
    "deletable": true,
    "editable": true
   },
   "source": [
    "### Pipeline 2: Plot Learning Curve"
   ]
  },
  {
   "cell_type": "code",
   "execution_count": 163,
   "metadata": {
    "collapsed": false,
    "deletable": true,
    "editable": true
   },
   "outputs": [
    {
     "name": "stderr",
     "output_type": "stream",
     "text": [
      "/usr/local/envs/py3env/lib/python3.5/site-packages/matplotlib/font_manager.py:1320: UserWarning: findfont: Font family ['sans-serif'] not found. Falling back to DejaVu Sans\n",
      "  (prop.get_family(), self.defaultFamily[fontext]))\n"
     ]
    },
    {
     "data": {
      "image/png": "[encoded data removed]",
      "text/plain": [
       "<matplotlib.figure.Figure at 0x7f84ed00b780>"
      ]
     },
     "metadata": {},
     "output_type": "display_data"
    }
   ],
   "source": [
    "from sklearn.model_selection import learning_curve\n",
    "\n",
    "# Create CV training and test scores for various training set sizes\n",
    "train_sizes, train_scores, test_scores = learning_curve(classifier2, features, outcomes,\n",
    "                                                        # Number of folds in cross-validation\n",
    "                                                        cv=10,\n",
    "                                                        # Evaluation metric\n",
    "                                                        scoring='accuracy',\n",
    "                                                        # Use all computer cores\n",
    "                                                        n_jobs=-1, \n",
    "                                                        # 50 different sizes of the training set\n",
    "                                                        train_sizes=np.linspace(0.01, 1.0, 50))\n",
    "\n",
    "# Create means and standard deviations of training set scores\n",
    "train_mean = np.mean(train_scores, axis=1)\n",
    "train_std = np.std(train_scores, axis=1)\n",
    "\n",
    "# Create means and standard deviations of test set scores\n",
    "test_mean = np.mean(test_scores, axis=1)\n",
    "test_std = np.std(test_scores, axis=1)\n",
    "\n",
    "# Draw lines\n",
    "plt.plot(train_sizes, train_mean, '--', color=\"#111111\",  label=\"Training score\")\n",
    "plt.plot(train_sizes, test_mean, color=\"#111111\", label=\"Cross-validation score\")\n",
    "\n",
    "# Draw bands\n",
    "plt.fill_between(train_sizes, train_mean - train_std, train_mean + train_std, color=\"#DDDDDD\")\n",
    "plt.fill_between(train_sizes, test_mean - test_std, test_mean + test_std, color=\"#DDDDDD\")\n",
    "\n",
    "# Create plot\n",
    "plt.title(\"Learning Curve\")\n",
    "plt.xlabel(\"Training Set Size\"), plt.ylabel(\"Accuracy Score\"), plt.legend(loc=\"best\")\n",
    "plt.tight_layout()\n",
    "plt.show()"
   ]
  },
  {
   "cell_type": "markdown",
   "metadata": {
    "deletable": true,
    "editable": true
   },
   "source": [
    "### Pipeline 2: Grid Search Over Weights"
   ]
  },
  {
   "cell_type": "markdown",
   "metadata": {
    "deletable": true,
    "editable": true
   },
   "source": [
    "**Warning**: Long run-time."
   ]
  },
  {
   "cell_type": "code",
   "execution_count": 151,
   "metadata": {
    "collapsed": false,
    "deletable": true,
    "editable": true
   },
   "outputs": [],
   "source": [
    "# grid search on feature weights\n",
    "# https://stackoverflow.com/questions/29504252/whats-the-use-of-transformer-weights-in-scikit-learn-pipeline\n",
    "# make_pipeline(make_union('get_text', 'read'), Classifier()) \n",
    "# param_grid={'featureunion__transformer_weights' : [dict(text=1, read=1), dict(text=.1, read=.1) ]}"
   ]
  },
  {
   "cell_type": "code",
   "execution_count": 20,
   "metadata": {
    "collapsed": true,
    "deletable": true,
    "editable": true
   },
   "outputs": [],
   "source": [
    "# custom grid search over weights\n",
    "import itertools \n",
    "\n",
    "values = [0.1, 0.2, 0.3, 0.4, 0.5, 0.6, 0.7, 0.8, 0.9, 1]\n",
    "weight_combinations = []\n",
    "for selection in itertools.combinations_with_replacement(values, 4):\n",
    "    weight_combinations.append(selection)"
   ]
  },
  {
   "cell_type": "code",
   "execution_count": 22,
   "metadata": {
    "collapsed": false,
    "deletable": true,
    "editable": true
   },
   "outputs": [],
   "source": [
    "best_weights = {'accuracy':0, 'weights':[]}\n",
    "\n",
    "for w in weight_combinations:\n",
    "  new_classifier = make_classifier(w[0], w[1], w[2], w[3])\n",
    "  new_classifier.fit(X_train, y_train)\n",
    "  predicted = new_classifier.predict(X_test)\n",
    "  acc = np.mean(predicted == y_test)\n",
    "  \n",
    "  if acc > best_weights['accuracy']:\n",
    "    best_weights['accuracy'] = acc\n",
    "    best_weights['weights'] = w"
   ]
  },
  {
   "cell_type": "code",
   "execution_count": 38,
   "metadata": {
    "collapsed": false,
    "deletable": true,
    "editable": true
   },
   "outputs": [
    {
     "data": {
      "text/plain": [
       "{'accuracy': 0.6252252252252253, 'weights': (0.4, 0.4, 0.4, 1)}"
      ]
     },
     "execution_count": 38,
     "metadata": {},
     "output_type": "execute_result"
    }
   ],
   "source": [
    "# note: this was run where w1= reading, w2= magnitude, w3=sentences, w4=reading\n",
    "best_weights"
   ]
  },
  {
   "cell_type": "code",
   "execution_count": 34,
   "metadata": {
    "collapsed": true,
    "deletable": true,
    "editable": true
   },
   "outputs": [],
   "source": [
    "import json\n",
    "\n",
    "with open('save_weights.txt', 'w') as file:\n",
    "     file.write(json.dumps(best_weights)) # use `json.loads` to do the reverse"
   ]
  },
  {
   "cell_type": "markdown",
   "metadata": {
    "deletable": true,
    "editable": true
   },
   "source": [
    "### Pipeline 2: Summary Results"
   ]
  },
  {
   "cell_type": "code",
   "execution_count": 158,
   "metadata": {
    "collapsed": false,
    "deletable": true,
    "editable": true
   },
   "outputs": [
    {
     "name": "stdout",
     "output_type": "stream",
     "text": [
      "0.6468468468468469\n"
     ]
    }
   ],
   "source": [
    "# accuracy\n",
    "accuracy = np.mean(predicted == y_test)\n",
    "print(accuracy)"
   ]
  },
  {
   "cell_type": "code",
   "execution_count": 159,
   "metadata": {
    "collapsed": false,
    "deletable": true,
    "editable": true
   },
   "outputs": [
    {
     "name": "stdout",
     "output_type": "stream",
     "text": [
      "             precision    recall  f1-score   support\n",
      "\n",
      "          1       0.67      0.63      0.65       237\n",
      "          2       0.68      0.67      0.68       151\n",
      "          3       0.59      0.65      0.62       167\n",
      "\n",
      "avg / total       0.65      0.65      0.65       555\n",
      "\n"
     ]
    }
   ],
   "source": [
    "# classification report\n",
    "print(classification_report(y_test, predicted))"
   ]
  },
  {
   "cell_type": "code",
   "execution_count": 160,
   "metadata": {
    "collapsed": false,
    "deletable": true,
    "editable": true
   },
   "outputs": [
    {
     "data": {
      "text/plain": [
       "array([[149,  32,  56],\n",
       "       [ 31, 101,  19],\n",
       "       [ 43,  15, 109]])"
      ]
     },
     "execution_count": 160,
     "metadata": {},
     "output_type": "execute_result"
    }
   ],
   "source": [
    "# confusion matrix\n",
    "from sklearn.metrics import confusion_matrix\n",
    "confusion_matrix(y_test, predicted)"
   ]
  },
  {
   "cell_type": "markdown",
   "metadata": {
    "deletable": true,
    "editable": true
   },
   "source": [
    "### Pipeline 2: Confusion Matrix"
   ]
  },
  {
   "cell_type": "code",
   "execution_count": 161,
   "metadata": {
    "collapsed": false,
    "deletable": true,
    "editable": true
   },
   "outputs": [
    {
     "name": "stdout",
     "output_type": "stream",
     "text": [
      "Normalized confusion matrix\n",
      "[[0.63 0.14 0.24]\n",
      " [0.21 0.67 0.13]\n",
      " [0.26 0.09 0.65]]\n"
     ]
    },
    {
     "name": "stderr",
     "output_type": "stream",
     "text": [
      "/usr/local/envs/py3env/lib/python3.5/site-packages/matplotlib/font_manager.py:1320: UserWarning: findfont: Font family ['sans-serif'] not found. Falling back to DejaVu Sans\n",
      "  (prop.get_family(), self.defaultFamily[fontext]))\n"
     ]
    },
    {
     "data": {
      "image/png": "[encoded data removed]",
      "text/plain": [
       "<matplotlib.figure.Figure at 0x7f84dd9e17b8>"
      ]
     },
     "metadata": {},
     "output_type": "display_data"
    }
   ],
   "source": [
    "import matplotlib.pyplot as plt\n",
    "import itertools\n",
    "\n",
    "class_names = ['Left','Center','Right']\n",
    "\n",
    "def plot_confusion_matrix(cm, classes,\n",
    "                          normalize=False,\n",
    "                          title='Confusion matrix',\n",
    "                          cmap=plt.cm.Blues):\n",
    "    \"\"\"\n",
    "    This function prints and plots the confusion matrix.\n",
    "    Normalization can be applied by setting `normalize=True`.\n",
    "    \"\"\"\n",
    "    if normalize:\n",
    "        cm = cm.astype('float') / cm.sum(axis=1)[:, np.newaxis]\n",
    "        print(\"Normalized confusion matrix\")\n",
    "    else:\n",
    "        print('Confusion matrix, without normalization')\n",
    "\n",
    "    print(cm)\n",
    "\n",
    "    plt.imshow(cm, interpolation='nearest', cmap=cmap)\n",
    "    plt.title(title)\n",
    "    plt.colorbar()\n",
    "    tick_marks = np.arange(len(classes))\n",
    "    plt.xticks(tick_marks, classes, rotation=45)\n",
    "    plt.yticks(tick_marks, classes)\n",
    "\n",
    "    fmt = '.2f' if normalize else 'd'\n",
    "    thresh = cm.max() / 2.\n",
    "    for i, j in itertools.product(range(cm.shape[0]), range(cm.shape[1])):\n",
    "        plt.text(j, i, format(cm[i, j], fmt),\n",
    "                 horizontalalignment=\"center\",\n",
    "                 color=\"white\" if cm[i, j] > thresh else \"black\")\n",
    "\n",
    "    plt.tight_layout()\n",
    "    plt.ylabel('True label')\n",
    "    plt.xlabel('Predicted label')\n",
    "\n",
    "# Compute confusion matrix\n",
    "cnf_matrix = confusion_matrix(y_test, predicted)\n",
    "np.set_printoptions(precision=2)\n",
    "\n",
    "# Plot normalized confusion matrix\n",
    "plt.figure()\n",
    "plot_confusion_matrix(cnf_matrix, classes=class_names, normalize=True,\n",
    "                      title='Normalized confusion matrix')\n",
    "\n",
    "plt.show()"
   ]
  },
  {
   "cell_type": "markdown",
   "metadata": {
    "deletable": true,
    "editable": true
   },
   "source": [
    "# Early Data Exploration"
   ]
  },
  {
   "cell_type": "markdown",
   "metadata": {
    "deletable": true,
    "editable": true
   },
   "source": [
    "### Multinomial Bayes"
   ]
  },
  {
   "cell_type": "markdown",
   "metadata": {
    "deletable": true,
    "editable": true
   },
   "source": [
    "**Text Feature**"
   ]
  },
  {
   "cell_type": "code",
   "execution_count": 205,
   "metadata": {
    "collapsed": false,
    "deletable": true,
    "editable": true
   },
   "outputs": [],
   "source": [
    "from sklearn.naive_bayes import MultinomialNB"
   ]
  },
  {
   "cell_type": "code",
   "execution_count": 206,
   "metadata": {
    "collapsed": false,
    "deletable": true,
    "editable": true
   },
   "outputs": [],
   "source": [
    "# Run Multinomial Naive Bayes for Text Feature\n",
    "text_nb = Pipeline([('tfidf', TfidfVectorizer(ngram_range=(1,3), stop_words='english', max_df=0.4, min_df = 0.05, sublinear_tf=True, norm='l2' )), \n",
    "                     ('clf', MultinomialNB()),])"
   ]
  },
  {
   "cell_type": "code",
   "execution_count": 207,
   "metadata": {
    "collapsed": false,
    "deletable": true,
    "editable": true
   },
   "outputs": [
    {
     "data": {
      "text/plain": [
       "Pipeline(memory=None,\n",
       "     steps=[('tfidf', TfidfVectorizer(analyzer='word', binary=False, decode_error='strict',\n",
       "        dtype=<class 'numpy.int64'>, encoding='utf-8', input='content',\n",
       "        lowercase=True, max_df=0.4, max_features=None, min_df=0.05,\n",
       "        ngram_range=(1, 3), norm='l2', preprocessor=None, smooth_idf=True...rue,\n",
       "        vocabulary=None)), ('clf', MultinomialNB(alpha=1.0, class_prior=None, fit_prior=True))])"
      ]
     },
     "execution_count": 207,
     "metadata": {},
     "output_type": "execute_result"
    }
   ],
   "source": [
    "text_nb.fit(X=counts_text, y=targets)  "
   ]
  },
  {
   "cell_type": "code",
   "execution_count": 208,
   "metadata": {
    "collapsed": false,
    "deletable": true,
    "editable": true
   },
   "outputs": [
    {
     "name": "stdout",
     "output_type": "stream",
     "text": [
      "0.5421940928270043\n"
     ]
    }
   ],
   "source": [
    "pred_text = text_nb.predict(test_text)\n",
    "accuracy = np.mean(pred_text == test_targets)\n",
    "print(accuracy)"
   ]
  },
  {
   "cell_type": "code",
   "execution_count": 209,
   "metadata": {
    "collapsed": false,
    "deletable": true,
    "editable": true
   },
   "outputs": [
    {
     "name": "stdout",
     "output_type": "stream",
     "text": [
      "             precision    recall  f1-score   support\n",
      "\n",
      "          1       0.49      0.55      0.52       163\n",
      "          2       0.64      0.57      0.60       143\n",
      "          3       0.52      0.51      0.52       168\n",
      "\n",
      "avg / total       0.55      0.54      0.54       474\n",
      "\n"
     ]
    }
   ],
   "source": [
    "print(classification_report(test_targets, pred_text))"
   ]
  },
  {
   "cell_type": "markdown",
   "metadata": {
    "deletable": true,
    "editable": true
   },
   "source": [
    "**Source Feature**"
   ]
  },
  {
   "cell_type": "code",
   "execution_count": 210,
   "metadata": {
    "collapsed": false,
    "deletable": true,
    "editable": true
   },
   "outputs": [],
   "source": [
    "# Run Multinomial Naive Bayes for Source\n",
    "source_nb = Pipeline([('tfidf', TfidfVectorizer(ngram_range=(1,5), sublinear_tf=True, norm='l2' )), \n",
    "                     ('clf', MultinomialNB()),])"
   ]
  },
  {
   "cell_type": "code",
   "execution_count": 211,
   "metadata": {
    "collapsed": false,
    "deletable": true,
    "editable": true
   },
   "outputs": [
    {
     "data": {
      "text/plain": [
       "Pipeline(memory=None,\n",
       "     steps=[('tfidf', TfidfVectorizer(analyzer='word', binary=False, decode_error='strict',\n",
       "        dtype=<class 'numpy.int64'>, encoding='utf-8', input='content',\n",
       "        lowercase=True, max_df=1.0, max_features=None, min_df=1,\n",
       "        ngram_range=(1, 5), norm='l2', preprocessor=None, smooth_idf=True,\n",
       " ...rue,\n",
       "        vocabulary=None)), ('clf', MultinomialNB(alpha=1.0, class_prior=None, fit_prior=True))])"
      ]
     },
     "execution_count": 211,
     "metadata": {},
     "output_type": "execute_result"
    }
   ],
   "source": [
    "source_nb.fit(counts_source, targets) "
   ]
  },
  {
   "cell_type": "code",
   "execution_count": 212,
   "metadata": {
    "collapsed": false,
    "deletable": true,
    "editable": true
   },
   "outputs": [
    {
     "name": "stdout",
     "output_type": "stream",
     "text": [
      "0.9873417721518988\n"
     ]
    }
   ],
   "source": [
    "pred_source = source_nb.predict(test_source)\n",
    "accuracy = np.mean(pred_source == test_targets)\n",
    "print(accuracy)"
   ]
  },
  {
   "cell_type": "code",
   "execution_count": 213,
   "metadata": {
    "collapsed": false,
    "deletable": true,
    "editable": true
   },
   "outputs": [
    {
     "name": "stdout",
     "output_type": "stream",
     "text": [
      "             precision    recall  f1-score   support\n",
      "\n",
      "          1       0.96      1.00      0.98       163\n",
      "          2       1.00      0.98      0.99       143\n",
      "          3       1.00      0.98      0.99       168\n",
      "\n",
      "avg / total       0.99      0.99      0.99       474\n",
      "\n"
     ]
    }
   ],
   "source": [
    "print(classification_report(test_targets, pred_source))"
   ]
  },
  {
   "cell_type": "markdown",
   "metadata": {
    "deletable": true,
    "editable": true
   },
   "source": [
    "**Sentiment Feature**"
   ]
  },
  {
   "cell_type": "code",
   "execution_count": 214,
   "metadata": {
    "collapsed": false,
    "deletable": true,
    "editable": true
   },
   "outputs": [
    {
     "data": {
      "text/plain": [
       "SGDClassifier(alpha=0.001, average=False, class_weight=None, epsilon=0.1,\n",
       "       eta0=0.0, fit_intercept=True, l1_ratio=0.15,\n",
       "       learning_rate='optimal', loss='hinge', max_iter=5, n_iter=None,\n",
       "       n_jobs=1, penalty='l2', power_t=0.5, random_state=42, shuffle=True,\n",
       "       tol=None, verbose=0, warm_start=False)"
      ]
     },
     "execution_count": 214,
     "metadata": {},
     "output_type": "execute_result"
    }
   ],
   "source": [
    "# Run Multinomial Naive Bayes for Sentiment Score\n",
    "sent_nb = SGDClassifier(loss='hinge', penalty='l2', alpha=1e-3, random_state=42, max_iter=5, tol=None)\n",
    "sent_nb.fit(counts_sent, targets) "
   ]
  },
  {
   "cell_type": "code",
   "execution_count": 203,
   "metadata": {
    "collapsed": false,
    "deletable": true,
    "editable": true
   },
   "outputs": [
    {
     "name": "stdout",
     "output_type": "stream",
     "text": [
      "0.3438818565400844\n"
     ]
    }
   ],
   "source": [
    "pred_sent = sent_nb.predict(test_sent)\n",
    "accuracy = np.mean(pred_sent == test_targets)\n",
    "print(accuracy)"
   ]
  },
  {
   "cell_type": "code",
   "execution_count": 204,
   "metadata": {
    "collapsed": false,
    "deletable": true,
    "editable": true
   },
   "outputs": [
    {
     "name": "stdout",
     "output_type": "stream",
     "text": [
      "             precision    recall  f1-score   support\n",
      "\n",
      "          1       0.34      1.00      0.51       163\n",
      "          2       0.00      0.00      0.00       143\n",
      "          3       0.00      0.00      0.00       168\n",
      "\n",
      "avg / total       0.12      0.34      0.18       474\n",
      "\n"
     ]
    },
    {
     "name": "stderr",
     "output_type": "stream",
     "text": [
      "/usr/local/envs/py3env/lib/python3.5/site-packages/sklearn/metrics/classification.py:1135: UndefinedMetricWarning: Precision and F-score are ill-defined and being set to 0.0 in labels with no predicted samples.\n",
      "  'precision', 'predicted', average, warn_for)\n"
     ]
    }
   ],
   "source": [
    "print(classification_report(test_targets, pred_sent))"
   ]
  },
  {
   "cell_type": "code",
   "execution_count": 195,
   "metadata": {
    "collapsed": false,
    "deletable": true,
    "editable": true
   },
   "outputs": [
    {
     "data": {
      "text/plain": [
       "MultinomialNB(alpha=1.0, class_prior=None, fit_prior=True)"
      ]
     },
     "execution_count": 195,
     "metadata": {},
     "output_type": "execute_result"
    }
   ],
   "source": [
    "# Run Multinomial Naive Bayes for Sentiment Magnitude\n",
    "mag_nb = SGDClassifier(loss='hinge', penalty='l2', alpha=1e-3, random_state=42, max_iter=5, tol=None)\n",
    "mag_nb.fit(counts_mag, targets) "
   ]
  },
  {
   "cell_type": "code",
   "execution_count": 197,
   "metadata": {
    "collapsed": false,
    "deletable": true,
    "editable": true
   },
   "outputs": [
    {
     "name": "stdout",
     "output_type": "stream",
     "text": [
      "0.3438818565400844\n"
     ]
    }
   ],
   "source": [
    "pred_mag = mag_nb.predict(test_mag)\n",
    "accuracy = np.mean(pred_mag == test_targets)\n",
    "print(accuracy)"
   ]
  },
  {
   "cell_type": "code",
   "execution_count": 201,
   "metadata": {
    "collapsed": false,
    "deletable": true,
    "editable": true
   },
   "outputs": [
    {
     "name": "stdout",
     "output_type": "stream",
     "text": [
      "             precision    recall  f1-score   support\n",
      "\n",
      "          1       0.34      1.00      0.51       163\n",
      "          2       0.00      0.00      0.00       143\n",
      "          3       0.00      0.00      0.00       168\n",
      "\n",
      "avg / total       0.12      0.34      0.18       474\n",
      "\n"
     ]
    },
    {
     "name": "stderr",
     "output_type": "stream",
     "text": [
      "/usr/local/envs/py3env/lib/python3.5/site-packages/sklearn/metrics/classification.py:1135: UndefinedMetricWarning: Precision and F-score are ill-defined and being set to 0.0 in labels with no predicted samples.\n",
      "  'precision', 'predicted', average, warn_for)\n"
     ]
    }
   ],
   "source": [
    "print(classification_report(test_targets, pred_mag))"
   ]
  },
  {
   "cell_type": "markdown",
   "metadata": {
    "deletable": true,
    "editable": true
   },
   "source": [
    "#### Support Vector Machine"
   ]
  },
  {
   "cell_type": "code",
   "execution_count": 69,
   "metadata": {
    "collapsed": false,
    "deletable": true,
    "editable": true
   },
   "outputs": [],
   "source": [
    "# Run Linear SVC\n",
    "from sklearn.linear_model import SGDClassifier\n",
    "\n",
    "text_SGD = Pipeline([('tfidf', TfidfVectorizer(ngram_range=(1,3), stop_words='english', sublinear_tf=True, norm='l2' )),\n",
    "                     ('SVC', SGDClassifier(loss='hinge', penalty='l2', alpha=1e-3, random_state=42, max_iter=5, tol=None)),])"
   ]
  },
  {
   "cell_type": "code",
   "execution_count": 70,
   "metadata": {
    "collapsed": false,
    "deletable": true,
    "editable": true
   },
   "outputs": [
    {
     "data": {
      "text/plain": [
       "Pipeline(memory=None,\n",
       "     steps=[('tfidf', TfidfVectorizer(analyzer='word', binary=False, decode_error='strict',\n",
       "        dtype=<class 'numpy.int64'>, encoding='utf-8', input='content',\n",
       "        lowercase=True, max_df=1.0, max_features=None, min_df=1,\n",
       "        ngram_range=(1, 3), norm='l2', preprocessor=None, smooth_idf=True,\n",
       " ...ty='l2', power_t=0.5, random_state=42, shuffle=True,\n",
       "       tol=None, verbose=0, warm_start=False))])"
      ]
     },
     "execution_count": 70,
     "metadata": {},
     "output_type": "execute_result"
    }
   ],
   "source": [
    "text_SGD.fit(counts_text, targets)"
   ]
  },
  {
   "cell_type": "code",
   "execution_count": 71,
   "metadata": {
    "collapsed": false,
    "deletable": true,
    "editable": true
   },
   "outputs": [
    {
     "name": "stdout",
     "output_type": "stream",
     "text": [
      "0.5319148936170213\n"
     ]
    }
   ],
   "source": [
    "pred_text_SGD = text_SGD.predict(test_text)\n",
    "accuracy = np.mean(pred_text_SGD == test_targets)\n",
    "print(accuracy)"
   ]
  },
  {
   "cell_type": "code",
   "execution_count": 72,
   "metadata": {
    "collapsed": false,
    "deletable": true,
    "editable": true
   },
   "outputs": [
    {
     "name": "stdout",
     "output_type": "stream",
     "text": [
      "             precision    recall  f1-score   support\n",
      "\n",
      "          1       0.46      0.56      0.50       156\n",
      "          2       0.62      0.70      0.66       155\n",
      "          3       0.51      0.34      0.41       159\n",
      "\n",
      "avg / total       0.53      0.53      0.52       470\n",
      "\n"
     ]
    }
   ],
   "source": [
    "print(classification_report(test_targets, pred_text_SGD))"
   ]
  }
 ],
 "metadata": {
  "kernelspec": {
   "display_name": "Python 3",
   "language": "python",
   "name": "python3"
  },
  "language_info": {
   "codemirror_mode": {
    "name": "ipython",
    "version": 3
   },
   "file_extension": ".py",
   "mimetype": "text/x-python",
   "name": "python",
   "nbconvert_exporter": "python",
   "pygments_lexer": "ipython3",
   "version": "3.5.5"
  }
 },
 "nbformat": 4,
 "nbformat_minor": 2
}
