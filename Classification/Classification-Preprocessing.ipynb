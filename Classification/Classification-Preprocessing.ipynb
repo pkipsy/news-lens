{
 "cells": [
  {
   "cell_type": "markdown",
   "metadata": {
    "deletable": true,
    "editable": true
   },
   "source": [
    "# Predict political bias of news articles with linear models"
   ]
  },
  {
   "cell_type": "markdown",
   "metadata": {},
   "source": [
    "## Text Preprocessing Notebook"
   ]
  },
  {
   "cell_type": "markdown",
   "metadata": {
    "deletable": true,
    "editable": true
   },
   "source": [
    "### Load Text"
   ]
  },
  {
   "cell_type": "code",
   "execution_count": 5,
   "metadata": {
    "collapsed": true,
    "deletable": true,
    "editable": true
   },
   "outputs": [],
   "source": [
    "# import pandas\n",
    "import pandas as pd\n",
    "\n",
    "# define csv read\n",
    "def read_data(filename):\n",
    "    # read in csv\n",
    "    df = pd.read_csv(filename)\n",
    "    \n",
    "    # drop texts under 500 words\n",
    "    df = df.drop(df[df.text_len < 500].index)\n",
    "    \n",
    "    # drop texts over 1000 words\n",
    "    df = df.drop(df[df.text_len > 10000].index)\n",
    "    \n",
    "    #limit df content to bias, text, headline, and source\n",
    "    df = df.loc[:, ['bias', 'text', 'headline', 'source']]\n",
    "    \n",
    "    #convert bias label to numbers\n",
    "    df['bias'] = df['bias'].replace({'Left ': 1, 'Center ': 2, 'Right ': 3})\n",
    "    \n",
    "    # classify without center biased news\n",
    "    # new = new[new.bias != '2']\n",
    "    \n",
    "    return df"
   ]
  },
  {
   "cell_type": "code",
   "execution_count": 6,
   "metadata": {
    "collapsed": false,
    "deletable": true,
    "editable": true
   },
   "outputs": [
    {
     "data": {
      "text/html": [
       "<div>\n",
       "<style scoped>\n",
       "    .dataframe tbody tr th:only-of-type {\n",
       "        vertical-align: middle;\n",
       "    }\n",
       "\n",
       "    .dataframe tbody tr th {\n",
       "        vertical-align: top;\n",
       "    }\n",
       "\n",
       "    .dataframe thead th {\n",
       "        text-align: right;\n",
       "    }\n",
       "</style>\n",
       "<table border=\"1\" class=\"dataframe\">\n",
       "  <thead>\n",
       "    <tr style=\"text-align: right;\">\n",
       "      <th></th>\n",
       "      <th>bias</th>\n",
       "      <th>text</th>\n",
       "      <th>headline</th>\n",
       "      <th>source</th>\n",
       "    </tr>\n",
       "  </thead>\n",
       "  <tbody>\n",
       "    <tr>\n",
       "      <th>0</th>\n",
       "      <td>1</td>\n",
       "      <td>Jared Bernstein, a former chief economist to V...</td>\n",
       "      <td>b'How trend-riding Trump is taking credit for ...</td>\n",
       "      <td>Washington Post</td>\n",
       "    </tr>\n",
       "    <tr>\n",
       "      <th>1</th>\n",
       "      <td>3</td>\n",
       "      <td>Liberals have opposed virtually every move Pre...</td>\n",
       "      <td>b'It\\xe2\\x80\\x99s Trump\\xe2\\x80\\x99s Economy Now'</td>\n",
       "      <td>Wall Street Journal- Editorial</td>\n",
       "    </tr>\n",
       "    <tr>\n",
       "      <th>2</th>\n",
       "      <td>2</td>\n",
       "      <td>CLOSE President Trump’s once bitter political ...</td>\n",
       "      <td>b'The Bubble: By undoing Obama accomplishments...</td>\n",
       "      <td>USA TODAY</td>\n",
       "    </tr>\n",
       "    <tr>\n",
       "      <th>3</th>\n",
       "      <td>2</td>\n",
       "      <td>The attorneys for Michael Cohen, President Don...</td>\n",
       "      <td>b'Trump Lawyer Michael Cohen\\xe2\\x80\\x99s Atto...</td>\n",
       "      <td>Wall Street Journal- News</td>\n",
       "    </tr>\n",
       "    <tr>\n",
       "      <th>4</th>\n",
       "      <td>1</td>\n",
       "      <td>Longtime Trump lawyer Michael Cohen is changin...</td>\n",
       "      <td>b'Reports suggest Michael Cohen is thinking of...</td>\n",
       "      <td>Vox</td>\n",
       "    </tr>\n",
       "  </tbody>\n",
       "</table>\n",
       "</div>"
      ],
      "text/plain": [
       "   bias                                               text  \\\n",
       "0     1  Jared Bernstein, a former chief economist to V...   \n",
       "1     3  Liberals have opposed virtually every move Pre...   \n",
       "2     2  CLOSE President Trump’s once bitter political ...   \n",
       "3     2  The attorneys for Michael Cohen, President Don...   \n",
       "4     1  Longtime Trump lawyer Michael Cohen is changin...   \n",
       "\n",
       "                                            headline  \\\n",
       "0  b'How trend-riding Trump is taking credit for ...   \n",
       "1  b'It\\xe2\\x80\\x99s Trump\\xe2\\x80\\x99s Economy Now'   \n",
       "2  b'The Bubble: By undoing Obama accomplishments...   \n",
       "3  b'Trump Lawyer Michael Cohen\\xe2\\x80\\x99s Atto...   \n",
       "4  b'Reports suggest Michael Cohen is thinking of...   \n",
       "\n",
       "                           source  \n",
       "0                 Washington Post  \n",
       "1  Wall Street Journal- Editorial  \n",
       "2                       USA TODAY  \n",
       "3       Wall Street Journal- News  \n",
       "4                             Vox  "
      ]
     },
     "execution_count": 6,
     "metadata": {},
     "output_type": "execute_result"
    }
   ],
   "source": [
    "new = read_data('news-corpus-df.csv')\n",
    "new.head()"
   ]
  },
  {
   "cell_type": "code",
   "execution_count": 87,
   "metadata": {
    "collapsed": false,
    "deletable": true,
    "editable": true
   },
   "outputs": [
    {
     "data": {
      "text/plain": [
       "(2924, 4)"
      ]
     },
     "execution_count": 87,
     "metadata": {},
     "output_type": "execute_result"
    }
   ],
   "source": [
    "# check the size of the current df\n",
    "new.shape"
   ]
  },
  {
   "cell_type": "code",
   "execution_count": 88,
   "metadata": {
    "collapsed": false,
    "deletable": true,
    "editable": true
   },
   "outputs": [
    {
     "data": {
      "text/html": [
       "<div>\n",
       "<style scoped>\n",
       "    .dataframe tbody tr th:only-of-type {\n",
       "        vertical-align: middle;\n",
       "    }\n",
       "\n",
       "    .dataframe tbody tr th {\n",
       "        vertical-align: top;\n",
       "    }\n",
       "\n",
       "    .dataframe thead th {\n",
       "        text-align: right;\n",
       "    }\n",
       "</style>\n",
       "<table border=\"1\" class=\"dataframe\">\n",
       "  <thead>\n",
       "    <tr style=\"text-align: right;\">\n",
       "      <th></th>\n",
       "      <th>bias</th>\n",
       "      <th>text</th>\n",
       "      <th>headline</th>\n",
       "      <th>source</th>\n",
       "    </tr>\n",
       "  </thead>\n",
       "  <tbody>\n",
       "    <tr>\n",
       "      <th>0</th>\n",
       "      <td>3</td>\n",
       "      <td>On Wednesday, Laura Ingraham tweeted out an il...</td>\n",
       "      <td>b'The Laura Ingraham Boycott Has Nothing To Do...</td>\n",
       "      <td>The Daily Wire</td>\n",
       "    </tr>\n",
       "    <tr>\n",
       "      <th>1</th>\n",
       "      <td>3</td>\n",
       "      <td>EDITOR'S NOTE: Orlando's mayor on Monday revis...</td>\n",
       "      <td>b'50 killed in shooting at Florida nightclub i...</td>\n",
       "      <td>Fox News</td>\n",
       "    </tr>\n",
       "    <tr>\n",
       "      <th>2</th>\n",
       "      <td>2</td>\n",
       "      <td>Ohio officials announced Wednesday that Libert...</td>\n",
       "      <td>b'How much hope for third-party presidential c...</td>\n",
       "      <td>Christian Science Monitor</td>\n",
       "    </tr>\n",
       "    <tr>\n",
       "      <th>3</th>\n",
       "      <td>1</td>\n",
       "      <td>Washington (CNN) A top White House aide called...</td>\n",
       "      <td>b\"WH aide: Bannon's comments 'grotesque'\"</td>\n",
       "      <td>CNN (Web News)</td>\n",
       "    </tr>\n",
       "    <tr>\n",
       "      <th>4</th>\n",
       "      <td>3</td>\n",
       "      <td>As President Trump headed Tuesday to Puerto Ri...</td>\n",
       "      <td>b'Trump: San Juan mayor coming around on hurri...</td>\n",
       "      <td>Washington Times</td>\n",
       "    </tr>\n",
       "  </tbody>\n",
       "</table>\n",
       "</div>"
      ],
      "text/plain": [
       "   bias                                               text  \\\n",
       "0     3  On Wednesday, Laura Ingraham tweeted out an il...   \n",
       "1     3  EDITOR'S NOTE: Orlando's mayor on Monday revis...   \n",
       "2     2  Ohio officials announced Wednesday that Libert...   \n",
       "3     1  Washington (CNN) A top White House aide called...   \n",
       "4     3  As President Trump headed Tuesday to Puerto Ri...   \n",
       "\n",
       "                                            headline  \\\n",
       "0  b'The Laura Ingraham Boycott Has Nothing To Do...   \n",
       "1  b'50 killed in shooting at Florida nightclub i...   \n",
       "2  b'How much hope for third-party presidential c...   \n",
       "3          b\"WH aide: Bannon's comments 'grotesque'\"   \n",
       "4  b'Trump: San Juan mayor coming around on hurri...   \n",
       "\n",
       "                      source  \n",
       "0             The Daily Wire  \n",
       "1                   Fox News  \n",
       "2  Christian Science Monitor  \n",
       "3             CNN (Web News)  \n",
       "4           Washington Times  "
      ]
     },
     "execution_count": 88,
     "metadata": {},
     "output_type": "execute_result"
    }
   ],
   "source": [
    "# shuffle df for random sampling\n",
    "new = new.sample(frac=1).reset_index(drop=True)\n",
    "new.head()"
   ]
  },
  {
   "cell_type": "code",
   "execution_count": 89,
   "metadata": {
    "collapsed": false,
    "deletable": true,
    "editable": true
   },
   "outputs": [
    {
     "data": {
      "text/plain": [
       "(749, 4)"
      ]
     },
     "execution_count": 89,
     "metadata": {},
     "output_type": "execute_result"
    }
   ],
   "source": [
    "# check num of center labeled stories\n",
    "new.loc[new['bias'] == 2].shape"
   ]
  },
  {
   "cell_type": "code",
   "execution_count": 90,
   "metadata": {
    "collapsed": false,
    "deletable": true,
    "editable": true
   },
   "outputs": [
    {
     "data": {
      "text/plain": [
       "(2349, 4)"
      ]
     },
     "execution_count": 90,
     "metadata": {},
     "output_type": "execute_result"
    }
   ],
   "source": [
    "# equalize numbers for each bias class\n",
    "center = new.loc[new['bias'] == 2][0:800]\n",
    "right = new.loc[new['bias'] == 3][0:800]\n",
    "left = new.loc[new['bias'] == 1][0:800]\n",
    "\n",
    "new = center.append(right, ignore_index=True)\n",
    "new = new.append(left, ignore_index=True)\n",
    "\n",
    "# check new df size\n",
    "new.shape"
   ]
  },
  {
   "cell_type": "markdown",
   "metadata": {
    "deletable": true,
    "editable": true
   },
   "source": [
    "## Text Preprocessing on DF"
   ]
  },
  {
   "cell_type": "code",
   "execution_count": 95,
   "metadata": {
    "collapsed": false,
    "deletable": true,
    "editable": true
   },
   "outputs": [],
   "source": [
    "# import key modules\n",
    "import re\n",
    "import string\n",
    "from nltk.corpus import stopwords\n",
    "from nltk.tokenize import RegexpTokenizer"
   ]
  },
  {
   "cell_type": "code",
   "execution_count": 96,
   "metadata": {
    "collapsed": true,
    "deletable": true,
    "editable": true
   },
   "outputs": [],
   "source": [
    "# strip texts of punctuation, boilerplate, and stop words\n",
    "def text_prepare(text):\n",
    "    \"\"\"\n",
    "        text: a string\n",
    "        return: modified initial string\n",
    "    \"\"\"\n",
    "    text = text.lower()\n",
    "    text = text.replace('\\n',' ')\n",
    "    \n",
    "    letters = list(string.ascii_lowercase)\n",
    "    numbers = ['0','1','2','3','4','5','6','7','8','9']\n",
    "    banned = [\"’\",\"’\",\"“\",\"—\",\"”\",\"‘\",\"–\",'#','[','/','(',')','{','}','\\\\','[',']','|','@',',',';','+','-']\n",
    "    banned = ''.join(banned) + string.punctuation + ''.join(numbers)\n",
    "    boilerplate = ['  ','https','http','www', '’s', '―', '/', 'playback', 'get', 'mr', 'mrs', 'ms', 'dr', 'prof', 'news', 'report', 'unsubscribe', 'they', 'must', 'share', 'that', 'view', 'hide', 'copy', 'something', 'enlarge', 'reprint', 'read', '_', 'videos', 'autoplay', 'watched', 'press', '’ve', 'toggle', 'around', 'the', 's.', 'said', 'here©', 'ad', '#', 'andhis', 'click', 'r', 'device', 'contributed', 'advertisement', 'the washington', '&', 'follow', 'copyright', 'mrs.', 'photo', 'to', 'also', 'times', 'for', 'however', 'fox', 'this', 'copyright ©', 'ofs', 'just', 'wait', 'n’t', 'told', 'unsupported', 'i', 'caption', 'ms.', '’m', 'paste', '’re', 'replay', 'photos', 'mr.', '©', 'skip', 'watch', '2018', 'cut', 'llc', 'more', 'post', 'embed', 'blog', 'b.', 'associated', 'permission']\n",
    "    stop_list = set(stopwords.words('english') + boilerplate + letters)\n",
    "    \n",
    "    translation_table = dict.fromkeys(map(ord, banned), ' ')\n",
    "    text = text.translate(translation_table)\n",
    "    text = re.sub(' +',' ',text)\n",
    "    text = ' '.join([word for word in text.split() if word not in stop_list])\n",
    "    return text"
   ]
  },
  {
   "cell_type": "code",
   "execution_count": 97,
   "metadata": {
    "collapsed": false,
    "deletable": true,
    "editable": true
   },
   "outputs": [
    {
     "data": {
      "text/html": [
       "<div>\n",
       "<style scoped>\n",
       "    .dataframe tbody tr th:only-of-type {\n",
       "        vertical-align: middle;\n",
       "    }\n",
       "\n",
       "    .dataframe tbody tr th {\n",
       "        vertical-align: top;\n",
       "    }\n",
       "\n",
       "    .dataframe thead th {\n",
       "        text-align: right;\n",
       "    }\n",
       "</style>\n",
       "<table border=\"1\" class=\"dataframe\">\n",
       "  <thead>\n",
       "    <tr style=\"text-align: right;\">\n",
       "      <th></th>\n",
       "      <th>bias</th>\n",
       "      <th>text</th>\n",
       "      <th>headline</th>\n",
       "      <th>source</th>\n",
       "    </tr>\n",
       "  </thead>\n",
       "  <tbody>\n",
       "    <tr>\n",
       "      <th>0</th>\n",
       "      <td>2</td>\n",
       "      <td>ohio officials announced wednesday libertarian...</td>\n",
       "      <td>much hope third party presidential candidates</td>\n",
       "      <td>Christian Science Monitor</td>\n",
       "    </tr>\n",
       "    <tr>\n",
       "      <th>1</th>\n",
       "      <td>2</td>\n",
       "      <td>british police arrest investigation london att...</td>\n",
       "      <td>parliament lockdown firearms incident</td>\n",
       "      <td>NPR News</td>\n",
       "    </tr>\n",
       "    <tr>\n",
       "      <th>2</th>\n",
       "      <td>2</td>\n",
       "      <td>close harvey weinstein lawyer usa today client...</td>\n",
       "      <td>harvey weinstein formally charged rape crimina...</td>\n",
       "      <td>USA TODAY</td>\n",
       "    </tr>\n",
       "    <tr>\n",
       "      <th>3</th>\n",
       "      <td>2</td>\n",
       "      <td>koch network using libre initiative thank numb...</td>\n",
       "      <td>koch brothers fund political ads praising dems...</td>\n",
       "      <td>The Hill</td>\n",
       "    </tr>\n",
       "    <tr>\n",
       "      <th>4</th>\n",
       "      <td>2</td>\n",
       "      <td>elected officials chaired dnc past many party ...</td>\n",
       "      <td>keith ellison future dnc</td>\n",
       "      <td>Christian Science Monitor</td>\n",
       "    </tr>\n",
       "  </tbody>\n",
       "</table>\n",
       "</div>"
      ],
      "text/plain": [
       "   bias                                               text  \\\n",
       "0     2  ohio officials announced wednesday libertarian...   \n",
       "1     2  british police arrest investigation london att...   \n",
       "2     2  close harvey weinstein lawyer usa today client...   \n",
       "3     2  koch network using libre initiative thank numb...   \n",
       "4     2  elected officials chaired dnc past many party ...   \n",
       "\n",
       "                                            headline  \\\n",
       "0      much hope third party presidential candidates   \n",
       "1              parliament lockdown firearms incident   \n",
       "2  harvey weinstein formally charged rape crimina...   \n",
       "3  koch brothers fund political ads praising dems...   \n",
       "4                           keith ellison future dnc   \n",
       "\n",
       "                      source  \n",
       "0  Christian Science Monitor  \n",
       "1                   NPR News  \n",
       "2                  USA TODAY  \n",
       "3                   The Hill  \n",
       "4  Christian Science Monitor  "
      ]
     },
     "execution_count": 97,
     "metadata": {},
     "output_type": "execute_result"
    }
   ],
   "source": [
    "# rewrite df with cleaned text\n",
    "for i in range(0, len(new)):\n",
    "  new.at[i,'text'] = text_prepare(new.at[i,'text'])\n",
    "  new.at[i,'headline'] = text_prepare(new.at[i,'headline'])\n",
    "  \n",
    "new.head()"
   ]
  },
  {
   "cell_type": "code",
   "execution_count": 98,
   "metadata": {
    "collapsed": true,
    "deletable": true,
    "editable": true
   },
   "outputs": [],
   "source": [
    "# save cleaned file to csv\n",
    "new.to_csv('news-corpus-df-clean.csv', sep='\\t', encoding='utf-8')"
   ]
  },
  {
   "cell_type": "markdown",
   "metadata": {},
   "source": [
    "### Check DF with Sentiment Data"
   ]
  },
  {
   "cell_type": "code",
   "execution_count": 7,
   "metadata": {
    "collapsed": false
   },
   "outputs": [
    {
     "data": {
      "text/html": [
       "<div>\n",
       "<style scoped>\n",
       "    .dataframe tbody tr th:only-of-type {\n",
       "        vertical-align: middle;\n",
       "    }\n",
       "\n",
       "    .dataframe tbody tr th {\n",
       "        vertical-align: top;\n",
       "    }\n",
       "\n",
       "    .dataframe thead th {\n",
       "        text-align: right;\n",
       "    }\n",
       "</style>\n",
       "<table border=\"1\" class=\"dataframe\">\n",
       "  <thead>\n",
       "    <tr style=\"text-align: right;\">\n",
       "      <th></th>\n",
       "      <th>bias</th>\n",
       "      <th>text</th>\n",
       "      <th>headline</th>\n",
       "      <th>source</th>\n",
       "      <th>sentiment</th>\n",
       "      <th>magnitude</th>\n",
       "    </tr>\n",
       "  </thead>\n",
       "  <tbody>\n",
       "    <tr>\n",
       "      <th>0</th>\n",
       "      <td>2</td>\n",
       "      <td>close president trump bitter political enemy m...</td>\n",
       "      <td>bubble undoing obama accomplishments trump let...</td>\n",
       "      <td>USA TODAY</td>\n",
       "      <td>0.0</td>\n",
       "      <td>17.799999</td>\n",
       "    </tr>\n",
       "    <tr>\n",
       "      <th>1</th>\n",
       "      <td>2</td>\n",
       "      <td>attorneys michael cohen president donald trump...</td>\n",
       "      <td>trump lawyer michael cohen xe attorneys expect...</td>\n",
       "      <td>Wall Street Journal- News</td>\n",
       "      <td>0.0</td>\n",
       "      <td>0.500000</td>\n",
       "    </tr>\n",
       "    <tr>\n",
       "      <th>2</th>\n",
       "      <td>2</td>\n",
       "      <td>canada house commons monday unanimously condem...</td>\n",
       "      <td>canadian parliament condemns trump attacks tru...</td>\n",
       "      <td>The Hill</td>\n",
       "      <td>-0.3</td>\n",
       "      <td>6.500000</td>\n",
       "    </tr>\n",
       "    <tr>\n",
       "      <th>3</th>\n",
       "      <td>2</td>\n",
       "      <td>washington reuters senate vote soon week legis...</td>\n",
       "      <td>senate vote zte ban defense bill week</td>\n",
       "      <td>Reuters</td>\n",
       "      <td>-0.1</td>\n",
       "      <td>1.400000</td>\n",
       "    </tr>\n",
       "    <tr>\n",
       "      <th>4</th>\n",
       "      <td>2</td>\n",
       "      <td>unprecedented summit singapore donald trump ki...</td>\n",
       "      <td>trump kim begin new phase diplomacy</td>\n",
       "      <td>Wall Street Journal- News</td>\n",
       "      <td>0.1</td>\n",
       "      <td>1.400000</td>\n",
       "    </tr>\n",
       "  </tbody>\n",
       "</table>\n",
       "</div>"
      ],
      "text/plain": [
       "   bias                                               text  \\\n",
       "0     2  close president trump bitter political enemy m...   \n",
       "1     2  attorneys michael cohen president donald trump...   \n",
       "2     2  canada house commons monday unanimously condem...   \n",
       "3     2  washington reuters senate vote soon week legis...   \n",
       "4     2  unprecedented summit singapore donald trump ki...   \n",
       "\n",
       "                                            headline  \\\n",
       "0  bubble undoing obama accomplishments trump let...   \n",
       "1  trump lawyer michael cohen xe attorneys expect...   \n",
       "2  canadian parliament condemns trump attacks tru...   \n",
       "3              senate vote zte ban defense bill week   \n",
       "4                trump kim begin new phase diplomacy   \n",
       "\n",
       "                      source  sentiment  magnitude  \n",
       "0                  USA TODAY        0.0  17.799999  \n",
       "1  Wall Street Journal- News        0.0   0.500000  \n",
       "2                   The Hill       -0.3   6.500000  \n",
       "3                    Reuters       -0.1   1.400000  \n",
       "4  Wall Street Journal- News        0.1   1.400000  "
      ]
     },
     "execution_count": 7,
     "metadata": {},
     "output_type": "execute_result"
    }
   ],
   "source": [
    "# define csv read\n",
    "def read_data2(filename):\n",
    "    # read in csv\n",
    "    df = pd.read_csv(filename, sep='\\t', encoding='utf-8')\n",
    "    \n",
    "    #limit df content to bias, text, headline, and source\n",
    "    df = df.loc[:, ['bias', 'text', 'headline', 'source', 'sentiment', 'magnitude']]\n",
    "    \n",
    "    return df\n",
    "\n",
    "# load cleaned file with sentiment data\n",
    "sent = read_data2('news-corpus-df-sent.csv')\n",
    "sent.head()"
   ]
  }
 ],
 "metadata": {
  "kernelspec": {
   "display_name": "Python 3",
   "language": "python",
   "name": "python3"
  },
  "language_info": {
   "codemirror_mode": {
    "name": "ipython",
    "version": 3
   },
   "file_extension": ".py",
   "mimetype": "text/x-python",
   "name": "python",
   "nbconvert_exporter": "python",
   "pygments_lexer": "ipython3",
   "version": "3.5.5"
  }
 },
 "nbformat": 4,
 "nbformat_minor": 2
}
