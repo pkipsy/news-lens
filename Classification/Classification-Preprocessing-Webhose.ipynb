{
 "cells": [
  {
   "cell_type": "markdown",
   "metadata": {
    "deletable": true,
    "editable": true
   },
   "source": [
    "# Predicting the political bias of news articles"
   ]
  },
  {
   "cell_type": "markdown",
   "metadata": {
    "deletable": true,
    "editable": true
   },
   "source": [
    "## Text Processing with the Webhose.io Crawl"
   ]
  },
  {
   "cell_type": "code",
   "execution_count": null,
   "metadata": {
    "collapsed": false,
    "deletable": true,
    "editable": true
   },
   "outputs": [],
   "source": [
    "# https://github.com/shivam5992/textstat\n",
    "!pip install textstat"
   ]
  },
  {
   "cell_type": "markdown",
   "metadata": {
    "deletable": true,
    "editable": true
   },
   "source": [
    "### Load Text"
   ]
  },
  {
   "cell_type": "code",
   "execution_count": 49,
   "metadata": {
    "collapsed": false,
    "deletable": true,
    "editable": true
   },
   "outputs": [],
   "source": [
    "# import pandas\n",
    "import pandas as pd\n",
    "\n",
    "# define csv read\n",
    "def read_data(filename):\n",
    "    # read in csv\n",
    "    df = pd.read_csv(filename, sep='\\t', encoding='utf-8')\n",
    "    \n",
    "    # convert bias label to numbers\n",
    "    df['bias'] = df['bias'].replace({'Left': 1, 'Center': 2, 'Right': 3})\n",
    "    \n",
    "    # add sentence num count\n",
    "    df['sentences'] = [t.count('.') for t in df['text']]\n",
    "    \n",
    "    #drop first column (index)\n",
    "    df = df.drop(df.columns[0], axis=1)\n",
    "    \n",
    "    return df"
   ]
  },
  {
   "cell_type": "code",
   "execution_count": 51,
   "metadata": {
    "collapsed": false,
    "deletable": true,
    "editable": true
   },
   "outputs": [
    {
     "data": {
      "text/html": [
       "<div>\n",
       "<style scoped>\n",
       "    .dataframe tbody tr th:only-of-type {\n",
       "        vertical-align: middle;\n",
       "    }\n",
       "\n",
       "    .dataframe tbody tr th {\n",
       "        vertical-align: top;\n",
       "    }\n",
       "\n",
       "    .dataframe thead th {\n",
       "        text-align: right;\n",
       "    }\n",
       "</style>\n",
       "<table border=\"1\" class=\"dataframe\">\n",
       "  <thead>\n",
       "    <tr style=\"text-align: right;\">\n",
       "      <th></th>\n",
       "      <th>bias</th>\n",
       "      <th>source</th>\n",
       "      <th>headline</th>\n",
       "      <th>text</th>\n",
       "      <th>date</th>\n",
       "      <th>sentences</th>\n",
       "    </tr>\n",
       "  </thead>\n",
       "  <tbody>\n",
       "    <tr>\n",
       "      <th>0</th>\n",
       "      <td>1</td>\n",
       "      <td>New York Times</td>\n",
       "      <td>Libyan Forces Advance Into Eastern City of Der...</td>\n",
       "      <td>Libyan Forces Advance Into Eastern City of Der...</td>\n",
       "      <td>2018-06-04</td>\n",
       "      <td>16</td>\n",
       "    </tr>\n",
       "    <tr>\n",
       "      <th>1</th>\n",
       "      <td>1</td>\n",
       "      <td>New York Times</td>\n",
       "      <td>First Saudi Women Receive Driving Licenses Ami...</td>\n",
       "      <td>First Saudi Women Receive Driving Licenses Ami...</td>\n",
       "      <td>2018-06-04</td>\n",
       "      <td>35</td>\n",
       "    </tr>\n",
       "    <tr>\n",
       "      <th>2</th>\n",
       "      <td>1</td>\n",
       "      <td>New York Times</td>\n",
       "      <td>Boulder-Size Asteroid Disintegrated Harmlessly...</td>\n",
       "      <td>Boulder-Size Asteroid Disintegrated Harmlessly...</td>\n",
       "      <td>2018-06-04</td>\n",
       "      <td>24</td>\n",
       "    </tr>\n",
       "    <tr>\n",
       "      <th>3</th>\n",
       "      <td>1</td>\n",
       "      <td>New York Times</td>\n",
       "      <td>‘There There’ is an Energetic Revelation of a ...</td>\n",
       "      <td>Image Credit Alessandra Montalto/The New York ...</td>\n",
       "      <td>2018-06-05</td>\n",
       "      <td>58</td>\n",
       "    </tr>\n",
       "    <tr>\n",
       "      <th>4</th>\n",
       "      <td>1</td>\n",
       "      <td>New York Times</td>\n",
       "      <td>Transcript of ‘Charm City,’ Part 1: Baltimore ...</td>\n",
       "      <td>Transcript of ‘Charm City,’ Part 1: Baltimore ...</td>\n",
       "      <td>2018-06-04</td>\n",
       "      <td>541</td>\n",
       "    </tr>\n",
       "  </tbody>\n",
       "</table>\n",
       "</div>"
      ],
      "text/plain": [
       "   bias          source                                           headline  \\\n",
       "0     1  New York Times  Libyan Forces Advance Into Eastern City of Der...   \n",
       "1     1  New York Times  First Saudi Women Receive Driving Licenses Ami...   \n",
       "2     1  New York Times  Boulder-Size Asteroid Disintegrated Harmlessly...   \n",
       "3     1  New York Times  ‘There There’ is an Energetic Revelation of a ...   \n",
       "4     1  New York Times  Transcript of ‘Charm City,’ Part 1: Baltimore ...   \n",
       "\n",
       "                                                text        date  sentences  \n",
       "0  Libyan Forces Advance Into Eastern City of Der...  2018-06-04         16  \n",
       "1  First Saudi Women Receive Driving Licenses Ami...  2018-06-04         35  \n",
       "2  Boulder-Size Asteroid Disintegrated Harmlessly...  2018-06-04         24  \n",
       "3  Image Credit Alessandra Montalto/The New York ...  2018-06-05         58  \n",
       "4  Transcript of ‘Charm City,’ Part 1: Baltimore ...  2018-06-04        541  "
      ]
     },
     "execution_count": 51,
     "metadata": {},
     "output_type": "execute_result"
    }
   ],
   "source": [
    "combine = read_data('webhose_crawl_2018-06-22.csv')\n",
    "combine.head()"
   ]
  },
  {
   "cell_type": "code",
   "execution_count": 52,
   "metadata": {
    "collapsed": false,
    "deletable": true,
    "editable": true
   },
   "outputs": [
    {
     "data": {
      "text/plain": [
       "(31184, 6)"
      ]
     },
     "execution_count": 52,
     "metadata": {},
     "output_type": "execute_result"
    }
   ],
   "source": [
    "# check the size of the current df\n",
    "combine.shape"
   ]
  },
  {
   "cell_type": "markdown",
   "metadata": {
    "deletable": true,
    "editable": true
   },
   "source": [
    "### Add Text Readability Measure"
   ]
  },
  {
   "cell_type": "code",
   "execution_count": 53,
   "metadata": {
    "collapsed": true,
    "deletable": true,
    "editable": true
   },
   "outputs": [],
   "source": [
    "# get text readability\n",
    "from textstat.textstat import textstat\n",
    "\n",
    "def read_score(text):\n",
    "  text = textstat.automated_readability_index(text.replace('\\n',''))\n",
    "  return text"
   ]
  },
  {
   "cell_type": "code",
   "execution_count": 54,
   "metadata": {
    "collapsed": false,
    "deletable": true,
    "editable": true
   },
   "outputs": [
    {
     "data": {
      "text/plain": [
       "15.4"
      ]
     },
     "execution_count": 54,
     "metadata": {},
     "output_type": "execute_result"
    }
   ],
   "source": [
    "read_score(combine['text'][1])"
   ]
  },
  {
   "cell_type": "code",
   "execution_count": 55,
   "metadata": {
    "collapsed": false,
    "deletable": true,
    "editable": true
   },
   "outputs": [],
   "source": [
    "# add reading column\n",
    "reading_list = [read_score(t) for t in combine.text]\n",
    "combine[\"reading\"] = reading_list"
   ]
  },
  {
   "cell_type": "code",
   "execution_count": 56,
   "metadata": {
    "collapsed": true,
    "deletable": true,
    "editable": true
   },
   "outputs": [],
   "source": [
    "#add text length column\n",
    "combine['length'] = [len(t.split()) for t in combine['text']]"
   ]
  },
  {
   "cell_type": "code",
   "execution_count": 57,
   "metadata": {
    "collapsed": false,
    "deletable": true,
    "editable": true
   },
   "outputs": [
    {
     "data": {
      "text/html": [
       "<div>\n",
       "<style scoped>\n",
       "    .dataframe tbody tr th:only-of-type {\n",
       "        vertical-align: middle;\n",
       "    }\n",
       "\n",
       "    .dataframe tbody tr th {\n",
       "        vertical-align: top;\n",
       "    }\n",
       "\n",
       "    .dataframe thead th {\n",
       "        text-align: right;\n",
       "    }\n",
       "</style>\n",
       "<table border=\"1\" class=\"dataframe\">\n",
       "  <thead>\n",
       "    <tr style=\"text-align: right;\">\n",
       "      <th></th>\n",
       "      <th>bias</th>\n",
       "      <th>source</th>\n",
       "      <th>headline</th>\n",
       "      <th>text</th>\n",
       "      <th>date</th>\n",
       "      <th>sentences</th>\n",
       "      <th>reading</th>\n",
       "      <th>length</th>\n",
       "    </tr>\n",
       "  </thead>\n",
       "  <tbody>\n",
       "    <tr>\n",
       "      <th>0</th>\n",
       "      <td>1</td>\n",
       "      <td>New York Times</td>\n",
       "      <td>Libyan Forces Advance Into Eastern City of Der...</td>\n",
       "      <td>Libyan Forces Advance Into Eastern City of Der...</td>\n",
       "      <td>2018-06-04</td>\n",
       "      <td>16</td>\n",
       "      <td>14.8</td>\n",
       "      <td>403</td>\n",
       "    </tr>\n",
       "    <tr>\n",
       "      <th>1</th>\n",
       "      <td>1</td>\n",
       "      <td>New York Times</td>\n",
       "      <td>First Saudi Women Receive Driving Licenses Ami...</td>\n",
       "      <td>First Saudi Women Receive Driving Licenses Ami...</td>\n",
       "      <td>2018-06-04</td>\n",
       "      <td>35</td>\n",
       "      <td>15.4</td>\n",
       "      <td>800</td>\n",
       "    </tr>\n",
       "    <tr>\n",
       "      <th>2</th>\n",
       "      <td>1</td>\n",
       "      <td>New York Times</td>\n",
       "      <td>Boulder-Size Asteroid Disintegrated Harmlessly...</td>\n",
       "      <td>Boulder-Size Asteroid Disintegrated Harmlessly...</td>\n",
       "      <td>2018-06-04</td>\n",
       "      <td>24</td>\n",
       "      <td>11.9</td>\n",
       "      <td>418</td>\n",
       "    </tr>\n",
       "    <tr>\n",
       "      <th>3</th>\n",
       "      <td>1</td>\n",
       "      <td>New York Times</td>\n",
       "      <td>‘There There’ is an Energetic Revelation of a ...</td>\n",
       "      <td>Image Credit Alessandra Montalto/The New York ...</td>\n",
       "      <td>2018-06-05</td>\n",
       "      <td>58</td>\n",
       "      <td>10.7</td>\n",
       "      <td>1078</td>\n",
       "    </tr>\n",
       "    <tr>\n",
       "      <th>4</th>\n",
       "      <td>1</td>\n",
       "      <td>New York Times</td>\n",
       "      <td>Transcript of ‘Charm City,’ Part 1: Baltimore ...</td>\n",
       "      <td>Transcript of ‘Charm City,’ Part 1: Baltimore ...</td>\n",
       "      <td>2018-06-04</td>\n",
       "      <td>541</td>\n",
       "      <td>6.5</td>\n",
       "      <td>6620</td>\n",
       "    </tr>\n",
       "  </tbody>\n",
       "</table>\n",
       "</div>"
      ],
      "text/plain": [
       "   bias          source                                           headline  \\\n",
       "0     1  New York Times  Libyan Forces Advance Into Eastern City of Der...   \n",
       "1     1  New York Times  First Saudi Women Receive Driving Licenses Ami...   \n",
       "2     1  New York Times  Boulder-Size Asteroid Disintegrated Harmlessly...   \n",
       "3     1  New York Times  ‘There There’ is an Energetic Revelation of a ...   \n",
       "4     1  New York Times  Transcript of ‘Charm City,’ Part 1: Baltimore ...   \n",
       "\n",
       "                                                text        date  sentences  \\\n",
       "0  Libyan Forces Advance Into Eastern City of Der...  2018-06-04         16   \n",
       "1  First Saudi Women Receive Driving Licenses Ami...  2018-06-04         35   \n",
       "2  Boulder-Size Asteroid Disintegrated Harmlessly...  2018-06-04         24   \n",
       "3  Image Credit Alessandra Montalto/The New York ...  2018-06-05         58   \n",
       "4  Transcript of ‘Charm City,’ Part 1: Baltimore ...  2018-06-04        541   \n",
       "\n",
       "   reading  length  \n",
       "0     14.8     403  \n",
       "1     15.4     800  \n",
       "2     11.9     418  \n",
       "3     10.7    1078  \n",
       "4      6.5    6620  "
      ]
     },
     "execution_count": 57,
     "metadata": {},
     "output_type": "execute_result"
    }
   ],
   "source": [
    "combine.head()"
   ]
  },
  {
   "cell_type": "code",
   "execution_count": 61,
   "metadata": {
    "collapsed": false,
    "deletable": true,
    "editable": true
   },
   "outputs": [
    {
     "data": {
      "text/plain": [
       "{'Breitbart',\n",
       " 'CNN',\n",
       " 'Fox News',\n",
       " 'Huffington Post',\n",
       " 'NPR',\n",
       " 'New York Times',\n",
       " 'Reuters',\n",
       " 'USA Today',\n",
       " 'Washington Times'}"
      ]
     },
     "execution_count": 61,
     "metadata": {},
     "output_type": "execute_result"
    }
   ],
   "source": [
    "#sources\n",
    "set(combine.source.tolist())"
   ]
  },
  {
   "cell_type": "markdown",
   "metadata": {
    "deletable": true,
    "editable": true
   },
   "source": [
    "## Text Preprocessing on DF"
   ]
  },
  {
   "cell_type": "code",
   "execution_count": 58,
   "metadata": {
    "collapsed": false,
    "deletable": true,
    "editable": true
   },
   "outputs": [],
   "source": [
    "# import key modules\n",
    "import re\n",
    "import string\n",
    "from nltk.corpus import stopwords\n",
    "from nltk.tokenize import RegexpTokenizer"
   ]
  },
  {
   "cell_type": "code",
   "execution_count": 62,
   "metadata": {
    "collapsed": true,
    "deletable": true,
    "editable": true
   },
   "outputs": [],
   "source": [
    "# strip texts of punctuation, boilerplate, and stop words\n",
    "def text_prepare(text):\n",
    "    \"\"\"\n",
    "        text: a string\n",
    "        return: modified initial string\n",
    "    \"\"\"\n",
    "    text = text.lower()\n",
    "    text = text.replace('\\n',' ')\n",
    "    \n",
    "    letters = list(string.ascii_lowercase)\n",
    "    numbers = ['0','1','2','3','4','5','6','7','8','9']\n",
    "    banned = [\"’\",\"’\",\"“\",\"—\",\"”\",\"‘\",\"–\",'#','[','/','(',')','{','}','\\\\','[',']','|','@',',',';','+','-']\n",
    "    banned = ''.join(banned) + string.punctuation + ''.join(numbers)\n",
    "    boilerplate = ['  ','https','http','www', '’s', '―', '/', 'playback', 'image', 'credit', 'transcript', 'get', 'mr', 'mrs', 'ms', 'dr', 'prof', 'news', 'report', 'unsubscribe', 'they', 'must', 'share', 'that', 'view', 'hide', 'copy', 'something', 'enlarge', 'reprint', 'read', '_', 'videos', 'autoplay', 'watched', 'press', '’ve', 'toggle', 'around', 'the', 's.', 'said', 'here©', 'ad', '#', 'andhis', 'click', 'r', 'device', 'contributed', 'advertisement', 'the washington', '&', 'follow', 'copyright', 'mrs.', 'photo', 'to', 'also', 'times', 'for', 'however', 'fox', 'this', 'copyright ©', 'ofs', 'just', 'wait', 'n’t', 'told', 'unsupported', 'i', 'caption', 'ms.', '’m', 'paste', '’re', 'replay', 'photos', 'mr.', '©', 'skip', 'watch', '2018', 'cut', 'llc', 'more', 'post', 'embed', 'blog', 'b.', 'associated', 'permission']\n",
    "    sources = ['breitbart', 'cnn', 'npr', 'huffington', 'post', 'new', 'york', 'times', 'usa', 'today', 'reuters', 'washington', 'associated', 'press']\n",
    "    stop_list = set(stopwords.words('english') + boilerplate + sources + letters)\n",
    "    \n",
    "    translation_table = dict.fromkeys(map(ord, banned), ' ')\n",
    "    text = text.translate(translation_table)\n",
    "    text = re.sub(' +',' ',text)\n",
    "    text = ' '.join([word for word in text.split() if word not in stop_list])\n",
    "    return text"
   ]
  },
  {
   "cell_type": "code",
   "execution_count": 63,
   "metadata": {
    "collapsed": false,
    "deletable": true,
    "editable": true
   },
   "outputs": [
    {
     "data": {
      "text/html": [
       "<div>\n",
       "<style scoped>\n",
       "    .dataframe tbody tr th:only-of-type {\n",
       "        vertical-align: middle;\n",
       "    }\n",
       "\n",
       "    .dataframe tbody tr th {\n",
       "        vertical-align: top;\n",
       "    }\n",
       "\n",
       "    .dataframe thead th {\n",
       "        text-align: right;\n",
       "    }\n",
       "</style>\n",
       "<table border=\"1\" class=\"dataframe\">\n",
       "  <thead>\n",
       "    <tr style=\"text-align: right;\">\n",
       "      <th></th>\n",
       "      <th>bias</th>\n",
       "      <th>source</th>\n",
       "      <th>headline</th>\n",
       "      <th>text</th>\n",
       "      <th>date</th>\n",
       "      <th>sentences</th>\n",
       "      <th>reading</th>\n",
       "      <th>length</th>\n",
       "    </tr>\n",
       "  </thead>\n",
       "  <tbody>\n",
       "    <tr>\n",
       "      <th>0</th>\n",
       "      <td>3</td>\n",
       "      <td>Washington Times</td>\n",
       "      <td>Group sues over county permit for oil refinery...</td>\n",
       "      <td>Print By - Associated Press - Thursday, June 1...</td>\n",
       "      <td>2018-06-15</td>\n",
       "      <td>10</td>\n",
       "      <td>13.2</td>\n",
       "      <td>145</td>\n",
       "    </tr>\n",
       "    <tr>\n",
       "      <th>1</th>\n",
       "      <td>3</td>\n",
       "      <td>Breitbart</td>\n",
       "      <td>Man Claims He Was Asked to Leave Restaurant fo...</td>\n",
       "      <td>Breitbart: Man Claims He Was Asked to Leave Re...</td>\n",
       "      <td>2018-06-10</td>\n",
       "      <td>17</td>\n",
       "      <td>10.8</td>\n",
       "      <td>360</td>\n",
       "    </tr>\n",
       "    <tr>\n",
       "      <th>2</th>\n",
       "      <td>1</td>\n",
       "      <td>New York Times</td>\n",
       "      <td>Will AT&amp;T Be Able to Handle HBO?</td>\n",
       "      <td>Media analysts and tech-industry prognosticato...</td>\n",
       "      <td>2018-06-14</td>\n",
       "      <td>73</td>\n",
       "      <td>10.2</td>\n",
       "      <td>1231</td>\n",
       "    </tr>\n",
       "    <tr>\n",
       "      <th>3</th>\n",
       "      <td>1</td>\n",
       "      <td>New York Times</td>\n",
       "      <td>5 Summer Skiing Getaways in the Southern Hemis...</td>\n",
       "      <td>Summer is a popular time for beach vacations, ...</td>\n",
       "      <td>2018-06-05</td>\n",
       "      <td>27</td>\n",
       "      <td>11.1</td>\n",
       "      <td>513</td>\n",
       "    </tr>\n",
       "    <tr>\n",
       "      <th>4</th>\n",
       "      <td>1</td>\n",
       "      <td>New York Times</td>\n",
       "      <td>Fact Check: Corey Stewart, Republicans and the...</td>\n",
       "      <td>Fact Check: Corey Stewart, Republicans and the...</td>\n",
       "      <td>2018-06-14</td>\n",
       "      <td>80</td>\n",
       "      <td>11.5</td>\n",
       "      <td>1173</td>\n",
       "    </tr>\n",
       "  </tbody>\n",
       "</table>\n",
       "</div>"
      ],
      "text/plain": [
       "   bias            source                                           headline  \\\n",
       "0     3  Washington Times  Group sues over county permit for oil refinery...   \n",
       "1     3         Breitbart  Man Claims He Was Asked to Leave Restaurant fo...   \n",
       "2     1    New York Times                   Will AT&T Be Able to Handle HBO?   \n",
       "3     1    New York Times  5 Summer Skiing Getaways in the Southern Hemis...   \n",
       "4     1    New York Times  Fact Check: Corey Stewart, Republicans and the...   \n",
       "\n",
       "                                                text        date  sentences  \\\n",
       "0  Print By - Associated Press - Thursday, June 1...  2018-06-15         10   \n",
       "1  Breitbart: Man Claims He Was Asked to Leave Re...  2018-06-10         17   \n",
       "2  Media analysts and tech-industry prognosticato...  2018-06-14         73   \n",
       "3  Summer is a popular time for beach vacations, ...  2018-06-05         27   \n",
       "4  Fact Check: Corey Stewart, Republicans and the...  2018-06-14         80   \n",
       "\n",
       "   reading  length  \n",
       "0     13.2     145  \n",
       "1     10.8     360  \n",
       "2     10.2    1231  \n",
       "3     11.1     513  \n",
       "4     11.5    1173  "
      ]
     },
     "execution_count": 63,
     "metadata": {},
     "output_type": "execute_result"
    }
   ],
   "source": [
    "# shuffle df for random sampling\n",
    "new = combine\n",
    "new = new.sample(frac=1).reset_index(drop=True)\n",
    "new.head()"
   ]
  },
  {
   "cell_type": "code",
   "execution_count": 67,
   "metadata": {
    "collapsed": false,
    "deletable": true,
    "editable": true
   },
   "outputs": [
    {
     "data": {
      "text/html": [
       "<div>\n",
       "<style scoped>\n",
       "    .dataframe tbody tr th:only-of-type {\n",
       "        vertical-align: middle;\n",
       "    }\n",
       "\n",
       "    .dataframe tbody tr th {\n",
       "        vertical-align: top;\n",
       "    }\n",
       "\n",
       "    .dataframe thead th {\n",
       "        text-align: right;\n",
       "    }\n",
       "</style>\n",
       "<table border=\"1\" class=\"dataframe\">\n",
       "  <thead>\n",
       "    <tr style=\"text-align: right;\">\n",
       "      <th></th>\n",
       "      <th>bias</th>\n",
       "      <th>source</th>\n",
       "      <th>headline</th>\n",
       "      <th>text</th>\n",
       "      <th>date</th>\n",
       "      <th>sentences</th>\n",
       "      <th>reading</th>\n",
       "      <th>length</th>\n",
       "    </tr>\n",
       "  </thead>\n",
       "  <tbody>\n",
       "    <tr>\n",
       "      <th>0</th>\n",
       "      <td>3</td>\n",
       "      <td>Washington Times</td>\n",
       "      <td>group sues county permit oil refinery near park</td>\n",
       "      <td>print thursday june bismarck ap dakota resourc...</td>\n",
       "      <td>2018-06-15</td>\n",
       "      <td>10</td>\n",
       "      <td>13.2</td>\n",
       "      <td>145</td>\n",
       "    </tr>\n",
       "    <tr>\n",
       "      <th>1</th>\n",
       "      <td>3</td>\n",
       "      <td>Breitbart</td>\n",
       "      <td>man claims asked leave restaurant wearing larg...</td>\n",
       "      <td>man claims asked leave restaurant wearing larg...</td>\n",
       "      <td>2018-06-10</td>\n",
       "      <td>17</td>\n",
       "      <td>10.8</td>\n",
       "      <td>360</td>\n",
       "    </tr>\n",
       "    <tr>\n",
       "      <th>2</th>\n",
       "      <td>1</td>\n",
       "      <td>New York Times</td>\n",
       "      <td>able handle hbo</td>\n",
       "      <td>media analysts tech industry prognosticators l...</td>\n",
       "      <td>2018-06-14</td>\n",
       "      <td>73</td>\n",
       "      <td>10.2</td>\n",
       "      <td>1231</td>\n",
       "    </tr>\n",
       "    <tr>\n",
       "      <th>3</th>\n",
       "      <td>1</td>\n",
       "      <td>New York Times</td>\n",
       "      <td>summer skiing getaways southern hemisphere</td>\n",
       "      <td>summer popular time beach vacations sun water ...</td>\n",
       "      <td>2018-06-05</td>\n",
       "      <td>27</td>\n",
       "      <td>11.1</td>\n",
       "      <td>513</td>\n",
       "    </tr>\n",
       "    <tr>\n",
       "      <th>4</th>\n",
       "      <td>1</td>\n",
       "      <td>New York Times</td>\n",
       "      <td>fact check corey stewart republicans fringe right</td>\n",
       "      <td>fact check corey stewart republicans fringe ri...</td>\n",
       "      <td>2018-06-14</td>\n",
       "      <td>80</td>\n",
       "      <td>11.5</td>\n",
       "      <td>1173</td>\n",
       "    </tr>\n",
       "  </tbody>\n",
       "</table>\n",
       "</div>"
      ],
      "text/plain": [
       "   bias            source                                           headline  \\\n",
       "0     3  Washington Times    group sues county permit oil refinery near park   \n",
       "1     3         Breitbart  man claims asked leave restaurant wearing larg...   \n",
       "2     1    New York Times                                    able handle hbo   \n",
       "3     1    New York Times         summer skiing getaways southern hemisphere   \n",
       "4     1    New York Times  fact check corey stewart republicans fringe right   \n",
       "\n",
       "                                                text        date  sentences  \\\n",
       "0  print thursday june bismarck ap dakota resourc...  2018-06-15         10   \n",
       "1  man claims asked leave restaurant wearing larg...  2018-06-10         17   \n",
       "2  media analysts tech industry prognosticators l...  2018-06-14         73   \n",
       "3  summer popular time beach vacations sun water ...  2018-06-05         27   \n",
       "4  fact check corey stewart republicans fringe ri...  2018-06-14         80   \n",
       "\n",
       "   reading  length  \n",
       "0     13.2     145  \n",
       "1     10.8     360  \n",
       "2     10.2    1231  \n",
       "3     11.1     513  \n",
       "4     11.5    1173  "
      ]
     },
     "execution_count": 67,
     "metadata": {},
     "output_type": "execute_result"
    }
   ],
   "source": [
    "# rewrite df with cleaned text\n",
    "for i in range(0, len(new)):\n",
    "  new.at[i,'text'] = text_prepare(new.at[i,'text'])\n",
    "  new.at[i,'headline'] = text_prepare(str(new.at[i,'headline']))\n",
    "  \n",
    "new.head()"
   ]
  },
  {
   "cell_type": "code",
   "execution_count": 68,
   "metadata": {
    "collapsed": true,
    "deletable": true,
    "editable": true
   },
   "outputs": [],
   "source": [
    "# save cleaned file to csv\n",
    "new.to_csv('webhose-corpus-df-clean.csv', sep='\\t', encoding='utf-8')"
   ]
  },
  {
   "cell_type": "markdown",
   "metadata": {
    "deletable": true,
    "editable": true
   },
   "source": [
    "## Separate Clean for ShortText"
   ]
  },
  {
   "cell_type": "markdown",
   "metadata": {
    "deletable": true,
    "editable": true
   },
   "source": [
    "### Load Text"
   ]
  },
  {
   "cell_type": "code",
   "execution_count": 80,
   "metadata": {
    "collapsed": true,
    "deletable": true,
    "editable": true
   },
   "outputs": [],
   "source": [
    "# import pandas\n",
    "import pandas as pd\n",
    "\n",
    "# define csv read\n",
    "def read_data(filename):\n",
    "    # read in csv\n",
    "    df = pd.read_csv(filename, sep='\\t', encoding='utf-8')\n",
    "\n",
    "    #limit df content to bias, text, headline, and source\n",
    "    df = df.loc[:, ['bias', 'text']]    \n",
    "    \n",
    "    return df"
   ]
  },
  {
   "cell_type": "code",
   "execution_count": 81,
   "metadata": {
    "collapsed": false,
    "deletable": true,
    "editable": true
   },
   "outputs": [
    {
     "data": {
      "text/html": [
       "<div>\n",
       "<style scoped>\n",
       "    .dataframe tbody tr th:only-of-type {\n",
       "        vertical-align: middle;\n",
       "    }\n",
       "\n",
       "    .dataframe tbody tr th {\n",
       "        vertical-align: top;\n",
       "    }\n",
       "\n",
       "    .dataframe thead th {\n",
       "        text-align: right;\n",
       "    }\n",
       "</style>\n",
       "<table border=\"1\" class=\"dataframe\">\n",
       "  <thead>\n",
       "    <tr style=\"text-align: right;\">\n",
       "      <th></th>\n",
       "      <th>bias</th>\n",
       "      <th>text</th>\n",
       "    </tr>\n",
       "  </thead>\n",
       "  <tbody>\n",
       "    <tr>\n",
       "      <th>0</th>\n",
       "      <td>Left</td>\n",
       "      <td>Libyan Forces Advance Into Eastern City of Der...</td>\n",
       "    </tr>\n",
       "    <tr>\n",
       "      <th>1</th>\n",
       "      <td>Left</td>\n",
       "      <td>First Saudi Women Receive Driving Licenses Ami...</td>\n",
       "    </tr>\n",
       "    <tr>\n",
       "      <th>2</th>\n",
       "      <td>Left</td>\n",
       "      <td>Boulder-Size Asteroid Disintegrated Harmlessly...</td>\n",
       "    </tr>\n",
       "    <tr>\n",
       "      <th>3</th>\n",
       "      <td>Left</td>\n",
       "      <td>Image Credit Alessandra Montalto/The New York ...</td>\n",
       "    </tr>\n",
       "    <tr>\n",
       "      <th>4</th>\n",
       "      <td>Left</td>\n",
       "      <td>Transcript of ‘Charm City,’ Part 1: Baltimore ...</td>\n",
       "    </tr>\n",
       "  </tbody>\n",
       "</table>\n",
       "</div>"
      ],
      "text/plain": [
       "   bias                                               text\n",
       "0  Left  Libyan Forces Advance Into Eastern City of Der...\n",
       "1  Left  First Saudi Women Receive Driving Licenses Ami...\n",
       "2  Left  Boulder-Size Asteroid Disintegrated Harmlessly...\n",
       "3  Left  Image Credit Alessandra Montalto/The New York ...\n",
       "4  Left  Transcript of ‘Charm City,’ Part 1: Baltimore ..."
      ]
     },
     "execution_count": 81,
     "metadata": {},
     "output_type": "execute_result"
    }
   ],
   "source": [
    "newer = read_data('webhose_crawl_2018-07-04B.csv')\n",
    "newer.head()"
   ]
  },
  {
   "cell_type": "markdown",
   "metadata": {
    "deletable": true,
    "editable": true
   },
   "source": [
    "### Text Processing"
   ]
  },
  {
   "cell_type": "code",
   "execution_count": 82,
   "metadata": {
    "collapsed": true,
    "deletable": true,
    "editable": true
   },
   "outputs": [],
   "source": [
    "# strip texts of punctuation, boilerplate, and stop words\n",
    "def text_prepare_var(text):\n",
    "    \"\"\"\n",
    "        text: a string\n",
    "        return: modified initial string\n",
    "    \"\"\"\n",
    "    text = text.replace('\\n',' ')\n",
    "    \n",
    "    letters = list(string.ascii_lowercase)\n",
    "    numbers = ['0','1','2','3','4','5','6','7','8','9']\n",
    "    banned = [\"’\",\"’\",\"“\",\"—\",\"”\",\"‘\",\"–\",'#','[','/','(',')','{','}','\\\\','[',']','|','@',',',';','+','-']\n",
    "    banned = ''.join(banned) + ''.join(numbers)\n",
    "    boilerplate = ['  ','https','http','www', '’s', '―', '/', 'playback', 'image', 'credit', 'transcript', 'get', 'by', 'mr', 'mrs', 'ms', 'dr', 'prof', 'news', 'report', 'unsubscribe', 'they', 'must', 'share', 'that', 'view', 'hide', 'copy', 'reporting', 'writing', 'editing', 'advertisement', 'something', 'enlarge', 'reprint', 'read', '_', 'videos', 'autoplay', 'watched', 'press', '’ve', 'toggle', 'around', 'the', 's.', 'said', 'here©', 'ad', '#', 'andhis', 'click', 'r', 'device', 'contributed', 'advertisement', 'the washington', '&', 'follow', 'copyright', 'mrs.', 'photo', 'to', 'also', 'times', 'for', 'however', 'fox', 'this', 'copyright ©', 'ofs', 'just', 'wait', 'n’t', 'told', 'unsupported', 'i', 'caption', 'ms.', '’m', 'paste', '’re', 'replay', 'photos', 'mr.', '©', 'skip', 'watch', '2018', 'cut', 'llc', 'more', 'post', 'embed', 'blog', 'b.', 'associated', 'permission']\n",
    "    sources = ['Breitbart', 'CNN', 'NPR', 'Huffington', 'Post', 'New', 'York', 'Times', 'USA', 'Today', 'Reuters', 'Washington', 'Associated', 'Press']\n",
    "    stop_list = set(stopwords.words('english') + boilerplate + sources + letters)\n",
    "    \n",
    "    translation_table = dict.fromkeys(map(ord, banned), ' ')\n",
    "    text = text.translate(translation_table)\n",
    "    text = re.sub(' +',' ',text)\n",
    "    text = ' '.join([word for word in text.split() if word not in stop_list])\n",
    "    text = text.split('.')\n",
    "    return text"
   ]
  },
  {
   "cell_type": "code",
   "execution_count": 83,
   "metadata": {
    "collapsed": false,
    "deletable": true,
    "editable": true
   },
   "outputs": [
    {
     "data": {
      "text/html": [
       "<div>\n",
       "<style scoped>\n",
       "    .dataframe tbody tr th:only-of-type {\n",
       "        vertical-align: middle;\n",
       "    }\n",
       "\n",
       "    .dataframe tbody tr th {\n",
       "        vertical-align: top;\n",
       "    }\n",
       "\n",
       "    .dataframe thead th {\n",
       "        text-align: right;\n",
       "    }\n",
       "</style>\n",
       "<table border=\"1\" class=\"dataframe\">\n",
       "  <thead>\n",
       "    <tr style=\"text-align: right;\">\n",
       "      <th></th>\n",
       "      <th>bias</th>\n",
       "      <th>text</th>\n",
       "    </tr>\n",
       "  </thead>\n",
       "  <tbody>\n",
       "    <tr>\n",
       "      <th>0</th>\n",
       "      <td>Left</td>\n",
       "      <td>[Libyan Forces Advance Into Eastern City Derna...</td>\n",
       "    </tr>\n",
       "    <tr>\n",
       "      <th>1</th>\n",
       "      <td>Left</td>\n",
       "      <td>[First Saudi Women Receive Driving Licenses Am...</td>\n",
       "    </tr>\n",
       "    <tr>\n",
       "      <th>2</th>\n",
       "      <td>Left</td>\n",
       "      <td>[Boulder Size Asteroid Disintegrated Harmlessl...</td>\n",
       "    </tr>\n",
       "    <tr>\n",
       "      <th>3</th>\n",
       "      <td>Left</td>\n",
       "      <td>[Image Credit Alessandra Montalto The A modest...</td>\n",
       "    </tr>\n",
       "    <tr>\n",
       "      <th>4</th>\n",
       "      <td>Left</td>\n",
       "      <td>[Transcript Charm City Part : Baltimore After ...</td>\n",
       "    </tr>\n",
       "  </tbody>\n",
       "</table>\n",
       "</div>"
      ],
      "text/plain": [
       "   bias                                               text\n",
       "0  Left  [Libyan Forces Advance Into Eastern City Derna...\n",
       "1  Left  [First Saudi Women Receive Driving Licenses Am...\n",
       "2  Left  [Boulder Size Asteroid Disintegrated Harmlessl...\n",
       "3  Left  [Image Credit Alessandra Montalto The A modest...\n",
       "4  Left  [Transcript Charm City Part : Baltimore After ..."
      ]
     },
     "execution_count": 83,
     "metadata": {},
     "output_type": "execute_result"
    }
   ],
   "source": [
    "# rewrite df with cleaned text\n",
    "for i in range(0, len(newer)):\n",
    "  newer.at[i,'text'] = text_prepare_var(newer.at[i,'text'])\n",
    "  \n",
    "newer.head()"
   ]
  },
  {
   "cell_type": "code",
   "execution_count": 84,
   "metadata": {
    "collapsed": false,
    "deletable": true,
    "editable": true
   },
   "outputs": [
    {
     "data": {
      "text/plain": [
       "['Libyan Forces Advance Into Eastern City Derna By June BENGHAZI Libya Libyan forces advanced several neighborhoods Derna Monday stepping military campaign oust rivals eastern city spokesman residents said',\n",
       " ' The advance followed heavy shelling air strikes recent weeks Libyan National Army LNA eastern based force loyal Khalifa Haftar launched ground campaign Derna',\n",
       " ' The LNA long encircled city last eastern Libya elude control',\n",
       " ' It held Derna Protection Forces formerly known Derna Mujahideen Shura Council coalition Islamists anti Haftar combatants',\n",
       " \" Early Monday LNA forces entered Derna eastern western coastal roads took control Shiha Bab Tobruk districts advancing within one kilometer port one operation's commanders Salem al Rafadi Reuters\",\n",
       " ' Photos shared resident appeared show soldiers military vehicles advancing along largely deserted streets',\n",
       " ' Haftar says men fighting rid Derna city km miles border Egypt \"terrorists\"',\n",
       " ' Opponents accuse subjecting city urban warfare expand power destroying parts Benghazi similar campaign',\n",
       " ' In speech broadcast LNA\\'s social media pages Monday Haftar announced \"second phase liberation Derna\"',\n",
       " ' \"In good honorable Libyans hour victory approaching announcement city Derna rid terrorism secure ease protection armed forces security units \" Haftar said',\n",
       " ' The fighting Derna escalated last week encroached densely populated areas since May least civilians including two children killed',\n",
       " ' Among seven people died explosion tried leave Derna May U',\n",
       " 'N',\n",
       " ' Friday',\n",
       " ' The LNA opposes internationally recognized government Tripoli linked instead government parliament based east',\n",
       " \" Its surge Derna overshadowed high level talks Paris last week tried chart way Libya's turmoil set goal holding elections December\",\n",
       " ' Additional Ali Abdelaty Cairo Aidan Lewis Larry King Advertisement']"
      ]
     },
     "execution_count": 84,
     "metadata": {},
     "output_type": "execute_result"
    }
   ],
   "source": [
    "#assess results\n",
    "newer['text'][0]"
   ]
  },
  {
   "cell_type": "code",
   "execution_count": 86,
   "metadata": {
    "collapsed": true,
    "deletable": true,
    "editable": true
   },
   "outputs": [],
   "source": [
    "# save cleaned file to csv\n",
    "newer.to_csv('webhose-shortText.csv', sep='\\t', encoding='utf-8')"
   ]
  }
 ],
 "metadata": {
  "kernelspec": {
   "display_name": "Python 3",
   "language": "python",
   "name": "python3"
  },
  "language_info": {
   "codemirror_mode": {
    "name": "ipython",
    "version": 3
   },
   "file_extension": ".py",
   "mimetype": "text/x-python",
   "name": "python",
   "nbconvert_exporter": "python",
   "pygments_lexer": "ipython3",
   "version": "3.5.5"
  }
 },
 "nbformat": 4,
 "nbformat_minor": 2
}
