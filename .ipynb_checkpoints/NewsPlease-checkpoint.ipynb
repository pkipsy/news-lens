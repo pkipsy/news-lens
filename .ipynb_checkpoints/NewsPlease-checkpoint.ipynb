{
 "cells": [
  {
   "cell_type": "markdown",
   "metadata": {},
   "source": [
    "# NewsPlease Article Extraction\n",
    "\n",
    "Using the articles harvested from All Sides, extract their information with NewsPlease."
   ]
  },
  {
   "cell_type": "code",
   "execution_count": 120,
   "metadata": {},
   "outputs": [],
   "source": [
    "# import modules\n",
    "import pickle\n",
    "from newsplease import NewsPlease\n",
    "import csv"
   ]
  },
  {
   "cell_type": "code",
   "execution_count": 48,
   "metadata": {},
   "outputs": [],
   "source": [
    "# load news links harvested from All Sides spider\n",
    "with open('link_file.txt') as f:\n",
    "    news_links = [line.replace(\"\\n\", \"\") for line in f]"
   ]
  },
  {
   "cell_type": "code",
   "execution_count": 49,
   "metadata": {},
   "outputs": [],
   "source": [
    "# segment list of news links into batches of n=15\n",
    "from itertools import accumulate, chain, repeat, tee\n",
    "\n",
    "# divide links into batches of n=15\n",
    "def chunk(xs, n):\n",
    "    assert n > 0\n",
    "    L = len(xs)\n",
    "    s, r = divmod(L, n)\n",
    "    widths = chain(repeat(s+1, r), repeat(s, n-r))\n",
    "    offsets = accumulate(chain((0,), widths))\n",
    "    b, e = tee(offsets)\n",
    "    next(e)\n",
    "    return [xs[s] for s in map(slice, b, e)]\n",
    "\n",
    "batch = chunk(news_links,221)"
   ]
  },
  {
   "cell_type": "code",
   "execution_count": null,
   "metadata": {},
   "outputs": [],
   "source": [
    "'''\n",
    "extract article information from NewsPlease in batches\n",
    "time intensive run!\n",
    "to catch multiple different error types, this was run manually\n",
    "'''\n",
    "#n=0\n",
    "#for i in range(0,len(batch)):\n",
    "    #slice = batch[i]\n",
    "    #slice_name = str(i) + \"-NewsPlease-articleCrawl.p\"\n",
    "    #article_information = NewsPlease.from_urls(slice)\n",
    "    #pickle.dump(article_information, open( slice_name, \"wb\" ) )\n",
    "    #print(slice)\n",
    "    #print(n)\n",
    "    #n+=1"
   ]
  },
  {
   "cell_type": "code",
   "execution_count": 106,
   "metadata": {},
   "outputs": [],
   "source": [
    "# helper function\n",
    "def make_unique(url_list):\n",
    "   # Not order preserving    \n",
    "   unique = set(url_list)\n",
    "   return list(unique)\n",
    "\n",
    "def check_data():\n",
    "    scraped = []\n",
    "    not_scraped = []\n",
    "    for i in range(0,221):\n",
    "        file_path = \"/Users/meldye/Documents/Insight/news-lens/crawl/\"\n",
    "        open_crawl = pickle.load( open( file_path + str(i) \n",
    "                                       + \"-NewsPlease-articleCrawl.p\", \"rb\" ) )\n",
    "        for url in open_crawl:\n",
    "            text = open_crawl[url].text\n",
    "            if text == None:\n",
    "                not_scraped.append(url)\n",
    "            else:\n",
    "                scraped.append(url)\n",
    "    scraped = make_unique(scraped)\n",
    "    return scraped, not_scraped\n",
    "            \n",
    "success, fail = check_data()"
   ]
  },
  {
   "cell_type": "code",
   "execution_count": 107,
   "metadata": {},
   "outputs": [
    {
     "name": "stdout",
     "output_type": "stream",
     "text": [
      "The extraction process yielded 3216 articles, or 97.01% of the total.\n"
     ]
    }
   ],
   "source": [
    "# analyze data collection success\n",
    "def percentage(part, whole):\n",
    "    percent = 100 * float(part)/float(whole)\n",
    "    format = \"{0:.2f}\".format(percent)\n",
    "    return format+'%'\n",
    "\n",
    "print(\"The extraction process yielded \" \n",
    "      + str(len(success)) + \" articles, or \"\n",
    "      + percentage(len(success),len(news_links)) \n",
    "      + \" of the total.\")"
   ]
  },
  {
   "cell_type": "code",
   "execution_count": 109,
   "metadata": {},
   "outputs": [],
   "source": [
    "# harvest data from crawl\n",
    "\n",
    "def get_data():\n",
    "    news_dict = {}\n",
    "    \n",
    "    remove_list = ['www.', '.com', '.gov', '.org','beta.', '.eu', \n",
    "               '.co.uk', 'europe.', 'gma.', 'blogs.', 'in.', 'm.', \n",
    "               'eclipse2017.', 'money.', 'insider.', 'news.', 'finance.', \n",
    "               'www1.']\n",
    "    \n",
    "    for i in range(0,221):\n",
    "        file_path = \"/Users/meldye/Documents/Insight/news-lens/crawl/\"\n",
    "        open_crawl = pickle.load( open( file_path + str(i) \n",
    "                                       + \"-NewsPlease-articleCrawl.p\", \"rb\" ) )\n",
    "        for url in open_crawl:\n",
    "            text = open_crawl[url].text\n",
    "            if text != None:\n",
    "                \n",
    "                title = open_crawl[url].title\n",
    "                \n",
    "                source = open_crawl[url].source_domain\n",
    "                for seq in remove_list:\n",
    "                    if seq in source:\n",
    "                        source=source.replace(seq,\"\")\n",
    "                \n",
    "                date = open_crawl[url].date_publish\n",
    "                \n",
    "                news_dict[url] = [source, title, date, text]\n",
    "                \n",
    "    return news_dict\n",
    "\n",
    "all_news = get_data()"
   ]
  },
  {
   "cell_type": "code",
   "execution_count": 164,
   "metadata": {},
   "outputs": [],
   "source": [
    "# gather information about the distribution of sources across the articles\n",
    "def get_sources(all_news):\n",
    "    news_sources = {}\n",
    "    for article in all_news:\n",
    "        source = all_news[article][0]\n",
    "        if source not in news_sources:\n",
    "            news_sources[source] = 1\n",
    "        else:\n",
    "            news_sources[source] += 1\n",
    "    return news_sources\n",
    "\n",
    "check_sources = get_sources(all_news)"
   ]
  },
  {
   "cell_type": "code",
   "execution_count": 167,
   "metadata": {},
   "outputs": [],
   "source": [
    "# partially manually cleaned list\n",
    "check_sources = {'CNN (Web News)': 205, 'USA Today': 136, 'Reuters': 99, 'The Wall Street Journal': 129, 'Vox': 85, 'Free Beacon': 5, 'Washington Times': 181, 'ABC News': 20, 'The Hill': 192, 'The New York Times': 215, 'The Washington Post': 257, 'The Washington Examiner': 93, 'Fox News': 345, 'Buzz Feed': 6, 'HuffPost': 151, 'The Los Angeles Times': 27, 'CBN': 48, 'National Review': 36, 'The Atlantic': 14, 'NPR': 76, 'The Boston Globe': 3, 'News Max': 46, 'AP': 5, 'Business insider': 11, 'reason': 23, 'time magazine': 10, 'bloomberg': 27, 'daily caller': 28, 'town hall': 105, 'politico': 92, 'daily kos': 35, 'cnet': 1, 'newsweek': 17, 'bbc': 69, 'bustle': 6, 'breitbart': 59, 'NBCNews.com': 34, 'CBS News': 25, 'daily mail': 5, 'the daily beast': 25, 'The Daily Wire': 3, 'slate': 11, 'boston herald': 1, 'axios': 3, 'yahoo': 5, 'new york daily news': 6, 'economist': 1, 'mediaite': 3, 'The Heritage Foundation': 1, 'the guardian': 55, 'new york magazine': 6, 'chicago tribune': 13, 'commentary magazine': 1, 'vice': 1, 'new yorker': 1, 'CNBC': 4, 'the blaze': 18, 'korea herald': 1, 'vanity fair': 8, 'the week': 13, 'american thinker': 1, 'PBS NewsHour': 2, 'think progress': 5, 'real clear politics': 5, 'SFGate': 2, 'mashable': 2, 'the verge': 1, 'salon': 20, 'daily press': 1, 'all sides': 5, 'mismatch': 1, 'living room conversations': 1, 'spectator': 14, 'WND.com': 1, 'redstate': 1, 'fox business': 4, 'democracy now': 5, 'Christian Science Monitor': 18, 'Pacific Standard': 1, 'scientific american': 1, 'MSNBC': 2, 'whitehouse': 1, 'forbes': 1, 'politics.blog.ajc': 1, 'the federalist': 2, 'life hacker': 1, 'hot air': 4, 'the intercept': 2, 'conservative hq': 1, 'fact check': 2, 'telegraph': 1}"
   ]
  },
  {
   "cell_type": "code",
   "execution_count": 171,
   "metadata": {},
   "outputs": [],
   "source": [
    "# load media bias ratings file\n",
    "bias_ratings = '/Users/meldye/Documents/Insight/news-lens/allsides-media-bias-ratings.csv'\n",
    "\n",
    "bias_dict = {}\n",
    "with open(bias_ratings, mode='r') as infile:\n",
    "    reader = csv.reader(infile)\n",
    "    bias_dict = {rows[0]:rows[1] for rows in reader}"
   ]
  },
  {
   "cell_type": "code",
   "execution_count": 169,
   "metadata": {},
   "outputs": [],
   "source": [
    "# assess string similarity\n",
    "import difflib\n",
    "def string_sim(a,b):\n",
    "    seq = difflib.SequenceMatcher(None, a,b)\n",
    "    sim = seq.ratio()*100\n",
    "    return sim"
   ]
  },
  {
   "cell_type": "code",
   "execution_count": 191,
   "metadata": {},
   "outputs": [],
   "source": [
    "# replace scraped names with All Media labels and bias information\n",
    "def replace_names(check_sources, bias_dict):\n",
    "    real_source = {}\n",
    "    for entry in check_sources:\n",
    "        for source in bias_dict:\n",
    "            \n",
    "            sim = string_sim(entry, source)\n",
    "            count = check_sources[entry]\n",
    "            \n",
    "            if entry not in real_source:\n",
    "                real_source[entry] = [source, sim, count]\n",
    "            else:\n",
    "                if sim > real_source[entry][1]:\n",
    "                    real_source[entry] = [source, sim, count]\n",
    "                    \n",
    "    raw_data = {'News_Source':[],'Bias':[], 'Article_Count':[]}\n",
    "    \n",
    "    for key in real_source:\n",
    "        new_key = real_source[key][0]\n",
    "        new_count = real_source[key][2]\n",
    "        \n",
    "        bias = bias_dict[new_key]\n",
    "        \n",
    "        raw_data['News_Source'].append(new_key)\n",
    "        raw_data['Article_Count'].append(new_count)\n",
    "        raw_data['Bias'].append(bias)\n",
    "        \n",
    "    for bias_rating in raw_data['Bias']:\n",
    "        if bias_rating == 'Mixed':\n",
    "            bias_rating = bias_rating.replace('Mixed','Center')\n",
    "    \n",
    "    source_bias = pd.DataFrame(raw_data, columns = ['News_Source', 'Bias', 'Article_Count']) \n",
    "\n",
    "    return source_bias\n",
    "          \n",
    "updated_info = replace_names(check_sources, bias_dict)\n",
    "\n",
    "# write to csv\n",
    "updated_info.to_csv('news-corpus-info.csv')"
   ]
  },
  {
   "cell_type": "code",
   "execution_count": 203,
   "metadata": {},
   "outputs": [
    {
     "data": {
      "text/html": [
       "<div>\n",
       "<style scoped>\n",
       "    .dataframe tbody tr th:only-of-type {\n",
       "        vertical-align: middle;\n",
       "    }\n",
       "\n",
       "    .dataframe tbody tr th {\n",
       "        vertical-align: top;\n",
       "    }\n",
       "\n",
       "    .dataframe thead th {\n",
       "        text-align: right;\n",
       "    }\n",
       "</style>\n",
       "<table border=\"1\" class=\"dataframe\">\n",
       "  <thead>\n",
       "    <tr style=\"text-align: right;\">\n",
       "      <th></th>\n",
       "      <th>News_Source</th>\n",
       "      <th>Bias</th>\n",
       "      <th>Article_Count</th>\n",
       "    </tr>\n",
       "  </thead>\n",
       "  <tbody>\n",
       "    <tr>\n",
       "      <th>0</th>\n",
       "      <td>CNN (Web News)</td>\n",
       "      <td>Lean Left</td>\n",
       "      <td>205</td>\n",
       "    </tr>\n",
       "    <tr>\n",
       "      <th>1</th>\n",
       "      <td>USA TODAY</td>\n",
       "      <td>Center</td>\n",
       "      <td>136</td>\n",
       "    </tr>\n",
       "    <tr>\n",
       "      <th>2</th>\n",
       "      <td>Reuters</td>\n",
       "      <td>Center</td>\n",
       "      <td>99</td>\n",
       "    </tr>\n",
       "    <tr>\n",
       "      <th>3</th>\n",
       "      <td>Wall Street Journal- News</td>\n",
       "      <td>Center</td>\n",
       "      <td>129</td>\n",
       "    </tr>\n",
       "    <tr>\n",
       "      <th>4</th>\n",
       "      <td>Vox</td>\n",
       "      <td>Lean Left</td>\n",
       "      <td>85</td>\n",
       "    </tr>\n",
       "  </tbody>\n",
       "</table>\n",
       "</div>"
      ],
      "text/plain": [
       "                 News_Source       Bias  Article_Count\n",
       "0             CNN (Web News)  Lean Left            205\n",
       "1                  USA TODAY     Center            136\n",
       "2                    Reuters     Center             99\n",
       "3  Wall Street Journal- News     Center            129\n",
       "4                        Vox  Lean Left             85"
      ]
     },
     "execution_count": 203,
     "metadata": {},
     "output_type": "execute_result"
    }
   ],
   "source": [
    "updated_info.head()"
   ]
  },
  {
   "cell_type": "code",
   "execution_count": 221,
   "metadata": {},
   "outputs": [],
   "source": [
    "article_length = []\n",
    "for link in success:\n",
    "    article_length.append(len(all_news[link][3]))"
   ]
  },
  {
   "cell_type": "code",
   "execution_count": 220,
   "metadata": {},
   "outputs": [],
   "source": [
    "#all_news['https://www.cnn.com/2018/06/13/politics/six-things-primary-night-tuesday/index.html'][3]"
   ]
  },
  {
   "cell_type": "code",
   "execution_count": 222,
   "metadata": {},
   "outputs": [
    {
     "name": "stderr",
     "output_type": "stream",
     "text": [
      "/Users/meldye/anaconda/envs/newscrawl/lib/python3.6/site-packages/matplotlib/axes/_axes.py:6462: UserWarning:\n",
      "\n",
      "The 'normed' kwarg is deprecated, and has been replaced by the 'density' kwarg.\n",
      "\n"
     ]
    },
    {
     "data": {
      "image/png": "[encoded data removed]",
      "text/plain": [
       "<Figure size 432x288 with 1 Axes>"
      ]
     },
     "metadata": {},
     "output_type": "display_data"
    }
   ],
   "source": [
    "import seaborn as sns\n",
    "sns.distplot(article_length, hist=True, rug=False);"
   ]
  },
  {
   "cell_type": "markdown",
   "metadata": {},
   "source": [
    "'''\n",
    "queryable terms\n",
    ".authors\n",
    ".date_download\n",
    ".date_modify\n",
    ".date_publish\n",
    ".description\n",
    ".filename\n",
    ".image_url\n",
    ".language\n",
    ".localpath\n",
    ".source_domain\n",
    ".text\n",
    ".title\n",
    ".title_page\n",
    ".title_rss\n",
    ".url\n",
    "'''\n",
    "\n",
    "\n",
    "\n"
   ]
  }
 ],
 "metadata": {
  "kernelspec": {
   "display_name": "Python 3",
   "language": "python",
   "name": "python3"
  },
  "language_info": {
   "codemirror_mode": {
    "name": "ipython",
    "version": 3
   },
   "file_extension": ".py",
   "mimetype": "text/x-python",
   "name": "python",
   "nbconvert_exporter": "python",
   "pygments_lexer": "ipython3",
   "version": "3.6.5"
  }
 },
 "nbformat": 4,
 "nbformat_minor": 2
}
