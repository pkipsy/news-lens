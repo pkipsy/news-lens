{
 "cells": [
  {
   "cell_type": "markdown",
   "metadata": {},
   "source": [
    "# Analyze Sentiments of Political Texts"
   ]
  },
  {
   "cell_type": "markdown",
   "metadata": {},
   "source": [
    "This notebook makes use of [Google Cloud Natural Language API](https://cloud.google.com/natural-language/) for automatic sentiment analysis."
   ]
  },
  {
   "cell_type": "markdown",
   "metadata": {},
   "source": [
    "### Load DF to analyze"
   ]
  },
  {
   "cell_type": "code",
   "execution_count": 1,
   "metadata": {},
   "outputs": [],
   "source": [
    "!export API_KEY=KEY_SECRET"
   ]
  },
  {
   "cell_type": "code",
   "execution_count": 56,
   "metadata": {
    "collapsed": true
   },
   "outputs": [],
   "source": [
    "# import pandas\n",
    "import pandas as pd\n",
    "\n",
    "# read in file function\n",
    "def read_data(filename):\n",
    "    # read in csv\n",
    "    df = pd.read_csv('news-corpus-df.csv')\n",
    "    \n",
    "    # drop texts under 500 words\n",
    "    df = df.drop(df[df.text_len < 500].index)\n",
    "    \n",
    "    #limit df content to bias, text, headline, and source\n",
    "    df = df.loc[:, ['bias', 'text', 'headline', 'source']]\n",
    "    \n",
    "    #convert bias label to numbers\n",
    "    df['bias'] = df['bias'].replace({'Left ': 1, 'Center ': 2, 'Right ': 3})\n",
    "    \n",
    "    # classify without center biased news\n",
    "    # new = new[new.bias != '2']\n",
    "    \n",
    "    return df"
   ]
  },
  {
   "cell_type": "code",
   "execution_count": 57,
   "metadata": {},
   "outputs": [
    {
     "data": {
      "text/html": [
       "<div>\n",
       "<style scoped>\n",
       "    .dataframe tbody tr th:only-of-type {\n",
       "        vertical-align: middle;\n",
       "    }\n",
       "\n",
       "    .dataframe tbody tr th {\n",
       "        vertical-align: top;\n",
       "    }\n",
       "\n",
       "    .dataframe thead th {\n",
       "        text-align: right;\n",
       "    }\n",
       "</style>\n",
       "<table border=\"1\" class=\"dataframe\">\n",
       "  <thead>\n",
       "    <tr style=\"text-align: right;\">\n",
       "      <th></th>\n",
       "      <th>bias</th>\n",
       "      <th>text</th>\n",
       "      <th>headline</th>\n",
       "      <th>source</th>\n",
       "    </tr>\n",
       "  </thead>\n",
       "  <tbody>\n",
       "    <tr>\n",
       "      <th>0</th>\n",
       "      <td>1</td>\n",
       "      <td>Jared Bernstein, a former chief economist to V...</td>\n",
       "      <td>b'How trend-riding Trump is taking credit for ...</td>\n",
       "      <td>Washington Post</td>\n",
       "    </tr>\n",
       "    <tr>\n",
       "      <th>1</th>\n",
       "      <td>3</td>\n",
       "      <td>Liberals have opposed virtually every move Pre...</td>\n",
       "      <td>b'It\\xe2\\x80\\x99s Trump\\xe2\\x80\\x99s Economy Now'</td>\n",
       "      <td>Wall Street Journal- Editorial</td>\n",
       "    </tr>\n",
       "    <tr>\n",
       "      <th>2</th>\n",
       "      <td>2</td>\n",
       "      <td>CLOSE President Trump’s once bitter political ...</td>\n",
       "      <td>b'The Bubble: By undoing Obama accomplishments...</td>\n",
       "      <td>USA TODAY</td>\n",
       "    </tr>\n",
       "    <tr>\n",
       "      <th>3</th>\n",
       "      <td>2</td>\n",
       "      <td>The attorneys for Michael Cohen, President Don...</td>\n",
       "      <td>b'Trump Lawyer Michael Cohen\\xe2\\x80\\x99s Atto...</td>\n",
       "      <td>Wall Street Journal- News</td>\n",
       "    </tr>\n",
       "    <tr>\n",
       "      <th>4</th>\n",
       "      <td>1</td>\n",
       "      <td>Longtime Trump lawyer Michael Cohen is changin...</td>\n",
       "      <td>b'Reports suggest Michael Cohen is thinking of...</td>\n",
       "      <td>Vox</td>\n",
       "    </tr>\n",
       "  </tbody>\n",
       "</table>\n",
       "</div>"
      ],
      "text/plain": [
       "   bias                                               text  \\\n",
       "0     1  Jared Bernstein, a former chief economist to V...   \n",
       "1     3  Liberals have opposed virtually every move Pre...   \n",
       "2     2  CLOSE President Trump’s once bitter political ...   \n",
       "3     2  The attorneys for Michael Cohen, President Don...   \n",
       "4     1  Longtime Trump lawyer Michael Cohen is changin...   \n",
       "\n",
       "                                            headline  \\\n",
       "0  b'How trend-riding Trump is taking credit for ...   \n",
       "1  b'It\\xe2\\x80\\x99s Trump\\xe2\\x80\\x99s Economy Now'   \n",
       "2  b'The Bubble: By undoing Obama accomplishments...   \n",
       "3  b'Trump Lawyer Michael Cohen\\xe2\\x80\\x99s Atto...   \n",
       "4  b'Reports suggest Michael Cohen is thinking of...   \n",
       "\n",
       "                           source  \n",
       "0                 Washington Post  \n",
       "1  Wall Street Journal- Editorial  \n",
       "2                       USA TODAY  \n",
       "3       Wall Street Journal- News  \n",
       "4                             Vox  "
      ]
     },
     "execution_count": 57,
     "metadata": {},
     "output_type": "execute_result"
    }
   ],
   "source": [
    "# read in file and preview\n",
    "new = read_data('news-corpus-df.csv')\n",
    "new.head()"
   ]
  },
  {
   "cell_type": "markdown",
   "metadata": {},
   "source": [
    "## Get Sentiment of Loaded Documents"
   ]
  },
  {
   "cell_type": "code",
   "execution_count": 5,
   "metadata": {},
   "outputs": [],
   "source": [
    "# Import the google cloud client library\n",
    "from google.cloud import language\n",
    "from google.cloud.language import enums\n",
    "from google.cloud.language import types\n",
    "\n",
    "# Instantiate a client\n",
    "client = language.LanguageServiceClient()\n",
    "\n",
    "# Import time to impose rate limits\n",
    "import time"
   ]
  },
  {
   "cell_type": "code",
   "execution_count": null,
   "metadata": {
    "collapsed": true
   },
   "outputs": [],
   "source": [
    "# Gather sentiment score and magnitude data for each document\n",
    "sentiment_list = []\n",
    "magnitude_list = []\n",
    "\n",
    "for i in range (0,len(new['text'].values)):\n",
    "  # specify document type\n",
    "  document = types.Document(content=new['text'].values[i], type=enums.Document.Type.PLAIN_TEXT)\n",
    "  \n",
    "  # detects the sentiment of the text\n",
    "  sentiment = client.analyze_sentiment(document=document).document_sentiment\n",
    "  sentiment_list.append(sentiment.score)\n",
    "  magnitude_list.append(sentiment.magnitude)\n",
    "  \n",
    "  # wait a second to add delay to query\n",
    "  time.sleep(.100)"
   ]
  },
  {
   "cell_type": "code",
   "execution_count": 58,
   "metadata": {},
   "outputs": [
    {
     "data": {
      "text/html": [
       "<div>\n",
       "<style scoped>\n",
       "    .dataframe tbody tr th:only-of-type {\n",
       "        vertical-align: middle;\n",
       "    }\n",
       "\n",
       "    .dataframe tbody tr th {\n",
       "        vertical-align: top;\n",
       "    }\n",
       "\n",
       "    .dataframe thead th {\n",
       "        text-align: right;\n",
       "    }\n",
       "</style>\n",
       "<table border=\"1\" class=\"dataframe\">\n",
       "  <thead>\n",
       "    <tr style=\"text-align: right;\">\n",
       "      <th></th>\n",
       "      <th>bias</th>\n",
       "      <th>text</th>\n",
       "      <th>headline</th>\n",
       "      <th>source</th>\n",
       "      <th>sentiment</th>\n",
       "      <th>magnitude</th>\n",
       "    </tr>\n",
       "  </thead>\n",
       "  <tbody>\n",
       "    <tr>\n",
       "      <th>0</th>\n",
       "      <td>1</td>\n",
       "      <td>Jared Bernstein, a former chief economist to V...</td>\n",
       "      <td>b'How trend-riding Trump is taking credit for ...</td>\n",
       "      <td>Washington Post</td>\n",
       "      <td>0.0</td>\n",
       "      <td>12.400000</td>\n",
       "    </tr>\n",
       "    <tr>\n",
       "      <th>1</th>\n",
       "      <td>3</td>\n",
       "      <td>Liberals have opposed virtually every move Pre...</td>\n",
       "      <td>b'It\\xe2\\x80\\x99s Trump\\xe2\\x80\\x99s Economy Now'</td>\n",
       "      <td>Wall Street Journal- Editorial</td>\n",
       "      <td>-0.1</td>\n",
       "      <td>1.000000</td>\n",
       "    </tr>\n",
       "    <tr>\n",
       "      <th>2</th>\n",
       "      <td>2</td>\n",
       "      <td>CLOSE President Trump’s once bitter political ...</td>\n",
       "      <td>b'The Bubble: By undoing Obama accomplishments...</td>\n",
       "      <td>USA TODAY</td>\n",
       "      <td>0.0</td>\n",
       "      <td>17.799999</td>\n",
       "    </tr>\n",
       "    <tr>\n",
       "      <th>3</th>\n",
       "      <td>2</td>\n",
       "      <td>The attorneys for Michael Cohen, President Don...</td>\n",
       "      <td>b'Trump Lawyer Michael Cohen\\xe2\\x80\\x99s Atto...</td>\n",
       "      <td>Wall Street Journal- News</td>\n",
       "      <td>0.0</td>\n",
       "      <td>0.500000</td>\n",
       "    </tr>\n",
       "    <tr>\n",
       "      <th>4</th>\n",
       "      <td>1</td>\n",
       "      <td>Longtime Trump lawyer Michael Cohen is changin...</td>\n",
       "      <td>b'Reports suggest Michael Cohen is thinking of...</td>\n",
       "      <td>Vox</td>\n",
       "      <td>0.0</td>\n",
       "      <td>13.200000</td>\n",
       "    </tr>\n",
       "  </tbody>\n",
       "</table>\n",
       "</div>"
      ],
      "text/plain": [
       "   bias                                               text  \\\n",
       "0     1  Jared Bernstein, a former chief economist to V...   \n",
       "1     3  Liberals have opposed virtually every move Pre...   \n",
       "2     2  CLOSE President Trump’s once bitter political ...   \n",
       "3     2  The attorneys for Michael Cohen, President Don...   \n",
       "4     1  Longtime Trump lawyer Michael Cohen is changin...   \n",
       "\n",
       "                                            headline  \\\n",
       "0  b'How trend-riding Trump is taking credit for ...   \n",
       "1  b'It\\xe2\\x80\\x99s Trump\\xe2\\x80\\x99s Economy Now'   \n",
       "2  b'The Bubble: By undoing Obama accomplishments...   \n",
       "3  b'Trump Lawyer Michael Cohen\\xe2\\x80\\x99s Atto...   \n",
       "4  b'Reports suggest Michael Cohen is thinking of...   \n",
       "\n",
       "                           source  sentiment  magnitude  \n",
       "0                 Washington Post        0.0  12.400000  \n",
       "1  Wall Street Journal- Editorial       -0.1   1.000000  \n",
       "2                       USA TODAY        0.0  17.799999  \n",
       "3       Wall Street Journal- News        0.0   0.500000  \n",
       "4                             Vox        0.0  13.200000  "
      ]
     },
     "execution_count": 58,
     "metadata": {},
     "output_type": "execute_result"
    }
   ],
   "source": [
    "# Add sentiment information to data frame\n",
    "new = new.assign(sentiment = sentiment_list)\n",
    "new = new.assign(magnitude = magnitude_list)\n",
    "new.head()"
   ]
  },
  {
   "cell_type": "markdown",
   "metadata": {},
   "source": [
    "### Clean Up Data Frame for Analysis"
   ]
  },
  {
   "cell_type": "code",
   "execution_count": 59,
   "metadata": {
    "collapsed": true
   },
   "outputs": [],
   "source": [
    "# equalize distribution over each bias class\n",
    "center = new.loc[new['bias'] == 2][0:800]\n",
    "right = new.loc[new['bias'] == 3][0:800]\n",
    "left = new.loc[new['bias'] == 1][0:800]\n",
    "\n",
    "new = center.append(right, ignore_index=True)\n",
    "new = new.append(left, ignore_index=True)"
   ]
  },
  {
   "cell_type": "code",
   "execution_count": 60,
   "metadata": {
    "collapsed": true
   },
   "outputs": [],
   "source": [
    "# import key modules\n",
    "import re\n",
    "import string\n",
    "from nltk.corpus import stopwords\n",
    "from nltk.tokenize import RegexpTokenizer"
   ]
  },
  {
   "cell_type": "code",
   "execution_count": 61,
   "metadata": {
    "collapsed": true
   },
   "outputs": [],
   "source": [
    "# strip texts of punctuation, boilerplate, and stop words\n",
    "def text_prepare(text):\n",
    "    \"\"\"\n",
    "        text: a string\n",
    "        return: modified initial string\n",
    "    \"\"\"\n",
    "    text = text.lower()\n",
    "    text = text.replace('\\n',' ')\n",
    "    \n",
    "    letters = list(string.ascii_lowercase)\n",
    "    numbers = ['0','1','2','3','4','5','6','7','8','9']\n",
    "    banned = [\"’\",\"’\",\"“\",\"—\",\"”\",\"‘\",\"–\",'#','[','/','(',')','{','}','\\\\','[',']','|','@',',',';','+','-']\n",
    "    banned = ''.join(banned) + string.punctuation + ''.join(numbers)\n",
    "    boilerplate = ['  ','https','http','www', '’s', '―', '/', 'playback', 'get', 'mr', 'mrs', 'ms', 'dr', 'prof', 'news', 'report', 'unsubscribe', 'they', 'must', 'share', 'that', 'view', 'hide', 'copy', 'something', 'enlarge', 'reprint', 'read', '_', 'videos', 'autoplay', 'watched', 'press', '’ve', 'toggle', 'around', 'the', 's.', 'said', 'here©', 'ad', '#', 'andhis', 'click', 'r', 'device', 'contributed', 'advertisement', 'the washington', '&', 'follow', 'copyright', 'mrs.', 'photo', 'to', 'also', 'times', 'for', 'however', 'fox', 'this', 'copyright ©', 'ofs', 'just', 'wait', 'n’t', 'told', 'unsupported', 'i', 'caption', 'ms.', '’m', 'paste', '’re', 'replay', 'photos', 'mr.', '©', 'skip', 'watch', '2018', 'cut', 'llc', 'more', 'post', 'embed', 'blog', 'b.', 'associated', 'permission']\n",
    "    stop_list = set(stopwords.words('english') + boilerplate + letters)\n",
    "    \n",
    "    translation_table = dict.fromkeys(map(ord, banned), ' ')\n",
    "    text = text.translate(translation_table)\n",
    "    text = re.sub(' +',' ',text)\n",
    "    text = ' '.join([word for word in text.split() if word not in stop_list])\n",
    "    return text"
   ]
  },
  {
   "cell_type": "code",
   "execution_count": 62,
   "metadata": {},
   "outputs": [
    {
     "data": {
      "text/html": [
       "<div>\n",
       "<style scoped>\n",
       "    .dataframe tbody tr th:only-of-type {\n",
       "        vertical-align: middle;\n",
       "    }\n",
       "\n",
       "    .dataframe tbody tr th {\n",
       "        vertical-align: top;\n",
       "    }\n",
       "\n",
       "    .dataframe thead th {\n",
       "        text-align: right;\n",
       "    }\n",
       "</style>\n",
       "<table border=\"1\" class=\"dataframe\">\n",
       "  <thead>\n",
       "    <tr style=\"text-align: right;\">\n",
       "      <th></th>\n",
       "      <th>bias</th>\n",
       "      <th>text</th>\n",
       "      <th>headline</th>\n",
       "      <th>source</th>\n",
       "      <th>sentiment</th>\n",
       "      <th>magnitude</th>\n",
       "    </tr>\n",
       "  </thead>\n",
       "  <tbody>\n",
       "    <tr>\n",
       "      <th>0</th>\n",
       "      <td>2</td>\n",
       "      <td>close president trump bitter political enemy m...</td>\n",
       "      <td>bubble undoing obama accomplishments trump let...</td>\n",
       "      <td>USA TODAY</td>\n",
       "      <td>0.0</td>\n",
       "      <td>17.799999</td>\n",
       "    </tr>\n",
       "    <tr>\n",
       "      <th>1</th>\n",
       "      <td>2</td>\n",
       "      <td>attorneys michael cohen president donald trump...</td>\n",
       "      <td>trump lawyer michael cohen xe attorneys expect...</td>\n",
       "      <td>Wall Street Journal- News</td>\n",
       "      <td>0.0</td>\n",
       "      <td>0.500000</td>\n",
       "    </tr>\n",
       "    <tr>\n",
       "      <th>2</th>\n",
       "      <td>2</td>\n",
       "      <td>canada house commons monday unanimously condem...</td>\n",
       "      <td>canadian parliament condemns trump attacks tru...</td>\n",
       "      <td>The Hill</td>\n",
       "      <td>-0.3</td>\n",
       "      <td>6.500000</td>\n",
       "    </tr>\n",
       "    <tr>\n",
       "      <th>3</th>\n",
       "      <td>2</td>\n",
       "      <td>washington reuters senate vote soon week legis...</td>\n",
       "      <td>senate vote zte ban defense bill week</td>\n",
       "      <td>Reuters</td>\n",
       "      <td>-0.1</td>\n",
       "      <td>1.400000</td>\n",
       "    </tr>\n",
       "    <tr>\n",
       "      <th>4</th>\n",
       "      <td>2</td>\n",
       "      <td>unprecedented summit singapore donald trump ki...</td>\n",
       "      <td>trump kim begin new phase diplomacy</td>\n",
       "      <td>Wall Street Journal- News</td>\n",
       "      <td>0.1</td>\n",
       "      <td>1.400000</td>\n",
       "    </tr>\n",
       "  </tbody>\n",
       "</table>\n",
       "</div>"
      ],
      "text/plain": [
       "   bias                                               text  \\\n",
       "0     2  close president trump bitter political enemy m...   \n",
       "1     2  attorneys michael cohen president donald trump...   \n",
       "2     2  canada house commons monday unanimously condem...   \n",
       "3     2  washington reuters senate vote soon week legis...   \n",
       "4     2  unprecedented summit singapore donald trump ki...   \n",
       "\n",
       "                                            headline  \\\n",
       "0  bubble undoing obama accomplishments trump let...   \n",
       "1  trump lawyer michael cohen xe attorneys expect...   \n",
       "2  canadian parliament condemns trump attacks tru...   \n",
       "3              senate vote zte ban defense bill week   \n",
       "4                trump kim begin new phase diplomacy   \n",
       "\n",
       "                      source  sentiment  magnitude  \n",
       "0                  USA TODAY        0.0  17.799999  \n",
       "1  Wall Street Journal- News        0.0   0.500000  \n",
       "2                   The Hill       -0.3   6.500000  \n",
       "3                    Reuters       -0.1   1.400000  \n",
       "4  Wall Street Journal- News        0.1   1.400000  "
      ]
     },
     "execution_count": 62,
     "metadata": {},
     "output_type": "execute_result"
    }
   ],
   "source": [
    "# rewrite df with cleaned text\n",
    "for i in range(0, len(new)):\n",
    "  new.at[i,'text'] = text_prepare(new.at[i,'text'])\n",
    "  new.at[i,'headline'] = text_prepare(new.at[i,'headline'])\n",
    "  \n",
    "new.head()"
   ]
  },
  {
   "cell_type": "code",
   "execution_count": 23,
   "metadata": {
    "collapsed": true
   },
   "outputs": [],
   "source": [
    "# save cleaned file to csv\n",
    "new.to_csv('news-corpus-df-sent.csv', sep='\\t', encoding='utf-8')"
   ]
  },
  {
   "cell_type": "markdown",
   "metadata": {},
   "source": [
    "### Visualize Sentiment Across Bias Classes"
   ]
  },
  {
   "cell_type": "code",
   "execution_count": 63,
   "metadata": {
    "collapsed": true
   },
   "outputs": [],
   "source": [
    "#convert bias numbers to labels\n",
    "new['bias'] = new['bias'].replace({1: 'Left', 2:'Center', 3:'Right'})"
   ]
  },
  {
   "cell_type": "code",
   "execution_count": 64,
   "metadata": {
    "collapsed": true
   },
   "outputs": [],
   "source": [
    "import seaborn as sns\n",
    "import matplotlib.pyplot as plt"
   ]
  },
  {
   "cell_type": "code",
   "execution_count": 65,
   "metadata": {},
   "outputs": [
    {
     "name": "stderr",
     "output_type": "stream",
     "text": [
      "/usr/local/envs/py3env/lib/python3.5/site-packages/matplotlib/font_manager.py:1320: UserWarning: findfont: Font family ['sans-serif'] not found. Falling back to DejaVu Sans\n",
      "  (prop.get_family(), self.defaultFamily[fontext]))\n"
     ]
    },
    {
     "data": {
      "text/plain": [
       "<seaborn.axisgrid.FacetGrid at 0x7f473294a080>"
      ]
     },
     "execution_count": 65,
     "metadata": {},
     "output_type": "execute_result"
    },
    {
     "data": {
      "image/png": "[encoded data removed]",
      "text/plain": [
       "<matplotlib.figure.Figure at 0x7f4732947048>"
      ]
     },
     "metadata": {},
     "output_type": "display_data"
    }
   ],
   "source": [
    "#visualize sentiment in relation to bias\n",
    "g = sns.FacetGrid(data=new, col='bias')\n",
    "g.map(plt.hist, 'magnitude', bins=50)"
   ]
  },
  {
   "cell_type": "code",
   "execution_count": 66,
   "metadata": {},
   "outputs": [
    {
     "name": "stderr",
     "output_type": "stream",
     "text": [
      "/usr/local/envs/py3env/lib/python3.5/site-packages/seaborn/categorical.py:450: FutureWarning: remove_na is deprecated and is a private function. Do not use.\n",
      "  box_data = remove_na(group_data)\n"
     ]
    },
    {
     "data": {
      "text/plain": [
       "<matplotlib.axes._subplots.AxesSubplot at 0x7f47328d9cc0>"
      ]
     },
     "execution_count": 66,
     "metadata": {},
     "output_type": "execute_result"
    },
    {
     "name": "stderr",
     "output_type": "stream",
     "text": [
      "/usr/local/envs/py3env/lib/python3.5/site-packages/matplotlib/font_manager.py:1320: UserWarning: findfont: Font family ['sans-serif'] not found. Falling back to DejaVu Sans\n",
      "  (prop.get_family(), self.defaultFamily[fontext]))\n"
     ]
    },
    {
     "data": {
      "image/png": "[encoded data removed]",
      "text/plain": [
       "<matplotlib.figure.Figure at 0x7f4732761be0>"
      ]
     },
     "metadata": {},
     "output_type": "display_data"
    }
   ],
   "source": [
    "sns.boxplot(x='bias', y='magnitude', data=new)"
   ]
  },
  {
   "cell_type": "code",
   "execution_count": 67,
   "metadata": {},
   "outputs": [],
   "source": [
    "import numpy as np\n",
    "import pandas as pd\n",
    "import seaborn as sns\n",
    "import matplotlib.pyplot as plt"
   ]
  },
  {
   "cell_type": "code",
   "execution_count": 74,
   "metadata": {},
   "outputs": [],
   "source": [
    "  def densityplot(dimension):\n",
    "    # Initialize the FacetGrid object\n",
    "    sns.set(style=\"white\", rc={\"axes.facecolor\": (0, 0, 0, 0)})\n",
    "    pal = sns.cubehelix_palette(10, rot=-.25, light=.7)\n",
    "    g = sns.FacetGrid(new, row=\"bias\", hue=\"bias\", aspect=15, size=1, palette=pal)\n",
    "\n",
    "    # Draw the densities in a few steps\n",
    "    g.map(sns.kdeplot, dimension, clip_on=False, shade=True, alpha=1, lw=1.5, bw=.2)\n",
    "    g.map(sns.kdeplot, dimension, clip_on=False, color=\"w\", lw=2, bw=.2)\n",
    "    g.map(plt.axhline, y=0, lw=2, clip_on=False)\n",
    "\n",
    "    # Define and use a simple function to label the plot in axes coordinates\n",
    "    def label(x, color, label):\n",
    "      ax = plt.gca()\n",
    "      ax.text(0, .2, label, fontweight=\"bold\", color=color, \n",
    "            ha=\"left\", va=\"center\", transform=ax.transAxes)\n",
    "\n",
    "    g.map(label, dimension)\n",
    "\n",
    "    # Set the subplots to overlap\n",
    "    g.fig.subplots_adjust(hspace=-.25)\n",
    "\n",
    "    # Remove axes details that don't play will with overlap\n",
    "    g.set_titles(\"\")\n",
    "    g.set(yticks=[])\n",
    "    g.despine(bottom=True, left=True)\n",
    "    \n",
    "    return g"
   ]
  },
  {
   "cell_type": "code",
   "execution_count": 77,
   "metadata": {},
   "outputs": [
    {
     "name": "stderr",
     "output_type": "stream",
     "text": [
      "/usr/local/envs/py3env/lib/python3.5/site-packages/matplotlib/font_manager.py:1320: UserWarning: findfont: Font family ['sans-serif'] not found. Falling back to DejaVu Sans\n",
      "  (prop.get_family(), self.defaultFamily[fontext]))\n"
     ]
    },
    {
     "data": {
      "image/png": "[encoded data removed]",
      "text/plain": [
       "<matplotlib.figure.Figure at 0x7f47322bc160>"
      ]
     },
     "metadata": {},
     "output_type": "display_data"
    },
    {
     "data": {
      "image/png": "[encoded data removed]",
      "text/plain": [
       "<matplotlib.figure.Figure at 0x7f473244e828>"
      ]
     },
     "metadata": {},
     "output_type": "display_data"
    }
   ],
   "source": [
    "# Run plots\n",
    "sentiment_plot = densityplot('sentiment')\n",
    "magnitude_plot = densityplot('magnitude')"
   ]
  },
  {
   "cell_type": "code",
   "execution_count": null,
   "metadata": {},
   "outputs": [],
   "source": [
    "# Save plots\n",
    "sentiment_plot.savefig(\"sent_score_plot.png\")\n",
    "magnitude_plot.savefig(\"sent_mag_plot.png\")"
   ]
  }
 ],
 "metadata": {
  "kernelspec": {
   "display_name": "Python 3",
   "language": "python",
   "name": "python3"
  },
  "language_info": {
   "codemirror_mode": {
    "name": "ipython",
    "version": 3
   },
   "file_extension": ".py",
   "mimetype": "text/x-python",
   "name": "python",
   "nbconvert_exporter": "python",
   "pygments_lexer": "ipython3",
   "version": "3.6.5"
  }
 },
 "nbformat": 4,
 "nbformat_minor": 2
}
