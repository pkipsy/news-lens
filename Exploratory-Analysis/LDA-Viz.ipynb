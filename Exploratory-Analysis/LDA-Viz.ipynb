{
 "cells": [
  {
   "cell_type": "markdown",
   "metadata": {},
   "source": [
    "# Visualize Topic Models with PyLDAViz"
   ]
  },
  {
   "cell_type": "markdown",
   "metadata": {},
   "source": [
    "This notebook is modified from https://github.com/bmabey/pyLDAvis/blob/master/notebooks/sklearn.ipynb"
   ]
  },
  {
   "cell_type": "markdown",
   "metadata": {},
   "source": [
    "### Install Required Modules"
   ]
  },
  {
   "cell_type": "code",
   "execution_count": null,
   "metadata": {
    "collapsed": false
   },
   "outputs": [],
   "source": [
    "!pip install pyldavis"
   ]
  },
  {
   "cell_type": "markdown",
   "metadata": {},
   "source": [
    "### Load Cleaned Political News Data"
   ]
  },
  {
   "cell_type": "code",
   "execution_count": null,
   "metadata": {
    "collapsed": false
   },
   "outputs": [],
   "source": [
    "# import pandas\n",
    "import pandas as pd\n",
    "\n",
    "# read file from csv\n",
    "df = pd.read_csv('news-corpus-df-clean.csv', sep='\\t', encoding='utf-8')"
   ]
  },
  {
   "cell_type": "code",
   "execution_count": null,
   "metadata": {
    "collapsed": false
   },
   "outputs": [],
   "source": [
    "def read_data(filename):\n",
    "    # read in csv\n",
    "    df = pd.read_csv(filename, sep='\\t', encoding='utf-8')\n",
    "    \n",
    "    #limit df content to bias and text\n",
    "    df = df.loc[:, ['bias', 'text']]\n",
    "    \n",
    "    return df"
   ]
  },
  {
   "cell_type": "code",
   "execution_count": null,
   "metadata": {
    "collapsed": false
   },
   "outputs": [],
   "source": [
    "new = read_data('news-corpus-df-clean.csv')\n",
    "new.head()"
   ]
  },
  {
   "cell_type": "markdown",
   "metadata": {},
   "source": [
    "### Define Each Bias Class as a Separate Dataframe"
   ]
  },
  {
   "cell_type": "code",
   "execution_count": null,
   "metadata": {
    "collapsed": false
   },
   "outputs": [],
   "source": [
    "# define each bias class as a df\n",
    "center = new.loc[new['bias'] == 2]\n",
    "right = new.loc[new['bias'] == 3]\n",
    "left = new.loc[new['bias'] == 1]"
   ]
  },
  {
   "cell_type": "code",
   "execution_count": null,
   "metadata": {
    "collapsed": false
   },
   "outputs": [],
   "source": [
    "# delimit each df to just its text\n",
    "center_data = center['text'].values\n",
    "right_data = right['text'].values\n",
    "left_data = left['text'].values"
   ]
  },
  {
   "cell_type": "markdown",
   "metadata": {},
   "source": [
    "### Load LDA Models with pyLDAvis"
   ]
  },
  {
   "cell_type": "code",
   "execution_count": null,
   "metadata": {
    "collapsed": false
   },
   "outputs": [],
   "source": [
    "from __future__ import print_function"
   ]
  },
  {
   "cell_type": "code",
   "execution_count": null,
   "metadata": {
    "collapsed": false
   },
   "outputs": [],
   "source": [
    "import  pyLDAvis\n",
    "import pyLDAvis.sklearn\n",
    "pyLDAvis.enable_notebook()"
   ]
  },
  {
   "cell_type": "code",
   "execution_count": null,
   "metadata": {
    "collapsed": false
   },
   "outputs": [],
   "source": [
    "from sklearn.feature_extraction.text import CountVectorizer, TfidfVectorizer\n",
    "from sklearn.decomposition import LatentDirichletAllocation"
   ]
  },
  {
   "cell_type": "code",
   "execution_count": null,
   "metadata": {
    "collapsed": false
   },
   "outputs": [],
   "source": [
    "# define term frequency model\n",
    "def LDA_tf_model(data_file):\n",
    "  # LDA model using count vectorizer\n",
    "  tf_vectorizer = CountVectorizer(strip_accents = 'unicode', max_df = 0.5, min_df = 10)\n",
    "  dtm_tf = tf_vectorizer.fit_transform(data_file)\n",
    "  lda_tf = LatentDirichletAllocation(n_topics=20, random_state=0)\n",
    "  lda_tf.fit(dtm_tf)\n",
    "  return lda_tf, dtm_tf, tf_vectorizer\n",
    "\n",
    "# define TF-IDF model\n",
    "def LDA_tfidf_model(data_file):\n",
    "  # LDA model using tfidf vectorizer\n",
    "  tfidf_vectorizer  = TfidfVectorizer(**tf_vectorizer.get_params())\n",
    "  dtm_tfidf = tfidf_vectorizer.fit_transform(data_file)\n",
    "  lda_tfidf = LatentDirichletAllocation(n_topics=20, random_state=0)\n",
    "  lda_tfidf.fit(dtm_tfidf)\n",
    "  return lda_tfidf, dtm_tfidf, tfidf_vectorizer"
   ]
  },
  {
   "cell_type": "code",
   "execution_count": null,
   "metadata": {
    "collapsed": false
   },
   "outputs": [
    {
     "name": "stderr",
     "output_type": "stream",
     "text": [
      "/usr/local/envs/py2env/lib/python2.7/site-packages/sklearn/decomposition/online_lda.py:294: DeprecationWarning: n_topics has been renamed to n_components in version 0.19 and will be removed in 0.21\n",
      "  DeprecationWarning)\n",
      "/usr/local/envs/py2env/lib/python2.7/site-packages/sklearn/decomposition/online_lda.py:536: DeprecationWarning: The default value for 'learning_method' will be changed from 'online' to 'batch' in the release 0.20. This warning was introduced in 0.18.\n",
      "  DeprecationWarning)\n",
      "/usr/local/envs/py2env/lib/python2.7/site-packages/sklearn/decomposition/online_lda.py:294: DeprecationWarning: n_topics has been renamed to n_components in version 0.19 and will be removed in 0.21\n",
      "  DeprecationWarning)\n",
      "/usr/local/envs/py2env/lib/python2.7/site-packages/sklearn/decomposition/online_lda.py:536: DeprecationWarning: The default value for 'learning_method' will be changed from 'online' to 'batch' in the release 0.20. This warning was introduced in 0.18.\n",
      "  DeprecationWarning)\n"
     ]
    }
   ],
   "source": [
    "# run tf model over each of the dataframes\n",
    "center_lda_tf, center_dtm_tf, center_tf_vectorizer = LDA_tf_model(center_data)\n",
    "right_lda_tf, right_dtm_tf, right_tf_vectorizer = LDA_tf_model(right_data)\n",
    "left_lda_tf, left_dtm_tf, left_tf_vectorizer = LDA_tf_model(left_data)"
   ]
  },
  {
   "cell_type": "markdown",
   "metadata": {},
   "source": [
    "### Visualize Topic Models for Each Bias Set"
   ]
  },
  {
   "cell_type": "code",
   "execution_count": null,
   "metadata": {
    "collapsed": false
   },
   "outputs": [],
   "source": [
    "center_viz = pyLDAvis.sklearn.prepare(center_lda_tf, center_dtm_tf, center_tf_vectorizer)\n",
    "pyLDAvis.save_html(center_viz, 'center_viz.html')"
   ]
  },
  {
   "cell_type": "code",
   "execution_count": null,
   "metadata": {
    "collapsed": false
   },
   "outputs": [],
   "source": [
    "right_viz = pyLDAvis.sklearn.prepare(right_lda_tf, right_dtm_tf, right_tf_vectorizer)\n",
    "pyLDAvis.save_html(right_viz, 'right_viz.html')"
   ]
  },
  {
   "cell_type": "code",
   "execution_count": null,
   "metadata": {
    "collapsed": false
   },
   "outputs": [],
   "source": [
    "left_viz = pyLDAvis.sklearn.prepare(left_lda_tf, left_dtm_tf, left_tf_vectorizer)\n",
    "pyLDAvis.save_html(left_viz, 'left_viz.html')"
   ]
  }
 ],
 "metadata": {
  "kernelspec": {
   "display_name": "Python 2",
   "language": "python",
   "name": "python2"
  },
  "language_info": {
   "codemirror_mode": {
    "name": "ipython",
    "version": 2
   },
   "file_extension": ".py",
   "mimetype": "text/x-python",
   "name": "python",
   "nbconvert_exporter": "python",
   "pygments_lexer": "ipython2",
   "version": "2.7.15"
  }
 },
 "nbformat": 4,
 "nbformat_minor": 2
}
