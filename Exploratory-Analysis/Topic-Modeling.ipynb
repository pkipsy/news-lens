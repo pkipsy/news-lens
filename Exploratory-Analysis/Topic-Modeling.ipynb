{
 "cells": [
  {
   "cell_type": "markdown",
   "metadata": {},
   "source": [
    "# Topic Modeling of Political News Articles"
   ]
  },
  {
   "cell_type": "markdown",
   "metadata": {},
   "source": [
    "### Text Preprocessing"
   ]
  },
  {
   "cell_type": "code",
   "execution_count": 135,
   "metadata": {},
   "outputs": [],
   "source": [
    "# import required modules\n",
    "import nltk\n",
    "import pandas as pd\n",
    "from gensim import corpora, models, similarities"
   ]
  },
  {
   "cell_type": "code",
   "execution_count": 117,
   "metadata": {},
   "outputs": [],
   "source": [
    "# read file from csv\n",
    "df = pd.read_csv('news-corpus-df.csv')"
   ]
  },
  {
   "cell_type": "code",
   "execution_count": 118,
   "metadata": {},
   "outputs": [
    {
     "data": {
      "text/html": [
       "<div>\n",
       "<style scoped>\n",
       "    .dataframe tbody tr th:only-of-type {\n",
       "        vertical-align: middle;\n",
       "    }\n",
       "\n",
       "    .dataframe tbody tr th {\n",
       "        vertical-align: top;\n",
       "    }\n",
       "\n",
       "    .dataframe thead th {\n",
       "        text-align: right;\n",
       "    }\n",
       "</style>\n",
       "<table border=\"1\" class=\"dataframe\">\n",
       "  <thead>\n",
       "    <tr style=\"text-align: right;\">\n",
       "      <th></th>\n",
       "      <th>date</th>\n",
       "      <th>bias</th>\n",
       "      <th>text</th>\n",
       "    </tr>\n",
       "  </thead>\n",
       "  <tbody>\n",
       "    <tr>\n",
       "      <th>0</th>\n",
       "      <td>2018-06-13</td>\n",
       "      <td>Left</td>\n",
       "      <td>Jared Bernstein, a former chief economist to V...</td>\n",
       "    </tr>\n",
       "    <tr>\n",
       "      <th>1</th>\n",
       "      <td>2018-06-13</td>\n",
       "      <td>Right</td>\n",
       "      <td>Liberals have opposed virtually every move Pre...</td>\n",
       "    </tr>\n",
       "    <tr>\n",
       "      <th>2</th>\n",
       "      <td>2018-06-13</td>\n",
       "      <td>Center</td>\n",
       "      <td>CLOSE President Trump’s once bitter political ...</td>\n",
       "    </tr>\n",
       "    <tr>\n",
       "      <th>3</th>\n",
       "      <td>2018-06-13</td>\n",
       "      <td>Center</td>\n",
       "      <td>The attorneys for Michael Cohen, President Don...</td>\n",
       "    </tr>\n",
       "    <tr>\n",
       "      <th>4</th>\n",
       "      <td>2018-06-13</td>\n",
       "      <td>Left</td>\n",
       "      <td>Longtime Trump lawyer Michael Cohen is changin...</td>\n",
       "    </tr>\n",
       "  </tbody>\n",
       "</table>\n",
       "</div>"
      ],
      "text/plain": [
       "         date     bias                                               text\n",
       "0  2018-06-13    Left   Jared Bernstein, a former chief economist to V...\n",
       "1  2018-06-13   Right   Liberals have opposed virtually every move Pre...\n",
       "2  2018-06-13  Center   CLOSE President Trump’s once bitter political ...\n",
       "3  2018-06-13  Center   The attorneys for Michael Cohen, President Don...\n",
       "4  2018-06-13    Left   Longtime Trump lawyer Michael Cohen is changin..."
      ]
     },
     "execution_count": 118,
     "metadata": {},
     "output_type": "execute_result"
    }
   ],
   "source": [
    "# drop articles from df that have less than 200 words of text\n",
    "new_df = df.drop(df[df.text_len < 250].index)\n",
    "\n",
    "# subset article publication date, source bias, and article text\n",
    "new_df = new_df.loc[:, ['date', 'bias', 'text']]\n",
    "new_df.head()"
   ]
  },
  {
   "cell_type": "code",
   "execution_count": 182,
   "metadata": {},
   "outputs": [],
   "source": [
    "# import modules from nltk\n",
    "from nltk.corpus import stopwords\n",
    "from nltk.tokenize import RegexpTokenizer\n",
    "\n",
    "# create a stop word list\n",
    "political_names = ['rosenstein','assad', 'conway', 'cruz', 'jones', 'moore', 'franken', 'sanders', 'roy', 'conyers', 'putin', 'mccain', 'obama', 'jong', 'un', 'gates', 'nunes', 'powell', 'clinton', 'bill', 'trump', 'comey', 'kim', 'sessions', 'flynn', 'mueller', 'mr', 'mrs', 'hillary', 'tillerson', 'gorsuch', 'bannon', 'manafort', 'mcconnell', 'spicer', 'pence', 'cohen']\n",
    "geography = ['south','north','korea','puerto','rico','russia','russian','pyongyang']\n",
    "specific = ['percent']\n",
    "stop_list = set(stopwords.words('english') + jockers_stop + political_names + geography + specific)\n",
    "\n",
    "# create a tokenizer\n",
    "re_tokenizer = RegexpTokenizer(r'\\w+')\n",
    "    \n",
    "# very simple preprocessing \n",
    "def preprocess(text):\n",
    "    \n",
    "    collection = []\n",
    "    \n",
    "    for i in range(0,len(text)):\n",
    "\n",
    "        article = text[i].lower()\n",
    "        \n",
    "        test_tokens = re_tokenizer.tokenize(article)\n",
    "\n",
    "        clean_tokens = []\n",
    "        for t in test_tokens:\n",
    "            if t not in stop_list:\n",
    "                clean_tokens.append(t)\n",
    "                \n",
    "        collection.append(clean_tokens)\n",
    "        \n",
    "    return collection"
   ]
  },
  {
   "cell_type": "code",
   "execution_count": 183,
   "metadata": {},
   "outputs": [],
   "source": [
    "class TopicModel:\n",
    "    \"\"\" Prepares data for topic modeling with gensim \"\"\"\n",
    "\n",
    "    def __init__(self, init_bias):\n",
    "        # Subset the data set according to source bias, convert text column into list of texts\n",
    "        self.criteria = new_df['bias'] == init_bias+ ' '\n",
    "        self.bias = new_df[self.criteria]\n",
    "        self.text = self.bias['text'].tolist()\n",
    "        \n",
    "    def get_info(self):\n",
    "        return self.criteria.head(), self.bias.head(), self.text[0:2]\n",
    "    \n",
    "    # Run preprocessing over texts\n",
    "    def edit(self):\n",
    "        self.edit = preprocess(self.text)\n",
    "        \n",
    "    def create(self, init_bias):\n",
    "        self.dict = corpora.Dictionary(self.edit)\n",
    "        self.dict.save('/tmp/'+init_bias+'dict')\n",
    "        self.corpus = [self.dict.doc2bow(text) for text in self.edit]\n",
    "        return self.corpus\n",
    "    \n",
    "    # initialize a TFIDF model\n",
    "    def tfidf_model(self):\n",
    "        self.tfidf = models.TfidfModel(self.corpus)\n",
    "        self.corpus_tfidf = self.tfidf[self.corpus]\n",
    "        return self.tfidf, self.corpus_tfidf\n",
    "    \n",
    "    # initialize an LSI transformation\n",
    "    def lsi(self, num):\n",
    "        self.lsi = models.LsiModel(self.corpus_tfidf, id2word=self.dict, num_topics=num) \n",
    "        self.corpus_lsi = self.lsi[self.corpus_tfidf]\n",
    "        return self.lsi, self.corpus_lsi"
   ]
  },
  {
   "cell_type": "code",
   "execution_count": 185,
   "metadata": {},
   "outputs": [
    {
     "data": {
      "text/plain": [
       "[(0,\n",
       "  '0.094*\"republicans\" + 0.093*\"senate\" + 0.089*\"house\" + 0.087*\"tax\" + 0.086*\"health\" + 0.080*\"democrats\" + 0.078*\"campaign\" + 0.078*\"fbi\" + 0.077*\"care\" + 0.073*\"investigation\"'),\n",
       " (1,\n",
       "  '-0.252*\"tax\" + -0.237*\"health\" + -0.226*\"obamacare\" + -0.199*\"care\" + -0.186*\"repeal\" + -0.157*\"insurance\" + 0.151*\"fbi\" + -0.150*\"republicans\" + -0.146*\"medicaid\" + 0.137*\"investigation\"'),\n",
       " (2,\n",
       "  '0.230*\"fbi\" + 0.223*\"investigation\" + -0.220*\"nuclear\" + -0.170*\"korean\" + -0.132*\"missile\" + 0.123*\"intelligence\" + -0.123*\"iran\" + -0.112*\"china\" + 0.107*\"memo\" + 0.104*\"committee\"'),\n",
       " (3,\n",
       "  '0.244*\"nuclear\" + 0.189*\"korean\" + -0.182*\"voters\" + -0.172*\"poll\" + 0.146*\"missile\" + 0.139*\"iran\" + -0.138*\"convention\" + 0.109*\"sanctions\" + -0.108*\"party\" + 0.108*\"china\"'),\n",
       " (4,\n",
       "  '-0.306*\"daca\" + -0.249*\"court\" + -0.197*\"immigration\" + -0.185*\"ban\" + 0.160*\"tax\" + -0.147*\"dreamers\" + -0.144*\"immigrants\" + 0.140*\"nuclear\" + -0.130*\"order\" + 0.129*\"korean\"'),\n",
       " (5,\n",
       "  '0.522*\"tax\" + 0.191*\"rate\" + 0.155*\"taxes\" + 0.136*\"income\" + -0.117*\"obamacare\" + -0.106*\"health\" + 0.105*\"growth\" + 0.101*\"000\" + -0.098*\"repeal\" + 0.094*\"deduction\"'),\n",
       " (6,\n",
       "  '-0.275*\"daca\" + 0.212*\"police\" + 0.199*\"gun\" + -0.151*\"immigration\" + -0.150*\"dreamers\" + 0.140*\"shooting\" + -0.137*\"border\" + 0.130*\"school\" + -0.129*\"poll\" + 0.128*\"hide\"'),\n",
       " (7,\n",
       "  '0.295*\"court\" + 0.235*\"ban\" + 0.178*\"poll\" + 0.158*\"supreme\" + 0.155*\"voters\" + -0.152*\"daca\" + 0.140*\"travel\" + 0.135*\"order\" + -0.120*\"dreamers\" + -0.118*\"border\"'),\n",
       " (8,\n",
       "  '-0.214*\"korean\" + -0.203*\"nuclear\" + -0.180*\"daca\" + -0.174*\"missile\" + -0.162*\"gun\" + 0.154*\"trade\" + 0.137*\"climate\" + -0.132*\"test\" + 0.112*\"ban\" + 0.104*\"paris\"'),\n",
       " (9,\n",
       "  '-0.227*\"gun\" + -0.222*\"tax\" + 0.198*\"storm\" + 0.185*\"hide\" + 0.163*\"caption\" + 0.154*\"photos\" + 0.150*\"health\" + 0.140*\"hurricane\" + 0.124*\"emails\" + 0.121*\"insurance\"')]"
      ]
     },
     "execution_count": 185,
     "metadata": {},
     "output_type": "execute_result"
    }
   ],
   "source": [
    "# Topic Model for Liberal Media\n",
    "# health care, china, iran\n",
    "liberal = TopicModel('Left')\n",
    "liberal.edit()\n",
    "liberal.create('Left')\n",
    "liberal.tfidf_model()\n",
    "liberal_model, liberal_model_corpus = liberal.lsi(10)\n",
    "liberal_model.print_topics()"
   ]
  },
  {
   "cell_type": "code",
   "execution_count": 186,
   "metadata": {},
   "outputs": [
    {
     "data": {
      "text/plain": [
       "[(0,\n",
       "  '0.114*\"tax\" + 0.098*\"senate\" + 0.092*\"obamacare\" + 0.086*\"republicans\" + 0.085*\"house\" + 0.080*\"fbi\" + 0.080*\"democrats\" + 0.077*\"u\" + 0.076*\"campaign\" + 0.073*\"health\"'),\n",
       " (1,\n",
       "  '0.301*\"tax\" + 0.274*\"obamacare\" + 0.175*\"repeal\" + 0.169*\"health\" + -0.168*\"fbi\" + 0.153*\"plan\" + 0.147*\"republicans\" + 0.138*\"care\" + 0.134*\"senate\" + 0.127*\"insurance\"'),\n",
       " (2,\n",
       "  '0.253*\"fbi\" + -0.215*\"nuclear\" + -0.174*\"korean\" + 0.173*\"investigation\" + -0.154*\"china\" + -0.139*\"u\" + -0.135*\"missile\" + 0.123*\"intelligence\" + -0.109*\"military\" + 0.107*\"memo\"'),\n",
       " (3,\n",
       "  '-0.267*\"tax\" + -0.176*\"china\" + -0.176*\"nuclear\" + 0.169*\"court\" + -0.166*\"korean\" + 0.144*\"police\" + 0.121*\"gun\" + -0.120*\"trade\" + 0.118*\"immigration\" + -0.116*\"missile\"'),\n",
       " (4,\n",
       "  '0.356*\"tax\" + -0.177*\"daca\" + 0.152*\"police\" + -0.136*\"border\" + -0.126*\"court\" + -0.125*\"dreamers\" + -0.125*\"immigration\" + -0.112*\"schumer\" + 0.106*\"taxes\" + -0.106*\"obamacare\"'),\n",
       " (5,\n",
       "  '-0.365*\"tax\" + 0.247*\"obamacare\" + -0.169*\"court\" + -0.158*\"daca\" + 0.153*\"health\" + 0.152*\"repeal\" + -0.131*\"immigration\" + 0.122*\"care\" + -0.111*\"border\" + 0.111*\"insurance\"'),\n",
       " (6,\n",
       "  '0.225*\"court\" + 0.152*\"ban\" + -0.141*\"border\" + 0.138*\"police\" + 0.122*\"obamacare\" + 0.122*\"order\" + 0.117*\"fbi\" + -0.115*\"wall\" + -0.110*\"party\" + 0.109*\"gun\"'),\n",
       " (7,\n",
       "  '-0.248*\"police\" + 0.242*\"court\" + -0.166*\"border\" + 0.131*\"supreme\" + -0.125*\"shooting\" + -0.122*\"dreamers\" + -0.112*\"schumer\" + -0.109*\"wall\" + -0.107*\"officers\" + -0.102*\"shutdown\"'),\n",
       " (8,\n",
       "  '0.306*\"trade\" + 0.282*\"tariffs\" + -0.230*\"tax\" + 0.223*\"china\" + -0.207*\"nuclear\" + -0.168*\"korean\" + -0.134*\"missile\" + 0.117*\"obamacare\" + 0.109*\"steel\" + 0.098*\"aluminum\"'),\n",
       " (9,\n",
       "  '-0.257*\"israel\" + 0.221*\"china\" + 0.186*\"gun\" + -0.161*\"jerusalem\" + 0.148*\"korean\" + 0.129*\"tariffs\" + 0.126*\"trade\" + 0.120*\"nuclear\" + -0.119*\"palestinian\" + -0.112*\"israeli\"')]"
      ]
     },
     "execution_count": 186,
     "metadata": {},
     "output_type": "execute_result"
    }
   ],
   "source": [
    "# Topic Model for Liberal Media\n",
    "conservative = TopicModel('Right')\n",
    "conservative.edit()\n",
    "conservative.create('Right')\n",
    "conservative.tfidf_model()\n",
    "conservative_model, conservative_model_corpus = conservative.lsi(10)\n",
    "conservative_model.print_topics()"
   ]
  }
 ],
 "metadata": {
  "kernelspec": {
   "display_name": "Python 3",
   "language": "python",
   "name": "python3"
  },
  "language_info": {
   "codemirror_mode": {
    "name": "ipython",
    "version": 3
   },
   "file_extension": ".py",
   "mimetype": "text/x-python",
   "name": "python",
   "nbconvert_exporter": "python",
   "pygments_lexer": "ipython3",
   "version": "3.6.5"
  }
 },
 "nbformat": 4,
 "nbformat_minor": 2
}
